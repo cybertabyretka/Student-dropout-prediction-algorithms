{
 "cells": [
  {
   "cell_type": "code",
   "execution_count": 1,
   "id": "a1b4deca-449b-4412-883c-d99b96f76cf2",
   "metadata": {},
   "outputs": [],
   "source": [
    "import pandas as pd\n",
    "import math\n",
    "import numpy as np"
   ]
  },
  {
   "cell_type": "code",
   "execution_count": 2,
   "id": "b55ad542-c78b-4cc7-9458-b23519e3220a",
   "metadata": {},
   "outputs": [],
   "source": [
    "def save_dataset(dataset, path, sep=';', index=False, encoding='utf-8-sig'):\n",
    "    dataset.to_csv(path, sep=sep, index=index, encoding=encoding)\n",
    "\n",
    "def read_dataset(path, sep=';', encoding='utf-8-sig', low_memory=False):\n",
    "    return pd.read_csv(path, sep=sep, encoding=encoding, low_memory=low_memory)\n",
    "\n",
    "df = read_dataset('../../data/datasets/dataset_1_3.csv')"
   ]
  },
  {
   "cell_type": "code",
   "execution_count": 3,
   "id": "fbcc1489-d154-415a-9acb-1ffafaaad3c0",
   "metadata": {},
   "outputs": [
    {
     "name": "stderr",
     "output_type": "stream",
     "text": [
      "C:\\Users\\333\\AppData\\Local\\Temp\\ipykernel_25328\\1376014555.py:1: UserWarning: Parsing dates in %d.%m.%Y %H:%M format when dayfirst=False (the default) was specified. Pass `dayfirst=True` or specify a format to silence this warning.\n",
      "  df[\"Дата получения оценки\"] = pd.to_datetime(df[\"Дата получения оценки\"], errors=\"coerce\")\n"
     ]
    }
   ],
   "source": [
    "df[\"Дата получения оценки\"] = pd.to_datetime(df[\"Дата получения оценки\"], errors=\"coerce\")\n",
    "\n",
    "df_1_1 = df[\n",
    "    (df[\"Сквозной семестр\"] < 3) &\n",
    "    (df[\"Год начала обучения\"] == 2023) &\n",
    "    (df[\"Дата получения оценки\"] < \"2024-09-01\")\n",
    "].copy()"
   ]
  },
  {
   "cell_type": "code",
   "execution_count": 4,
   "id": "b49d06f3-4b81-4ff4-8d60-2f3e55994999",
   "metadata": {},
   "outputs": [],
   "source": [
    "df_1_2 = df_1_1[df_1_1['Оценка'] != 'уваж.']\n",
    "df_1_2 = df_1_2[df_1_2[\"Оценка\"] != \"невбрн.\"]"
   ]
  },
  {
   "cell_type": "code",
   "execution_count": 5,
   "id": "31f9c202-f8f1-4ede-a7c6-be63904d2533",
   "metadata": {},
   "outputs": [],
   "source": [
    "is_na = {'зач.': 70, 'неуваж.': 0, 'недсд.': 0, '4': 70, 'недоп.': 0, '5': 90, 'незач.': 20, '2': 20, '3': 50}\n",
    "\n",
    "df_1_2[\"Балл\"] = df_1_2[\"Балл\"].fillna(df_1_2[\"Оценка\"].map(is_na))"
   ]
  },
  {
   "cell_type": "code",
   "execution_count": 6,
   "id": "5a3e3366-bc45-4b42-850c-3ab071d469ed",
   "metadata": {},
   "outputs": [],
   "source": [
    "retries_count = df_1_2.groupby([\"UUID студента\", \"Наименование дисциплины\"]).size().reset_index(name=\"Попытки\")\n",
    "df_1_3 = df_1_2.loc[\n",
    "    df_1_2.groupby([\"UUID студента\", \"Наименование дисциплины\"])[\"Балл\"].idxmax()\n",
    "].reset_index(drop=True)\n",
    "df_1_3 = df_1_3.merge(retries_count, on=[\"UUID студента\", \"Наименование дисциплины\"])\n",
    "df_1_3[\"Количество пересдач\"] = df_1_3[\"Попытки\"] - 1\n",
    "df_1_3.drop(columns=[\"Попытки\"], inplace=True)"
   ]
  },
  {
   "cell_type": "code",
   "execution_count": 7,
   "id": "c0bad2f6-27ec-4955-aa77-88450c24b286",
   "metadata": {},
   "outputs": [],
   "source": [
    "total_retries = df_1_3.groupby(\"UUID студента\")[\"Количество пересдач\"].sum().reset_index(\n",
    "    name=\"Общее количество пересдач\"\n",
    ")\n",
    "\n",
    "df_1_3 = df_1_3.merge(total_retries, on=\"UUID студента\", how=\"left\")"
   ]
  },
  {
   "cell_type": "code",
   "execution_count": 8,
   "id": "66aafdba-c40f-45ce-91e8-ef205c0d7831",
   "metadata": {},
   "outputs": [],
   "source": [
    "df_1_4 = df_1_3.drop(columns=[\"Количество пересдач\", \"Наименование дисциплины + семестр\"]).copy()"
   ]
  },
  {
   "cell_type": "code",
   "execution_count": 9,
   "id": "e76328e3-22d2-4fcb-ab40-d3f8292b4f82",
   "metadata": {},
   "outputs": [],
   "source": [
    "mask = (df[\"Сквозной семестр\"] > 2) & (df[\"Состояние студента\"] != \"Активный\")\n",
    "students_to_activate = df.loc[mask, \"UUID студента\"].unique()\n",
    "\n",
    "df_1_4.loc[df_1_4[\"UUID студента\"].isin(students_to_activate), \"Состояние студента\"] = \"Активный\""
   ]
  },
  {
   "cell_type": "code",
   "execution_count": 10,
   "id": "7b1e7292-e854-4c6a-a71d-5e9cad34d6dc",
   "metadata": {},
   "outputs": [],
   "source": [
    "debt_grades = ['неуваж.', 'недсд.', 'недоп.', 'незач.', '2']\n",
    "\n",
    "df_1_5 = df_1_4.copy()\n",
    "\n",
    "df_1_5['is_debt'] = df_1_5['Оценка'].isin(debt_grades)\n",
    "\n",
    "total_debts_per_student = (\n",
    "    df_1_5.groupby(\"UUID студента\")['is_debt']\n",
    "    .sum()\n",
    "    .reset_index(name='Общее количество долгов')\n",
    ")\n",
    "\n",
    "total_debts_per_student['Общее количество долгов'] = total_debts_per_student[\n",
    "    'Общее количество долгов'\n",
    "].astype(int)\n",
    "\n",
    "df_1_5.drop(columns=['is_debt'], inplace=True)\n",
    "\n",
    "df_1_5 = df_1_5.merge(total_debts_per_student, on=\"UUID студента\", how='left')\n",
    "\n",
    "if 'Количество долгов' in df_1_5.columns:\n",
    "    df_1_5.drop(columns=['Количество долгов'], inplace=True)"
   ]
  },
  {
   "cell_type": "code",
   "execution_count": 11,
   "id": "9fc83489-bd5d-4fb7-9baa-9edc7abbbd4d",
   "metadata": {},
   "outputs": [],
   "source": [
    "df_1_6 = df_1_5.copy()"
   ]
  },
  {
   "cell_type": "code",
   "execution_count": 12,
   "id": "6e9e9e8b-8a25-4b09-990d-1a3b47ba8118",
   "metadata": {},
   "outputs": [],
   "source": [
    "def power_penalty_score(student_scores, subject_stats, p=2.0):\n",
    "    total_score = 0\n",
    "    subject_count = 0\n",
    "\n",
    "    for subject, student_score in student_scores.items():\n",
    "        stats = subject_stats[subject]\n",
    "        scores = stats['scores']\n",
    "        total_students = stats['total_students']\n",
    "\n",
    "        non_zero_scores = [s for s in scores if s > 0]\n",
    "        num_fails = total_students - len(non_zero_scores)\n",
    "\n",
    "        if len(non_zero_scores) == 0 or total_students == 0:\n",
    "            continue\n",
    "\n",
    "        mean_clean = sum(non_zero_scores) / len(non_zero_scores)\n",
    "        fail_ratio = num_fails / total_students\n",
    "\n",
    "        if student_score < 40:\n",
    "            if 1 / (fail_ratio + 1e-6) <= 0:\n",
    "                print(1 / (fail_ratio + 1e-6))\n",
    "                print(f'fail_ratio: {fail_ratio}')\n",
    "                print(f'num_fails: {num_fails}')\n",
    "                print(f'non_zero_scores: {len(non_zero_scores)}')\n",
    "                print(f'total_students: {total_students}')\n",
    "                print(f\"subject: {subject}\")\n",
    "            multiplier = 1 + math.log(1 / (fail_ratio + 1e-6))\n",
    "            adjusted = (mean_clean ** p) * multiplier\n",
    "        else:\n",
    "            delta = mean_clean - student_score\n",
    "            signed_power_delta = math.copysign(abs(delta) ** p, delta)\n",
    "            adjusted = signed_power_delta * fail_ratio\n",
    "\n",
    "        total_score += adjusted\n",
    "        subject_count += 1\n",
    "\n",
    "    if subject_count == 0:\n",
    "        return None\n",
    "\n",
    "    return total_score / subject_count"
   ]
  },
  {
   "cell_type": "code",
   "execution_count": 13,
   "id": "c4fbb937-2dea-4a3f-aee5-d3489201f1a7",
   "metadata": {},
   "outputs": [],
   "source": [
    "def make_subject_stats(df):\n",
    "    ans = {}\n",
    "    for index, row in df.iterrows():\n",
    "        subj = row[\"Наименование дисциплины\"]\n",
    "        student = row[\"UUID студента\"]\n",
    "        score = row[\"Балл\"]\n",
    "        oc = row[\"Оценка\"]\n",
    "        \n",
    "        if subj not in ans:\n",
    "            ans[subj] = {'scores': [], 'total_students': 0}\n",
    "        if pd.isna(score):\n",
    "            score = is_na[oc][0]\n",
    "        ans[subj]['scores'].append(score)\n",
    "        ans[subj]['total_students'] += 1\n",
    "    return ans"
   ]
  },
  {
   "cell_type": "code",
   "execution_count": 14,
   "id": "510d56ee-e0e6-4357-9a11-97f906de95da",
   "metadata": {},
   "outputs": [],
   "source": [
    "def process_scores(df):\n",
    "    ans = {}\n",
    "    subject_stats = make_subject_stats(df)\n",
    "\n",
    "    current_student = None\n",
    "    student_data = {}\n",
    "\n",
    "    for index, row in df.iterrows():\n",
    "        student = row[\"UUID студента\"]\n",
    "        subject = row[\"Наименование дисциплины\"]\n",
    "        score = row[\"Балл\"]\n",
    "        oc = row[\"Оценка\"]\n",
    "\n",
    "        if student != current_student:\n",
    "            if current_student is not None:\n",
    "                ans[current_student] = power_penalty_score(student_data, subject_stats)\n",
    "            current_student = student\n",
    "            student_data = {}\n",
    "        if pd.isna(score):\n",
    "            score = is_na[oc][0]\n",
    "        student_data[subject] = score\n",
    "    \n",
    "    if current_student is not None:\n",
    "        ans[current_student] = power_penalty_score(student_data, subject_stats)\n",
    "    return ans"
   ]
  },
  {
   "cell_type": "code",
   "execution_count": 15,
   "id": "edf2349e-2fdd-4446-86c3-85bf3fab144d",
   "metadata": {},
   "outputs": [],
   "source": [
    "scores = process_scores(df_1_6)"
   ]
  },
  {
   "cell_type": "code",
   "execution_count": 16,
   "id": "0e387827-8785-4524-8dcb-2b70457e72ad",
   "metadata": {},
   "outputs": [],
   "source": [
    "df_1_6[\"Рейтинг студента\"] = df_1_6[\"UUID студента\"].map(scores)"
   ]
  },
  {
   "cell_type": "code",
   "execution_count": 17,
   "id": "d6073fa6-ddc7-407a-9adc-3707112ba259",
   "metadata": {},
   "outputs": [
    {
     "name": "stdout",
     "output_type": "stream",
     "text": [
      "Все UUID успешно получили рейтинг.\n"
     ]
    }
   ],
   "source": [
    "missing_uuids = df_1_6[df_1_6[\"Рейтинг студента\"].isna()][\"UUID студента\"].unique()\n",
    "\n",
    "if len(missing_uuids) > 0:\n",
    "    print(\"Нет рейтинга для следующих UUID:\")\n",
    "    print(missing_uuids)\n",
    "else:\n",
    "    print(\"Все UUID успешно получили рейтинг.\")"
   ]
  },
  {
   "cell_type": "code",
   "execution_count": 18,
   "id": "d229497e-bd3a-4f7e-8672-05725586aa1c",
   "metadata": {},
   "outputs": [],
   "source": [
    "def check_nuniques(df):\n",
    "    nuniques = df.groupby(\"UUID студента\").nunique()\n",
    "    for column in nuniques.columns.to_list():\n",
    "        print(f\"{column} - {nuniques[column].nunique()} - {nuniques[column].unique()}\")"
   ]
  },
  {
   "cell_type": "code",
   "execution_count": 19,
   "id": "6a73d4d0-7d01-4aef-a905-078e20e9d173",
   "metadata": {},
   "outputs": [],
   "source": [
    "df_1_7 = df_1_6.copy()"
   ]
  },
  {
   "cell_type": "code",
   "execution_count": 20,
   "id": "dd63f823-859f-435e-9cad-ca17eb43e393",
   "metadata": {},
   "outputs": [],
   "source": [
    "df_1_7['Балл за инд. достижения'] = df_1_7['Балл за инд. достижения'].fillna(0)\n",
    "df_1_7[\"Балл за инд. достижения\"] = df_1_7[\"Балл за инд. достижения\"].astype(int)"
   ]
  },
  {
   "cell_type": "code",
   "execution_count": 21,
   "id": "32ba27a0-4538-411a-a537-30b9a6fb81ac",
   "metadata": {},
   "outputs": [
    {
     "name": "stdout",
     "output_type": "stream",
     "text": [
      "['0' '1']\n"
     ]
    }
   ],
   "source": [
    "benefit = df_1_7[\"Льготы\"].unique()\n",
    "df_1_7.loc[df_1_7[\"Категория конкурса БВИ\"].isin(benefit), \"Категория конкурса БВИ\"] = np.nan\n",
    "df_1_7['Категория конкурса БВИ'] = np.where(df_1_7['Категория конкурса БВИ'].notna(), '1', \"0\")\n",
    "print(df_1_7['Категория конкурса БВИ'].unique())\n",
    "df_1_7['Категория конкурса БВИ'] = df_1_7['Категория конкурса БВИ'].astype(int)"
   ]
  },
  {
   "cell_type": "code",
   "execution_count": 22,
   "id": "cbb99630-8cd9-4c03-a52e-6958a7bb0691",
   "metadata": {},
   "outputs": [],
   "source": [
    "columns_to_drop = [\"Наименование олимпиады\", \"Контрольное мероприятие\", \"Тип оценки\", \"Наименование дисциплины\", \"Модель реализации\",\n",
    "                   \"Оценка\", \"Балл\", \"UUID оценки\", \"Дата получения оценки\", \"Семестр\",\"Год\", \"Наименование дисциплины ИТС\", \n",
    "                   \"ИТС наименование в дипломе\", \"Год начала обучения\", \"Курс\", \"Активное состояние\", \"Место рождения\"]\n",
    "\n",
    "df_1_7 = df_1_7.drop(columns=columns_to_drop)"
   ]
  },
  {
   "cell_type": "code",
   "execution_count": 23,
   "id": "561f7f87-c651-49e3-8618-16499045166b",
   "metadata": {},
   "outputs": [],
   "source": [
    "df_1_8 = df_1_7.drop_duplicates(subset=['UUID студента'], keep='first').copy()"
   ]
  },
  {
   "cell_type": "code",
   "execution_count": 24,
   "id": "76dccfe7-8829-435d-80cd-1ecceca2ef3b",
   "metadata": {},
   "outputs": [
    {
     "data": {
      "text/plain": [
       "(2281, 52)"
      ]
     },
     "execution_count": 24,
     "metadata": {},
     "output_type": "execute_result"
    }
   ],
   "source": [
    "df_1_8.shape"
   ]
  },
  {
   "cell_type": "code",
   "execution_count": 25,
   "id": "2668a9a1-e02e-46ab-8bc0-02504ba5af01",
   "metadata": {},
   "outputs": [],
   "source": [
    "df_1_8[\"Код направления 1\"] = np.nan\n",
    "df_1_8[\"Код направления 3\"] = np.nan\n",
    "\n",
    "\n",
    "df_1_8[[\"Код направления 1\", \"Код направления 3\"]] = df_1_8[\"Код направления подготовки\"].apply(\n",
    "    lambda x: pd.Series({\n",
    "        \"Код направления 1\": int(x.split(\".\")[0]),\n",
    "        \"Код направления 3\": int(x.split(\".\")[2])\n",
    "    })\n",
    ")"
   ]
  },
  {
   "cell_type": "code",
   "execution_count": 26,
   "id": "66a1d055-6b3b-4513-ac22-6726f5ecb5fb",
   "metadata": {},
   "outputs": [],
   "source": [
    "df_1_8 = df_1_8.drop(columns=[\"Код направления подготовки\", \"Наименование напр. подготовки\", \"Образовательная программа\", \"Сквозной семестр\", \"ЛН студента\", \"ЛН студента (архив)\"])"
   ]
  },
  {
   "cell_type": "code",
   "execution_count": 27,
   "id": "01f95939-9152-4d06-9b3e-0cbe6f80848c",
   "metadata": {},
   "outputs": [],
   "source": [
    "col_to_drop = [\"Формирующее подразделение\", \"Область образования\", \"Целевик\", \"Хоз. группа | Вкл. обучение\", \n",
    "               \"Малоимущий\", \"Слушатель\", \"В архиве\", \"Приказ об отчислении\", \"Акад. отп. по сост. здор.\", \"Акад. отп. по уходу за реб.\", \n",
    "               \"UUID персоны\", \"Адрес регистрации. Страна\", \"Страна законченного уч. зав.\",\n",
    "               \"Название законченного уч. зав.\", \"Регион законченного уч. зав.\", \"Квалификация зак.уч.зав.\", \"Специальность зак.уч.зав.\", \"Документы подтв. льготы\"]\n",
    "\n",
    "df_1_8 = df_1_8.drop(columns=col_to_drop)"
   ]
  },
  {
   "cell_type": "code",
   "execution_count": 28,
   "id": "67a9698b-13f6-45ac-ac3c-da627d352607",
   "metadata": {},
   "outputs": [],
   "source": [
    "dummies = pd.get_dummies(df_1_8[\"Основа освоения (сокр.)\"], drop_first=True)\n",
    "df_1_8[\"Основа освоения (сокр.)\"] = dummies  # \"бюджет\"=0, \"контракт\"=1\n",
    "df_1_8 = df_1_8.rename(columns={\"Основа освоения (сокр.)\": \"Контракт\"})"
   ]
  },
  {
   "cell_type": "code",
   "execution_count": 29,
   "id": "f8c069fe-0c85-4e8a-b0a5-6e94e5d3953a",
   "metadata": {},
   "outputs": [],
   "source": [
    "df_1_8[\"Контракт\"] = df_1_8[\"Контракт\"].astype(int)"
   ]
  },
  {
   "cell_type": "code",
   "execution_count": 30,
   "id": "d03c4bd9-208b-4511-bea5-56176d6e47bf",
   "metadata": {},
   "outputs": [],
   "source": [
    "df_1_8 = df_1_8.drop(columns=[\"Срок освоения\"])"
   ]
  },
  {
   "cell_type": "code",
   "execution_count": 31,
   "id": "ebd1285e-ec99-4bd2-a979-1a1503debd9f",
   "metadata": {},
   "outputs": [],
   "source": [
    "dummies = pd.get_dummies(df_1_8[\"Нуждается в общежитии\"])\n",
    "dummies = dummies.drop(\"Нет\", axis=1)\n",
    "df_1_8[\"Нуждается в общежитии\"] = dummies\n",
    "df_1_8[\"Нуждается в общежитии\"] = df_1_8[\"Нуждается в общежитии\"].astype(int)"
   ]
  },
  {
   "cell_type": "code",
   "execution_count": 32,
   "id": "36b8ca4d-09ec-49f0-aaac-a901c43e33ea",
   "metadata": {},
   "outputs": [],
   "source": [
    "dummies = pd.get_dummies(df_1_8[\"Иностранный абитуриент (МОН)\"])\n",
    "dummies = dummies.drop(\"Нет\", axis=1)\n",
    "df_1_8[\"Иностранный абитуриент (МОН)\"] = dummies\n",
    "df_1_8[\"Иностранный абитуриент (МОН)\"] = df_1_8[\"Иностранный абитуриент (МОН)\"].astype(int)"
   ]
  },
  {
   "cell_type": "code",
   "execution_count": 33,
   "id": "a4cd2b6c-ed33-47b3-834d-de5dd7b81e54",
   "metadata": {},
   "outputs": [],
   "source": [
    "dummies = pd.get_dummies(df_1_8[\"Пол\"])\n",
    "dummies = dummies.drop(\"Ж\", axis=1)\n",
    "df_1_8[\"Пол\"] = dummies\n",
    "df_1_8[\"Пол\"] = df_1_8[\"Пол\"].astype(int)"
   ]
  },
  {
   "cell_type": "code",
   "execution_count": 34,
   "id": "c3c79203-b761-45b5-9c8c-ead95d937846",
   "metadata": {},
   "outputs": [],
   "source": [
    "citizenship_map = {\n",
    "    \"Russia\": [\"Российская Федерация\"],\n",
    "    \"PostSoviet\": [\n",
    "        \"Республика Азербайджан\", \"Республика Армения\", \"Республика Беларусь\", \"Грузия\", \"Республика Казахстан\", \"Киргизская Республика\",\n",
    "        \"Латвия\", \"Литва\", \"Республика Молдова\", \"Республика Таджикистан\", \"Туркменистан\", \"Республика Узбекистан\", \"Украина\", \"Эстония\"\n",
    "    ]\n",
    "}\n",
    "\n",
    "citizenship_class = []\n",
    "citizenship = df_1_8[\"Гражданство\"].tolist()\n",
    "\n",
    "for current in citizenship:\n",
    "    if current in citizenship_map.get(\"Russia\"):\n",
    "        citizenship_class.append(\"Russia\")\n",
    "    elif current in citizenship_map.get(\"PostSoviet\"):\n",
    "        citizenship_class.append(\"PostSoviet\")\n",
    "    else:\n",
    "        citizenship_class.append(\"others\")\n",
    "\n",
    "citizenship_series = pd.Series(citizenship_class)\n",
    "df_1_8[\"citizenship_class\"] = citizenship_series"
   ]
  },
  {
   "cell_type": "code",
   "execution_count": 35,
   "id": "cf4d2119-e801-4dbb-ae6f-c9f3753d1d37",
   "metadata": {},
   "outputs": [],
   "source": [
    "df_1_8[\"fromEkaterinburg\"] = df_1_8[\"Адрес регистрации. Город\"].apply(\n",
    "    lambda x: 1 if x == \"Екатеринбург\" else 0\n",
    ")"
   ]
  },
  {
   "cell_type": "code",
   "execution_count": 36,
   "id": "079c4712-16fe-44a2-a6f8-6397d95fc05a",
   "metadata": {},
   "outputs": [],
   "source": [
    "df_1_8[\"fromSverdlovskRegion\"] = df_1_8[\"Адрес регистрации. Область\"].apply(\n",
    "    lambda x: 1 if x == \"Свердловская область\" else 0\n",
    ")"
   ]
  },
  {
   "cell_type": "code",
   "execution_count": 37,
   "id": "59725164-4f27-418a-a39a-38e0f56bc84d",
   "metadata": {},
   "outputs": [],
   "source": [
    "df_1_8 = df_1_8.drop(columns=[\"Город законченного уч. зав.\", \"Адрес регистрации. Область\", \"Адрес регистрации. Город\"])"
   ]
  },
  {
   "cell_type": "code",
   "execution_count": 38,
   "id": "b29b0a14-9dcd-4099-93d5-3e0e4a7cc6a8",
   "metadata": {},
   "outputs": [],
   "source": [
    "current_df = df_1_8[\n",
    "    (df_1_8[\"Тип законченного уч. зав.\"] == \"Высшее\") & \n",
    "    (df_1_8[\"Тип документа об образовании\"].isin([\"Аттестат о среднем общем образовании\", \"Диплом о среднем профессиональном образовании\"]))\n",
    "]\n",
    "uuid_to_replace = current_df[\"UUID студента\"]\n",
    "for uuid in uuid_to_replace:\n",
    "    df_1_8.loc[df_1_8[\"UUID студента\"] == uuid, \"Тип законченного уч. зав.\"] = \"Техникум\"\n",
    "\n",
    "current_df = df_1_8[\n",
    "    (df_1_8[\"Тип законченного уч. зав.\"] == \"Высшее\") & \n",
    "    (df_1_8[\"Тип документа об образовании\"].isin([\"Академическая справка\"]))\n",
    "]\n",
    "uuid_to_replace = current_df[\"UUID студента\"]\n",
    "for uuid in uuid_to_replace:\n",
    "    df_1_8.loc[df_1_8[\"UUID студента\"] == uuid, \"Тип законченного уч. зав.\"] = \"Техникум\"\n",
    "\n",
    "current_df = df_1_8[\n",
    "    df_1_8[\"Тип законченного уч. зав.\"].isin([\"(не указано)\", \"Вечерняя школа\", \"Основная общеобразовательная школа\", \"Средняя общеобразовательная школа\"]\n",
    ")]\n",
    "uuid_to_replace = current_df[\"UUID студента\"]\n",
    "df_1_8.loc[df_1_8[\"UUID студента\"].isin(uuid_to_replace), \"Тип законченного уч. зав.\"] = \"Школа\"\n",
    "\n",
    "current_df = df_1_8[\n",
    "    df_1_8[\"Тип законченного уч. зав.\"].isin([\"Гимназия\", \"Лицей\", \"Дневная школа, лицей, гимназия\"]\n",
    ")]\n",
    "uuid_to_replace = current_df[\"UUID студента\"]\n",
    "df_1_8.loc[df_1_8[\"UUID студента\"].isin(uuid_to_replace), \"Тип законченного уч. зав.\"] = \"Профильная Школа\"\n",
    "\n",
    "current_df = df_1_8[\n",
    "    df_1_8[\"Тип законченного уч. зав.\"].isin([\"Кадетский корпус\", \"Суворовское училище\"]\n",
    ")]\n",
    "uuid_to_replace = current_df[\"UUID студента\"]\n",
    "df_1_8.loc[df_1_8[\"UUID студента\"].isin(uuid_to_replace), \"Тип законченного уч. зав.\"] = \"Военное уч. заведение\"\n",
    "\n",
    "current_df = df_1_8[\n",
    "    df_1_8[\"Тип законченного уч. зав.\"].isin([\"Колледж\", \"Техникум\", \"Профессиональное училище\"]\n",
    ")]\n",
    "uuid_to_replace = current_df[\"UUID студента\"]\n",
    "df_1_8.loc[df_1_8[\"UUID студента\"].isin(uuid_to_replace), \"Тип законченного уч. зав.\"] = \"СПО\""
   ]
  },
  {
   "cell_type": "code",
   "execution_count": 39,
   "id": "892d2095-aebf-45b1-ba1f-cbc604f972e8",
   "metadata": {},
   "outputs": [],
   "source": [
    "df_1_8 = df_1_8.drop(\"Тип документа об образовании\", axis=1)"
   ]
  },
  {
   "cell_type": "code",
   "execution_count": 40,
   "id": "79317614-95e0-440e-92b8-8be0cfa71ecb",
   "metadata": {},
   "outputs": [],
   "source": [
    "year_of_end = df_1_8[\"Год окончание уч. зав.\"]\n",
    "df_1_8[\"Год окончание уч. зав.\"] = 2023 - year_of_end\n",
    "df_1_8 = df_1_8.rename(columns={\"Год окончание уч. зав.\": \"Прошло лет с окончания уч. заведения\"})"
   ]
  },
  {
   "cell_type": "code",
   "execution_count": 41,
   "id": "cc961ea3-be46-4dcd-a299-858c82f68046",
   "metadata": {},
   "outputs": [],
   "source": [
    "df_1_8[\"Льготы\"] = df_1_8[\"Льготы\"].fillna(\"Отсутствует\")\n",
    "\n",
    "current_df = df_1_8[\n",
    "    df_1_8[\"Льготы\"].isin([\"02 Лица из числа детей-сирот (до 23 лет)\", \"03 Дети, оставшиеся без попечения родителей (до 18 лет)\", \"05 Лица из числа детей без попечения родителей (до 23 лет)\"]\n",
    ")]\n",
    "uuid_to_replace = current_df[\"UUID студента\"]\n",
    "df_1_8.loc[df_1_8[\"UUID студента\"].isin(uuid_to_replace), \"Льготы\"] = \"Сироты\"\n",
    "\n",
    "current_df = df_1_8[\n",
    "    df_1_8[\"Льготы\"].isin([\"04 Дети-инвалиды\", \"07 Инвалиды с детства\", \"11 Инвалиды II группы\"]\n",
    ")]\n",
    "uuid_to_replace = current_df[\"UUID студента\"]\n",
    "df_1_8.loc[df_1_8[\"UUID студента\"].isin(uuid_to_replace), \"Льготы\"] = \"Инвалиды\"\n",
    "\n",
    "current_df = df_1_8[\n",
    "    df_1_8[\"Льготы\"].isin([\n",
    "        \"10 Ветераны боевых действий\",\n",
    "        \"17 Дети военнослужащих, сотрудников федеральных органов исполнительной власти и федеральных государственных органов, направленных в другие государства\",\n",
    "        \"19 Дети лиц, принимавших участие в специальной военной операции на территориях Украины\",\n",
    "        \"21 Дети военнослужащих, погибших или получивших увечье при исполнении обязанностей военной службы в специальной военной операции на территориях Украины\"]\n",
    ")]\n",
    "uuid_to_replace = current_df[\"UUID студента\"]\n",
    "df_1_8.loc[df_1_8[\"UUID студента\"].isin(uuid_to_replace), \"Льготы\"] = \"Боевые действия\"\n",
    "\n",
    "current_df = df_1_8[\n",
    "    df_1_8[\"Льготы\"].isin([\n",
    "        \"09 Лица, поступающие по направлению Министерства в пределах квоты, установленной Правительством Российской Федерации\"]\n",
    ")]\n",
    "uuid_to_replace = current_df[\"UUID студента\"]\n",
    "df_1_8.loc[df_1_8[\"UUID студента\"].isin(uuid_to_replace), \"Льготы\"] = \"Квота для иностранных граждан\""
   ]
  },
  {
   "cell_type": "code",
   "execution_count": 42,
   "id": "42728925-02f9-4431-b777-3424b8a65087",
   "metadata": {},
   "outputs": [],
   "source": [
    "df_1_8[\"Тип олимпиады\"] = df_1_8[\"Тип олимпиады\"].fillna(\"Отсутствует\")"
   ]
  },
  {
   "cell_type": "code",
   "execution_count": 43,
   "id": "3fca453f-e39a-4b1a-993f-55b56c42f0e0",
   "metadata": {},
   "outputs": [],
   "source": [
    "HDI_dict = {\n",
    "    'Арабская Республика Египет': 0.731,\n",
    "    'Габонская Республика': 0.706,\n",
    "    'Йеменская Республика': 0.455,\n",
    "    'Киргизская Республика': 0.692,\n",
    "    'Китайская Народная Республика': 0.768,\n",
    "    'Королевство Марокко': 0.683,\n",
    "    'Народная Республика Бангладеш': 0.661,\n",
    "    'Республика Азербайджан': 0.745,\n",
    "    'Республика Армения': 0.759,\n",
    "    'Республика Беларусь': 0.808,\n",
    "    'Республика Гаити': 0.535,\n",
    "    'Республика Индонезия': 0.705,\n",
    "    'Республика Ирак': 0.686,\n",
    "    'Республика Казахстан': 0.811,\n",
    "    'Республика Камерун': 0.576,\n",
    "    'Республика Колумбия': 0.752,\n",
    "    \"Республика Кот д'Ивуар\": 0.550,\n",
    "    'Республика Куба': 0.764,\n",
    "    'Республика Молдова': 0.767,\n",
    "    'Республика Перу': 0.762,\n",
    "    'Республика Судан': 0.508,\n",
    "    'Республика Таджикистан': 0.685,\n",
    "    'Республика Узбекистан': 0.727,\n",
    "    'Российская Федерация': 0.822,\n",
    "    'Сирийская Арабская Республика': 0.577,\n",
    "    'Социалистическая Республика Вьетнам': 0.703,\n",
    "    'Турецкая Республика': 0.838,\n",
    "    'Туркменистан': 0.745,\n",
    "    'Украина': 0.773,\n",
    "    'Федеративная Демократическая Республика Эфиопия': 0.498,\n",
    "    'Федеративная Республика Бразилия': 0.754,\n",
    "    'Федеративная Республика Германия': 0.942,\n",
    "    'Федеративная Республика Нигерия': 0.535\n",
    "}"
   ]
  },
  {
   "cell_type": "code",
   "execution_count": 44,
   "id": "090335bd-548c-487f-bc44-94adcccea031",
   "metadata": {},
   "outputs": [],
   "source": [
    "df_1_8['Human Development Index'] = df_1_8['Гражданство'].map(HDI_dict)"
   ]
  },
  {
   "cell_type": "code",
   "execution_count": 45,
   "id": "2a69675c-a94c-436d-b37e-7451f06ba071",
   "metadata": {},
   "outputs": [],
   "source": [
    "date_of_birth = df_1_8[\"Дата рождения\"]\n",
    "date_of_birth = pd.to_datetime(date_of_birth, format='%d.%m.%Y')\n",
    "\n",
    "start_styding_date = pd.to_datetime(\"1.08.2023\", format='%d.%m.%Y')\n",
    "start_styding_column = (start_styding_date - date_of_birth)\n",
    "start_styding_column = start_styding_column.dt.days // 365\n",
    "\n",
    "df_1_8[\"Дата рождения\"] = start_styding_column\n",
    "df_1_8 = df_1_8.rename(columns={\"Дата рождения\": \"Полных лет на момент поступления\"})\n",
    "df_1_8[\"Полных лет на момент поступления\"] = df_1_8[\"Полных лет на момент поступления\"].astype(int)"
   ]
  },
  {
   "cell_type": "code",
   "execution_count": 46,
   "id": "2e591bde-9b92-473f-b2aa-18cf9fe08193",
   "metadata": {},
   "outputs": [],
   "source": [
    "df_1_8 = df_1_8.drop(columns=[\"UUID студента\", \"Гражданство\"])"
   ]
  },
  {
   "cell_type": "code",
   "execution_count": 47,
   "id": "703b2bd9-d60a-4b83-ad2c-119b14374440",
   "metadata": {},
   "outputs": [],
   "source": [
    "dummies = pd.get_dummies(df_1_8[\"Вид конкурса\"])\n",
    "dummies = dummies.drop(\"Основные места\", axis=1)\n",
    "dummies = dummies.astype(int)\n",
    "df_1_8 = df_1_8.join(dummies, how='left')\n",
    "\n",
    "dummies = pd.get_dummies(df_1_8[\"Тип олимпиады\"])\n",
    "dummies = dummies.drop(\"Отсутствует\", axis=1)\n",
    "dummies = dummies.astype(int)\n",
    "df_1_8 = df_1_8.join(dummies, how='left')\n",
    "\n",
    "dummies = pd.get_dummies(df_1_8[\"Форма освоения\"])\n",
    "dummies = dummies.drop(\"Очная\", axis=1)\n",
    "dummies = dummies.astype(int)\n",
    "df_1_8 = df_1_8.join(dummies, how='left')\n",
    "\n",
    "dummies = pd.get_dummies(df_1_8[\"Уровень подготовки\"])\n",
    "dummies = dummies.drop(\"Бакалавр\", axis=1)\n",
    "dummies = dummies.astype(int)\n",
    "df_1_8 = df_1_8.join(dummies, how='left')\n",
    "\n",
    "dummies = pd.get_dummies(df_1_8[\"Тип законченного уч. зав.\"])\n",
    "dummies = dummies.drop(\"Школа\", axis=1)\n",
    "dummies = dummies.astype(int)\n",
    "df_1_8 = df_1_8.join(dummies, how='left')\n",
    "\n",
    "dummies = pd.get_dummies(df_1_8[\"Льготы\"])\n",
    "dummies = dummies.drop(\"Отсутствует\", axis=1)\n",
    "dummies = dummies.astype(int)\n",
    "df_1_8 = df_1_8.join(dummies, how='left')\n",
    "\n",
    "dummies = pd.get_dummies(df_1_8[\"citizenship_class\"])\n",
    "dummies = dummies.drop(\"Russia\", axis=1)\n",
    "dummies = dummies.astype(int)\n",
    "df_1_8 = df_1_8.join(dummies, how='left')"
   ]
  },
  {
   "cell_type": "code",
   "execution_count": 48,
   "id": "29bb476f-536a-482a-a939-e22da832648f",
   "metadata": {},
   "outputs": [],
   "source": [
    "dummies = pd.get_dummies(df_1_8[\"Код направления 1\"])\n",
    "dummies = dummies.drop(9, axis=1)\n",
    "dummies = dummies.rename(columns={10: \"Код направления 1: 10\"})\n",
    "dummies = dummies.rename(columns={11: \"Код направления 1: 11\"})\n",
    "dummies = dummies.rename(columns={27: \"Код направления 1: 27\"})\n",
    "dummies = dummies.rename(columns={29: \"Код направления 1: 29\"})\n",
    "dummies = dummies.astype(int)\n",
    "df_1_8 = df_1_8.join(dummies, how='left')\n",
    "\n",
    "dummies = pd.get_dummies(df_1_8[\"Код направления 3\"])\n",
    "dummies = dummies.drop(1, axis=1)\n",
    "dummies = dummies.rename(columns={2: \"Код направления 3: 2\"})\n",
    "dummies = dummies.rename(columns={3: \"Код направления 3: 3\"})\n",
    "dummies = dummies.rename(columns={4: \"Код направления 3: 4\"})\n",
    "dummies = dummies.astype(int)\n",
    "df_1_8 = df_1_8.join(dummies, how='left')"
   ]
  },
  {
   "cell_type": "code",
   "execution_count": 49,
   "id": "176e2828-3c3a-4eec-81dd-cc33ea0f0383",
   "metadata": {},
   "outputs": [],
   "source": [
    "df_1_8 = df_1_8.drop(columns=[\"Тип олимпиады\", \"Вид конкурса\", \"Форма освоения\", \"Уровень подготовки\", \"Тип законченного уч. зав.\", \"Льготы\", \"citizenship_class\", \"Код направления 1\", \"Код направления 3\"])"
   ]
  },
  {
   "cell_type": "code",
   "execution_count": 50,
   "id": "6a8acd27-884c-444d-82fa-305157fb9c55",
   "metadata": {},
   "outputs": [
    {
     "data": {
      "text/plain": [
       "array(['0', '1'], dtype=object)"
      ]
     },
     "execution_count": 50,
     "metadata": {},
     "output_type": "execute_result"
    }
   ],
   "source": [
    "mask = df_1_8[\"Состояние студента\"].isin([\"Отп.акад.\", \"Отп.б.посещ.\", \"Отчислен\"])\n",
    "df_1_8.loc[mask, \"Состояние студента\"] = \"1\"\n",
    "\n",
    "mask = df_1_8[\"Состояние студента\"].isin([\"Активный\", \"Зак. с дипломом\"])\n",
    "df_1_8.loc[mask, \"Состояние студента\"] = \"0\"\n",
    "\n",
    "df_1_8[\"Состояние студента\"].unique()"
   ]
  },
  {
   "cell_type": "code",
   "execution_count": 51,
   "id": "39c9dd8a-50fe-4e0f-b02d-98f963f8d7d9",
   "metadata": {},
   "outputs": [],
   "source": [
    "df_1_8[\"Состояние студента\"] = df_1_8[\"Состояние студента\"].astype(int)\n",
    "df_1_8 = df_1_8.rename(columns={\"Состояние студента\": \"Таргет\"})"
   ]
  },
  {
   "cell_type": "code",
   "execution_count": 52,
   "id": "7b5ca85b-5651-47c3-9be2-074606178d1f",
   "metadata": {},
   "outputs": [],
   "source": [
    "# Магистры\n",
    "df_magistr = df_1_8[df_1_8[\"Магистр\"] == 1].copy()\n",
    "df_magistr.drop(columns=[\"Магистр\", \"Специалист\"], inplace=True)\n",
    "\n",
    "# Специалисты и бакалавры\n",
    "df_spec_bak = df_1_8[\n",
    "    (df_1_8[\"Специалист\"] == 1) | ((df_1_8[\"Специалист\"] == 0) & (df_1_8[\"Магистр\"] == 0))\n",
    "].copy()\n",
    "df_spec_bak.drop(columns=[\"Магистр\"], inplace=True)\n",
    "\n",
    "save_dataset(df_magistr, \"../../data/datasets/subjects_magistr_v2.csv\")\n",
    "save_dataset(df_spec_bak, '../../data/datasets/subjects_bak_spec_v2.csv')"
   ]
  }
 ],
 "metadata": {
  "kernelspec": {
   "display_name": "Python 3 (ipykernel)",
   "language": "python",
   "name": "python3"
  },
  "language_info": {
   "codemirror_mode": {
    "name": "ipython",
    "version": 3
   },
   "file_extension": ".py",
   "mimetype": "text/x-python",
   "name": "python",
   "nbconvert_exporter": "python",
   "pygments_lexer": "ipython3",
   "version": "3.10.16"
  }
 },
 "nbformat": 4,
 "nbformat_minor": 5
}
