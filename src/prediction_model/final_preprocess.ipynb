{
 "cells": [
  {
   "cell_type": "code",
   "execution_count": 1,
   "id": "d7af3702-ce9c-4f0e-a4c0-6f67adae514f",
   "metadata": {},
   "outputs": [],
   "source": [
    "import pandas as pd\n",
    "\n",
    "def read_dataset(path, sep=';', encoding='utf-8-sig', low_memory=False):\n",
    "    return pd.read_csv(path, sep=sep, encoding=encoding, low_memory=low_memory)\n",
    "\n",
    "def save_dataset(dataset, path, sep=';', index=False, encoding='utf-8-sig'):\n",
    "    dataset.to_csv(path, sep=sep, index=index, encoding=encoding)"
   ]
  },
  {
   "cell_type": "code",
   "execution_count": 2,
   "id": "b0fefba0-51a0-478b-b67d-9f3957066b73",
   "metadata": {},
   "outputs": [],
   "source": [
    "df_magistr = read_dataset(\"../../data/datasets/subjects_magistr_ratings.csv\")\n",
    "df_bak_spec = read_dataset(\"../../data/datasets/subjects_bak_spec_ratings.csv\")"
   ]
  },
  {
   "cell_type": "code",
   "execution_count": 3,
   "id": "8c0a2ce8-fccb-425e-8c0b-4266b23971c9",
   "metadata": {},
   "outputs": [],
   "source": [
    "df_magistr.drop(columns=['Рейтинг студента', 'Категория конкурса БВИ'], inplace=True)\n",
    "df_bak_spec.drop(columns=['Рейтинг студента', 'Категория конкурса БВИ'], inplace=True)"
   ]
  },
  {
   "cell_type": "code",
   "execution_count": 4,
   "id": "c22fced0-7bb7-4120-9160-94aced36d2bf",
   "metadata": {},
   "outputs": [],
   "source": [
    "save_dataset(df_magistr, '../../data/datasets/subjects_magistr.csv')\n",
    "save_dataset(df_bak_spec, '../../data/datasets/subjects_bak_spec.csv')"
   ]
  },
  {
   "cell_type": "code",
   "execution_count": null,
   "id": "4b4f4948-7d76-4870-80f6-bcad38d545d6",
   "metadata": {},
   "outputs": [],
   "source": []
  }
 ],
 "metadata": {
  "kernelspec": {
   "display_name": "Python 3 (ipykernel)",
   "language": "python",
   "name": "python3"
  },
  "language_info": {
   "codemirror_mode": {
    "name": "ipython",
    "version": 3
   },
   "file_extension": ".py",
   "mimetype": "text/x-python",
   "name": "python",
   "nbconvert_exporter": "python",
   "pygments_lexer": "ipython3",
   "version": "3.10.16"
  }
 },
 "nbformat": 4,
 "nbformat_minor": 5
}
