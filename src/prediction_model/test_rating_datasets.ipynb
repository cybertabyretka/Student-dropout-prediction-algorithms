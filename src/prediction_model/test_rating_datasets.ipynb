{
 "cells": [
  {
   "cell_type": "code",
   "execution_count": 23,
   "id": "f8619bf4-9c81-471e-9820-bf66fc24653f",
   "metadata": {},
   "outputs": [],
   "source": [
    "import pandas as pd\n",
    "from sklearn.model_selection import train_test_split, GridSearchCV\n",
    "from sklearn.pipeline import Pipeline\n",
    "from sklearn.preprocessing import StandardScaler\n",
    "from sklearn.tree import DecisionTreeClassifier\n",
    "from sklearn.metrics import classification_report, confusion_matrix, ConfusionMatrixDisplay\n",
    "import matplotlib.pyplot as plt\n",
    "import joblib\n",
    "import seaborn as sns\n",
    "import numpy as np\n",
    "\n",
    "def read_dataset(path, sep=';', encoding='utf-8-sig', low_memory=False):\n",
    "    return pd.read_csv(path, sep=sep, encoding=encoding, low_memory=low_memory)\n",
    "\n",
    "random_state = 42"
   ]
  },
  {
   "cell_type": "code",
   "execution_count": 27,
   "id": "7e7e832a-9d69-4619-b726-da641d322269",
   "metadata": {},
   "outputs": [],
   "source": [
    "df_magistr_ratings = read_dataset('../../data/datasets/subjects_magistr_ratings.csv')\n",
    "df_bak_spec_ratings = read_dataset(\"../../data/datasets/subjects_bak_spec_ratings.csv\")"
   ]
  },
  {
   "cell_type": "code",
   "execution_count": 29,
   "id": "15161270-1e12-4600-9c1c-706f86fbdf92",
   "metadata": {},
   "outputs": [
    {
     "name": "stdout",
     "output_type": "stream",
     "text": [
      "Общее количество долгов ↔ Рейтинг студента: 0.9658\n",
      "Категория конкурса БВИ ↔ олимпиада из перечня, утвержденного МОН РФ (ОШ): 0.9568\n",
      "Полных лет на момент поступления ↔ Прошло лет с окончания уч. заведения: 0.8682\n",
      "Рейтинг студента ↔ Позиция студента в рейтинге: 0.8419\n",
      "Общее количество долгов ↔ Позиция студента в рейтинге: 0.8168\n",
      "Отдельная квота ↔ Боевые действия: 0.8147\n",
      "БВИ ↔ Категория конкурса БВИ: 0.7610\n",
      "БВИ ↔ олимпиада из перечня, утвержденного МОН РФ (ОШ): 0.7281\n",
      "Особая квота ↔ Инвалиды: 0.7202\n",
      "Cумма баллов испытаний ↔ БВИ: 0.7156\n"
     ]
    }
   ],
   "source": [
    "df_numeric = df_bak_spec_ratings.select_dtypes(include=[np.number])\n",
    "\n",
    "# Удаляем столбцы, где много пропусков или мало вариативности\n",
    "df_numeric.dropna(inplace=True)\n",
    "\n",
    "# Шаг 1: Вычисляем корреляционную матрицу\n",
    "corr_matrix = df_numeric.corr().abs()\n",
    "\n",
    "# Шаг 2: Убираем диагональ (сам с собой), чтобы не мешало\n",
    "np.fill_diagonal(corr_matrix.values, 0)\n",
    "\n",
    "# Шаг 3: Преобразуем матрицу в список пар (i, j) с их значениями\n",
    "pairs = (\n",
    "    corr_matrix.where(np.triu(np.ones(corr_matrix.shape), k=1).astype(bool))  # только верхний треугольник\n",
    "    .stack()\n",
    "    .sort_values(ascending=False)\n",
    ")\n",
    "\n",
    "# Шаг 4: Берём топ-10\n",
    "top_pairs = pairs.head(10)\n",
    "\n",
    "for (col1, col2), value in top_pairs.items():\n",
    "    print(f\"{col1} ↔ {col2}: {value:.4f}\")"
   ]
  },
  {
   "cell_type": "code",
   "execution_count": 66,
   "id": "2a7c47bc-0695-42de-9385-c9ea366155f7",
   "metadata": {},
   "outputs": [
    {
     "ename": "KeyError",
     "evalue": "('Рейтинг студента', 'Позиция студента в рейтинге')",
     "output_type": "error",
     "traceback": [
      "\u001b[1;31m---------------------------------------------------------------------------\u001b[0m",
      "\u001b[1;31mKeyError\u001b[0m                                  Traceback (most recent call last)",
      "File \u001b[1;32m~\\anaconda3\\envs\\pp\\lib\\site-packages\\pandas\\core\\indexes\\base.py:3805\u001b[0m, in \u001b[0;36mIndex.get_loc\u001b[1;34m(self, key)\u001b[0m\n\u001b[0;32m   3804\u001b[0m \u001b[38;5;28;01mtry\u001b[39;00m:\n\u001b[1;32m-> 3805\u001b[0m     \u001b[38;5;28;01mreturn\u001b[39;00m \u001b[38;5;28;43mself\u001b[39;49m\u001b[38;5;241;43m.\u001b[39;49m\u001b[43m_engine\u001b[49m\u001b[38;5;241;43m.\u001b[39;49m\u001b[43mget_loc\u001b[49m\u001b[43m(\u001b[49m\u001b[43mcasted_key\u001b[49m\u001b[43m)\u001b[49m\n\u001b[0;32m   3806\u001b[0m \u001b[38;5;28;01mexcept\u001b[39;00m \u001b[38;5;167;01mKeyError\u001b[39;00m \u001b[38;5;28;01mas\u001b[39;00m err:\n",
      "File \u001b[1;32mindex.pyx:167\u001b[0m, in \u001b[0;36mpandas._libs.index.IndexEngine.get_loc\u001b[1;34m()\u001b[0m\n",
      "File \u001b[1;32mindex.pyx:196\u001b[0m, in \u001b[0;36mpandas._libs.index.IndexEngine.get_loc\u001b[1;34m()\u001b[0m\n",
      "File \u001b[1;32mpandas\\\\_libs\\\\hashtable_class_helper.pxi:7081\u001b[0m, in \u001b[0;36mpandas._libs.hashtable.PyObjectHashTable.get_item\u001b[1;34m()\u001b[0m\n",
      "File \u001b[1;32mpandas\\\\_libs\\\\hashtable_class_helper.pxi:7089\u001b[0m, in \u001b[0;36mpandas._libs.hashtable.PyObjectHashTable.get_item\u001b[1;34m()\u001b[0m\n",
      "\u001b[1;31mKeyError\u001b[0m: ('Рейтинг студента', 'Позиция студента в рейтинге')",
      "\nThe above exception was the direct cause of the following exception:\n",
      "\u001b[1;31mKeyError\u001b[0m                                  Traceback (most recent call last)",
      "Cell \u001b[1;32mIn[66], line 1\u001b[0m\n\u001b[1;32m----> 1\u001b[0m \u001b[43mdf_magistr_ratings\u001b[49m\u001b[43m[\u001b[49m\u001b[38;5;124;43m'\u001b[39;49m\u001b[38;5;124;43mРейтинг студента\u001b[39;49m\u001b[38;5;124;43m'\u001b[39;49m\u001b[43m,\u001b[49m\u001b[43m \u001b[49m\u001b[38;5;124;43m'\u001b[39;49m\u001b[38;5;124;43mПозиция студента в рейтинге\u001b[39;49m\u001b[38;5;124;43m'\u001b[39;49m\u001b[43m]\u001b[49m\n",
      "File \u001b[1;32m~\\anaconda3\\envs\\pp\\lib\\site-packages\\pandas\\core\\frame.py:4102\u001b[0m, in \u001b[0;36mDataFrame.__getitem__\u001b[1;34m(self, key)\u001b[0m\n\u001b[0;32m   4100\u001b[0m \u001b[38;5;28;01mif\u001b[39;00m \u001b[38;5;28mself\u001b[39m\u001b[38;5;241m.\u001b[39mcolumns\u001b[38;5;241m.\u001b[39mnlevels \u001b[38;5;241m>\u001b[39m \u001b[38;5;241m1\u001b[39m:\n\u001b[0;32m   4101\u001b[0m     \u001b[38;5;28;01mreturn\u001b[39;00m \u001b[38;5;28mself\u001b[39m\u001b[38;5;241m.\u001b[39m_getitem_multilevel(key)\n\u001b[1;32m-> 4102\u001b[0m indexer \u001b[38;5;241m=\u001b[39m \u001b[38;5;28;43mself\u001b[39;49m\u001b[38;5;241;43m.\u001b[39;49m\u001b[43mcolumns\u001b[49m\u001b[38;5;241;43m.\u001b[39;49m\u001b[43mget_loc\u001b[49m\u001b[43m(\u001b[49m\u001b[43mkey\u001b[49m\u001b[43m)\u001b[49m\n\u001b[0;32m   4103\u001b[0m \u001b[38;5;28;01mif\u001b[39;00m is_integer(indexer):\n\u001b[0;32m   4104\u001b[0m     indexer \u001b[38;5;241m=\u001b[39m [indexer]\n",
      "File \u001b[1;32m~\\anaconda3\\envs\\pp\\lib\\site-packages\\pandas\\core\\indexes\\base.py:3812\u001b[0m, in \u001b[0;36mIndex.get_loc\u001b[1;34m(self, key)\u001b[0m\n\u001b[0;32m   3807\u001b[0m     \u001b[38;5;28;01mif\u001b[39;00m \u001b[38;5;28misinstance\u001b[39m(casted_key, \u001b[38;5;28mslice\u001b[39m) \u001b[38;5;129;01mor\u001b[39;00m (\n\u001b[0;32m   3808\u001b[0m         \u001b[38;5;28misinstance\u001b[39m(casted_key, abc\u001b[38;5;241m.\u001b[39mIterable)\n\u001b[0;32m   3809\u001b[0m         \u001b[38;5;129;01mand\u001b[39;00m \u001b[38;5;28many\u001b[39m(\u001b[38;5;28misinstance\u001b[39m(x, \u001b[38;5;28mslice\u001b[39m) \u001b[38;5;28;01mfor\u001b[39;00m x \u001b[38;5;129;01min\u001b[39;00m casted_key)\n\u001b[0;32m   3810\u001b[0m     ):\n\u001b[0;32m   3811\u001b[0m         \u001b[38;5;28;01mraise\u001b[39;00m InvalidIndexError(key)\n\u001b[1;32m-> 3812\u001b[0m     \u001b[38;5;28;01mraise\u001b[39;00m \u001b[38;5;167;01mKeyError\u001b[39;00m(key) \u001b[38;5;28;01mfrom\u001b[39;00m\u001b[38;5;250m \u001b[39m\u001b[38;5;21;01merr\u001b[39;00m\n\u001b[0;32m   3813\u001b[0m \u001b[38;5;28;01mexcept\u001b[39;00m \u001b[38;5;167;01mTypeError\u001b[39;00m:\n\u001b[0;32m   3814\u001b[0m     \u001b[38;5;66;03m# If we have a listlike key, _check_indexing_error will raise\u001b[39;00m\n\u001b[0;32m   3815\u001b[0m     \u001b[38;5;66;03m#  InvalidIndexError. Otherwise we fall through and re-raise\u001b[39;00m\n\u001b[0;32m   3816\u001b[0m     \u001b[38;5;66;03m#  the TypeError.\u001b[39;00m\n\u001b[0;32m   3817\u001b[0m     \u001b[38;5;28mself\u001b[39m\u001b[38;5;241m.\u001b[39m_check_indexing_error(key)\n",
      "\u001b[1;31mKeyError\u001b[0m: ('Рейтинг студента', 'Позиция студента в рейтинге')"
     ]
    }
   ],
   "source": [
    "df_magistr_ratings['Рейтинг студента', 'Позиция студента в рейтинге']"
   ]
  },
  {
   "cell_type": "code",
   "execution_count": 9,
   "id": "2973235e-1bbe-449d-80dd-c1b0bac6a906",
   "metadata": {},
   "outputs": [],
   "source": [
    "X_bak_spec = df_bak_spec_ratings.drop(columns=[\"Таргет\"])\n",
    "y_bak_spec = df_bak_spec_ratings[\"Таргет\"]\n",
    "\n",
    "X_train_bak_spec, X_test_bak_spec, y_train_bak_spec, y_test_bak_spec = train_test_split(\n",
    "    X_bak_spec,\n",
    "    y_bak_spec,\n",
    "    test_size=0.2,\n",
    "    random_state=random_state\n",
    ")\n",
    "\n",
    "X_magistr = df_magistr_ratings.drop(columns=[\"Таргет\"])\n",
    "y_magistr = df_magistr_ratings[\"Таргет\"]\n",
    "\n",
    "X_train_magistr, X_test_magistr, y_train_magistr, y_test_magistr = train_test_split(\n",
    "    X_magistr,\n",
    "    y_magistr,\n",
    "    test_size=0.2,\n",
    "    random_state=random_state\n",
    ")"
   ]
  },
  {
   "cell_type": "code",
   "execution_count": 12,
   "id": "e60cc05c-0857-45ec-a25e-28a3b5998eb9",
   "metadata": {},
   "outputs": [
    {
     "name": "stdout",
     "output_type": "stream",
     "text": [
      "{'clf': DecisionTreeClassifier(), 'clf__class_weight': 'balanced', 'clf__criterion': 'entropy', 'clf__max_depth': 5, 'clf__min_samples_leaf': 5, 'clf__min_samples_split': 5}\n",
      "Лучшая модель: Pipeline(steps=[('scaler', StandardScaler()),\n",
      "                ('clf',\n",
      "                 DecisionTreeClassifier(class_weight='balanced',\n",
      "                                        criterion='entropy', max_depth=5,\n",
      "                                        min_samples_leaf=5,\n",
      "                                        min_samples_split=5))])\n",
      "\n",
      "Отчёт классификации:\n",
      "               precision    recall  f1-score   support\n",
      "\n",
      "           0       0.99      0.76      0.86       117\n",
      "           1       0.36      0.94      0.52        17\n",
      "\n",
      "    accuracy                           0.78       134\n",
      "   macro avg       0.68      0.85      0.69       134\n",
      "weighted avg       0.91      0.78      0.82       134\n",
      "\n"
     ]
    },
    {
     "data": {
      "image/png": "[encoded data removed]",
      "text/plain": [
       "<Figure size 640x480 with 2 Axes>"
      ]
     },
     "metadata": {},
     "output_type": "display_data"
    }
   ],
   "source": [
    "pipeline = Pipeline([\n",
    "    ('scaler', StandardScaler()),\n",
    "    ('clf', DecisionTreeClassifier())\n",
    "])\n",
    "\n",
    "param_grid = [\n",
    "    {\n",
    "        'clf': [DecisionTreeClassifier()],\n",
    "        'clf__criterion': ['gini', 'entropy'],\n",
    "        'clf__max_depth': [2, 3, 5, 10, 20, 30, 31, 32, 33, 34, 35, 36, 37, 38, 39, 40],\n",
    "        'clf__min_samples_split': [2, 5, 10, 12, 15],\n",
    "        'clf__min_samples_leaf': [1, 2, 5],\n",
    "        'clf__class_weight': [None, 'balanced']\n",
    "    }\n",
    "]\n",
    "\n",
    "grid_search = GridSearchCV(pipeline, param_grid, cv=5, scoring='f1', n_jobs=-1)\n",
    "grid_search.fit(X_train_magistr, y_train_magistr)\n",
    "\n",
    "y_pred_magistr = grid_search.predict(X_test_magistr)\n",
    "\n",
    "best_model = grid_search.best_estimator_\n",
    "joblib.dump(best_model, '../../data/models/dec_tree_model_magistr_with_ratings.pkl')\n",
    "\n",
    "print(grid_search.best_params_)\n",
    "print(\"Лучшая модель:\", grid_search.best_estimator_)\n",
    "print(\"\\nОтчёт классификации:\\n\", classification_report(y_test_magistr, y_pred_magistr))\n",
    "\n",
    "cm = confusion_matrix(y_test_magistr, y_pred_magistr)\n",
    "disp = ConfusionMatrixDisplay(confusion_matrix=cm, display_labels=grid_search.best_estimator_.named_steps['clf'].classes_)\n",
    "disp.plot(cmap=\"Blues\")\n",
    "plt.title(\"Матрица ошибок\")\n",
    "plt.show()"
   ]
  },
  {
   "cell_type": "code",
   "execution_count": 13,
   "id": "bdb83470-051f-48a4-9205-d8589dc054bc",
   "metadata": {},
   "outputs": [
    {
     "name": "stdout",
     "output_type": "stream",
     "text": [
      "                                            feature  importance\n",
      "41                      Позиция студента в рейтинге    0.679519\n",
      "13                                 Рейтинг студента    0.070803\n",
      "0                                         Приоритет    0.051250\n",
      "5                                          Контракт    0.048719\n",
      "9                  Полных лет на момент поступления    0.044004\n",
      "15                             fromSverdlovskRegion    0.035256\n",
      "12                          Общее количество долгов    0.020537\n",
      "11                        Общее количество пересдач    0.020337\n",
      "1                            Cумма баллов испытаний    0.017074\n",
      "8                                               Пол    0.012500\n",
      "6                             Нуждается в общежитии    0.000000\n",
      "7                      Иностранный абитуриент (МОН)    0.000000\n",
      "3                           Балл за инд. достижения    0.000000\n",
      "4                            Категория конкурса БВИ    0.000000\n",
      "2                                               БВИ    0.000000\n",
      "10             Прошло лет с окончания уч. заведения    0.000000\n",
      "16                          Human Development Index    0.000000\n",
      "14                                 fromEkaterinburg    0.000000\n",
      "18                                  Отдельная квота    0.000000\n",
      "19                                    Целевая квота    0.000000\n",
      "20         всероссийская олимпиада школьников (ВОШ)    0.000000\n",
      "21  олимпиада из перечня, утвержденного МОН РФ (ОШ)    0.000000\n",
      "22                                          Заочная    0.000000\n",
      "23                                     Очно-заочная    0.000000\n",
      "24                            Военное уч. заведение    0.000000\n",
      "17                                     Особая квота    0.000000\n",
      "25                                           Высшее    0.000000\n",
      "26                                 Профильная Школа    0.000000\n",
      "28                                  Боевые действия    0.000000\n",
      "27                                              СПО    0.000000\n",
      "30                    Квота для иностранных граждан    0.000000\n",
      "31                                           Сироты    0.000000\n",
      "32                                       PostSoviet    0.000000\n",
      "29                                         Инвалиды    0.000000\n",
      "33                                           others    0.000000\n",
      "34                            Код направления 1: 10    0.000000\n",
      "36                            Код направления 1: 27    0.000000\n",
      "35                            Код направления 1: 11    0.000000\n",
      "37                            Код направления 1: 29    0.000000\n",
      "38                             Код направления 3: 2    0.000000\n",
      "39                             Код направления 3: 3    0.000000\n",
      "40                             Код направления 3: 4    0.000000\n"
     ]
    }
   ],
   "source": [
    "clf = grid_search.best_estimator_\n",
    "\n",
    "importances = clf.named_steps['clf'].feature_importances_\n",
    "\n",
    "feature_importances = pd.DataFrame({\n",
    "    'feature': X_train_magistr.columns,  \n",
    "    'importance': importances\n",
    "}).sort_values('importance', ascending=False)\n",
    "\n",
    "print(feature_importances)"
   ]
  },
  {
   "cell_type": "code",
   "execution_count": 14,
   "id": "85a7e4fb-e17f-4260-b0cb-c80f7119d2ed",
   "metadata": {},
   "outputs": [
    {
     "name": "stdout",
     "output_type": "stream",
     "text": [
      "{'clf': DecisionTreeClassifier(), 'clf__class_weight': None, 'clf__criterion': 'entropy', 'clf__max_depth': 5, 'clf__min_samples_leaf': 1, 'clf__min_samples_split': 5}\n",
      "Лучшая модель: Pipeline(steps=[('scaler', StandardScaler()),\n",
      "                ('clf',\n",
      "                 DecisionTreeClassifier(criterion='entropy', max_depth=5,\n",
      "                                        min_samples_split=5))])\n",
      "\n",
      "Отчёт классификации:\n",
      "               precision    recall  f1-score   support\n",
      "\n",
      "           0       0.95      0.96      0.95       271\n",
      "           1       0.77      0.71      0.74        52\n",
      "\n",
      "    accuracy                           0.92       323\n",
      "   macro avg       0.86      0.84      0.85       323\n",
      "weighted avg       0.92      0.92      0.92       323\n",
      "\n"
     ]
    },
    {
     "data": {
      "image/png": "[encoded data removed]",
      "text/plain": [
       "<Figure size 640x480 with 2 Axes>"
      ]
     },
     "metadata": {},
     "output_type": "display_data"
    }
   ],
   "source": [
    "pipeline = Pipeline([\n",
    "    ('scaler', StandardScaler()),\n",
    "    ('clf', DecisionTreeClassifier())\n",
    "])\n",
    "\n",
    "param_grid = [\n",
    "    {\n",
    "        'clf': [DecisionTreeClassifier()],\n",
    "        'clf__criterion': ['gini', 'entropy'],\n",
    "        'clf__max_depth': [2, 3, 5, 10, 20, 30, 31, 32, 33, 34, 35, 36, 37, 38, 39, 40],\n",
    "        'clf__min_samples_split': [2, 5, 10, 12, 15],\n",
    "        'clf__min_samples_leaf': [1, 2, 5],\n",
    "        'clf__class_weight': [None, 'balanced']\n",
    "    }\n",
    "]\n",
    "\n",
    "grid_search = GridSearchCV(pipeline, param_grid, cv=5, scoring='f1', n_jobs=-1)\n",
    "grid_search.fit(X_train_bak_spec, y_train_bak_spec)\n",
    "\n",
    "y_pred_bak_spec = grid_search.predict(X_test_bak_spec)\n",
    "\n",
    "best_model = grid_search.best_estimator_\n",
    "joblib.dump(best_model, '../../data/models/dec_tree_model_bak_spec_with_ratings.pkl')\n",
    "\n",
    "print(grid_search.best_params_)\n",
    "print(\"Лучшая модель:\", grid_search.best_estimator_)\n",
    "print(\"\\nОтчёт классификации:\\n\", classification_report(y_test_bak_spec, y_pred_bak_spec))\n",
    "\n",
    "cm = confusion_matrix(y_test_bak_spec, y_pred_bak_spec)\n",
    "disp = ConfusionMatrixDisplay(confusion_matrix=cm, display_labels=grid_search.best_estimator_.named_steps['clf'].classes_)\n",
    "disp.plot(cmap=\"Blues\")\n",
    "plt.title(\"Матрица ошибок\")\n",
    "plt.show()"
   ]
  },
  {
   "cell_type": "code",
   "execution_count": 15,
   "id": "338b3a8b-d0b3-4411-bec4-9dbe4abaeb30",
   "metadata": {},
   "outputs": [
    {
     "name": "stdout",
     "output_type": "stream",
     "text": [
      "                                            feature  importance\n",
      "12                          Общее количество долгов    0.703899\n",
      "42                      Позиция студента в рейтинге    0.114366\n",
      "13                                 Рейтинг студента    0.074006\n",
      "1                            Cумма баллов испытаний    0.042121\n",
      "24                                       Специалист    0.026103\n",
      "16                          Human Development Index    0.014820\n",
      "9                  Полных лет на момент поступления    0.010368\n",
      "0                                         Приоритет    0.010094\n",
      "23                                     Очно-заочная    0.004224\n",
      "2                                               БВИ    0.000000\n",
      "3                           Балл за инд. достижения    0.000000\n",
      "10             Прошло лет с окончания уч. заведения    0.000000\n",
      "8                                               Пол    0.000000\n",
      "7                      Иностранный абитуриент (МОН)    0.000000\n",
      "6                             Нуждается в общежитии    0.000000\n",
      "4                            Категория конкурса БВИ    0.000000\n",
      "5                                          Контракт    0.000000\n",
      "14                                 fromEkaterinburg    0.000000\n",
      "15                             fromSverdlovskRegion    0.000000\n",
      "18                                  Отдельная квота    0.000000\n",
      "17                                     Особая квота    0.000000\n",
      "19                                    Целевая квота    0.000000\n",
      "20         всероссийская олимпиада школьников (ВОШ)    0.000000\n",
      "22                                          Заочная    0.000000\n",
      "21  олимпиада из перечня, утвержденного МОН РФ (ОШ)    0.000000\n",
      "25                            Военное уч. заведение    0.000000\n",
      "11                        Общее количество пересдач    0.000000\n",
      "26                                           Высшее    0.000000\n",
      "27                                 Профильная Школа    0.000000\n",
      "29                                  Боевые действия    0.000000\n",
      "28                                              СПО    0.000000\n",
      "31                    Квота для иностранных граждан    0.000000\n",
      "32                                           Сироты    0.000000\n",
      "33                                       PostSoviet    0.000000\n",
      "30                                         Инвалиды    0.000000\n",
      "34                                           others    0.000000\n",
      "35                            Код направления 1: 10    0.000000\n",
      "37                            Код направления 1: 27    0.000000\n",
      "36                            Код направления 1: 11    0.000000\n",
      "38                            Код направления 1: 29    0.000000\n",
      "39                             Код направления 3: 2    0.000000\n",
      "40                             Код направления 3: 3    0.000000\n",
      "41                             Код направления 3: 4    0.000000\n"
     ]
    }
   ],
   "source": [
    "clf = grid_search.best_estimator_\n",
    "\n",
    "importances = clf.named_steps['clf'].feature_importances_\n",
    "\n",
    "feature_importances = pd.DataFrame({\n",
    "    'feature': X_train_bak_spec.columns,  \n",
    "    'importance': importances\n",
    "}).sort_values('importance', ascending=False)\n",
    "\n",
    "print(feature_importances)"
   ]
  },
  {
   "cell_type": "code",
   "execution_count": 60,
   "id": "0d341cc6-ae1d-4e9e-a4a4-4907a7b61a43",
   "metadata": {},
   "outputs": [],
   "source": [
    "df_magistr_without_rating = df_magistr_ratings.drop(columns=[\"Рейтинг студента\", 'Категория конкурса БВИ'])\n",
    "df_bak_spec_without_rating = df_bak_spec_ratings.drop(columns=[\"Рейтинг студента\", 'Категория конкурса БВИ'])"
   ]
  },
  {
   "cell_type": "code",
   "execution_count": 61,
   "id": "69e0e774-3817-4348-bbdf-3712262e2610",
   "metadata": {},
   "outputs": [],
   "source": [
    "\n",
    "\n",
    "X_bak_spec = df_bak_spec_without_rating.drop(columns=[\"Таргет\"])\n",
    "y_bak_spec = df_bak_spec_without_rating[\"Таргет\"]\n",
    "\n",
    "X_train_bak_spec, X_test_bak_spec, y_train_bak_spec, y_test_bak_spec = train_test_split(\n",
    "    X_bak_spec,\n",
    "    y_bak_spec,\n",
    "    test_size=0.2,\n",
    "    random_state=random_state\n",
    ")\n",
    "\n",
    "X_magistr = df_magistr_without_rating.drop(columns=[\"Таргет\"])\n",
    "y_magistr = df_magistr_without_rating[\"Таргет\"]\n",
    "\n",
    "X_train_magistr, X_test_magistr, y_train_magistr, y_test_magistr = train_test_split(\n",
    "    X_magistr,\n",
    "    y_magistr,\n",
    "    test_size=0.2,\n",
    "    random_state=random_state\n",
    ")"
   ]
  },
  {
   "cell_type": "code",
   "execution_count": 62,
   "id": "a3a4e857-aaf2-4232-a7f9-3e357f1fa99b",
   "metadata": {},
   "outputs": [
    {
     "name": "stdout",
     "output_type": "stream",
     "text": [
      "{'clf': DecisionTreeClassifier(), 'clf__class_weight': 'balanced', 'clf__criterion': 'entropy', 'clf__max_depth': 5, 'clf__min_samples_leaf': 5, 'clf__min_samples_split': 2}\n",
      "Лучшая модель: Pipeline(steps=[('scaler', StandardScaler()),\n",
      "                ('clf',\n",
      "                 DecisionTreeClassifier(class_weight='balanced',\n",
      "                                        criterion='entropy', max_depth=5,\n",
      "                                        min_samples_leaf=5))])\n",
      "\n",
      "Отчёт классификации:\n",
      "               precision    recall  f1-score   support\n",
      "\n",
      "           0       0.99      0.76      0.86       117\n",
      "           1       0.36      0.94      0.52        17\n",
      "\n",
      "    accuracy                           0.78       134\n",
      "   macro avg       0.68      0.85      0.69       134\n",
      "weighted avg       0.91      0.78      0.82       134\n",
      "\n"
     ]
    },
    {
     "data": {
      "image/png": "[encoded data removed]",
      "text/plain": [
       "<Figure size 640x480 with 2 Axes>"
      ]
     },
     "metadata": {},
     "output_type": "display_data"
    }
   ],
   "source": [
    "pipeline = Pipeline([\n",
    "    ('scaler', StandardScaler()),\n",
    "    ('clf', DecisionTreeClassifier())\n",
    "])\n",
    "\n",
    "param_grid = [\n",
    "    {\n",
    "        'clf': [DecisionTreeClassifier()],\n",
    "        'clf__criterion': ['gini', 'entropy'],\n",
    "        'clf__max_depth': [2, 3, 5, 10, 20, 30, 31, 32, 33, 34, 35, 36, 37, 38, 39, 40],\n",
    "        'clf__min_samples_split': [2, 5, 10, 12, 15],\n",
    "        'clf__min_samples_leaf': [1, 2, 5, 10],\n",
    "        'clf__class_weight': [None, 'balanced']\n",
    "    }\n",
    "]\n",
    "\n",
    "grid_search = GridSearchCV(pipeline, param_grid, cv=5, scoring='f1', n_jobs=-1)\n",
    "grid_search.fit(X_train_magistr, y_train_magistr)\n",
    "\n",
    "y_pred_magistr = grid_search.predict(X_test_magistr)\n",
    "\n",
    "best_model = grid_search.best_estimator_\n",
    "joblib.dump(best_model, '../../data/models/dec_tree_model_magistr_with_ratings.pkl')\n",
    "\n",
    "print(grid_search.best_params_)\n",
    "print(\"Лучшая модель:\", grid_search.best_estimator_)\n",
    "print(\"\\nОтчёт классификации:\\n\", classification_report(y_test_magistr, y_pred_magistr))\n",
    "\n",
    "cm = confusion_matrix(y_test_magistr, y_pred_magistr)\n",
    "disp = ConfusionMatrixDisplay(confusion_matrix=cm, display_labels=grid_search.best_estimator_.named_steps['clf'].classes_)\n",
    "disp.plot(cmap=\"Blues\")\n",
    "plt.title(\"Матрица ошибок\")\n",
    "plt.show()"
   ]
  },
  {
   "cell_type": "code",
   "execution_count": 63,
   "id": "b504de0a-299b-4207-b01d-d22b6827bc6a",
   "metadata": {},
   "outputs": [
    {
     "name": "stdout",
     "output_type": "stream",
     "text": [
      "                                            feature  importance\n",
      "39                      Позиция студента в рейтинге    0.749363\n",
      "0                                         Приоритет    0.051250\n",
      "8                  Полных лет на момент поступления    0.048907\n",
      "4                                          Контракт    0.048719\n",
      "13                             fromSverdlovskRegion    0.035256\n",
      "10                        Общее количество пересдач    0.020337\n",
      "1                            Cумма баллов испытаний    0.018033\n",
      "11                          Общее количество долгов    0.015635\n",
      "7                                               Пол    0.012500\n",
      "5                             Нуждается в общежитии    0.000000\n",
      "2                                               БВИ    0.000000\n",
      "3                           Балл за инд. достижения    0.000000\n",
      "6                      Иностранный абитуриент (МОН)    0.000000\n",
      "9              Прошло лет с окончания уч. заведения    0.000000\n",
      "14                          Human Development Index    0.000000\n",
      "12                                 fromEkaterinburg    0.000000\n",
      "16                                  Отдельная квота    0.000000\n",
      "17                                    Целевая квота    0.000000\n",
      "18         всероссийская олимпиада школьников (ВОШ)    0.000000\n",
      "19  олимпиада из перечня, утвержденного МОН РФ (ОШ)    0.000000\n",
      "20                                          Заочная    0.000000\n",
      "21                                     Очно-заочная    0.000000\n",
      "22                            Военное уч. заведение    0.000000\n",
      "15                                     Особая квота    0.000000\n",
      "23                                           Высшее    0.000000\n",
      "24                                 Профильная Школа    0.000000\n",
      "26                                  Боевые действия    0.000000\n",
      "25                                              СПО    0.000000\n",
      "28                    Квота для иностранных граждан    0.000000\n",
      "29                                           Сироты    0.000000\n",
      "30                                       PostSoviet    0.000000\n",
      "27                                         Инвалиды    0.000000\n",
      "31                                           others    0.000000\n",
      "32                            Код направления 1: 10    0.000000\n",
      "34                            Код направления 1: 27    0.000000\n",
      "33                            Код направления 1: 11    0.000000\n",
      "35                            Код направления 1: 29    0.000000\n",
      "36                             Код направления 3: 2    0.000000\n",
      "37                             Код направления 3: 3    0.000000\n",
      "38                             Код направления 3: 4    0.000000\n"
     ]
    }
   ],
   "source": [
    "clf = grid_search.best_estimator_\n",
    "\n",
    "importances = clf.named_steps['clf'].feature_importances_\n",
    "\n",
    "feature_importances = pd.DataFrame({\n",
    "    'feature': X_train_magistr.columns,  \n",
    "    'importance': importances\n",
    "}).sort_values('importance', ascending=False)\n",
    "\n",
    "print(feature_importances)"
   ]
  },
  {
   "cell_type": "code",
   "execution_count": 64,
   "id": "44e58fa0-3eb8-40e7-87f0-99e6a39df81b",
   "metadata": {},
   "outputs": [
    {
     "name": "stdout",
     "output_type": "stream",
     "text": [
      "{'clf': DecisionTreeClassifier(), 'clf__class_weight': None, 'clf__criterion': 'entropy', 'clf__max_depth': 5, 'clf__min_samples_leaf': 2, 'clf__min_samples_split': 5}\n",
      "Лучшая модель: Pipeline(steps=[('scaler', StandardScaler()),\n",
      "                ('clf',\n",
      "                 DecisionTreeClassifier(criterion='entropy', max_depth=5,\n",
      "                                        min_samples_leaf=2,\n",
      "                                        min_samples_split=5))])\n",
      "\n",
      "Отчёт классификации:\n",
      "               precision    recall  f1-score   support\n",
      "\n",
      "           0       0.94      0.97      0.96       271\n",
      "           1       0.84      0.69      0.76        52\n",
      "\n",
      "    accuracy                           0.93       323\n",
      "   macro avg       0.89      0.83      0.86       323\n",
      "weighted avg       0.93      0.93      0.93       323\n",
      "\n"
     ]
    },
    {
     "data": {
      "image/png": "[encoded data removed]",
      "text/plain": [
       "<Figure size 640x480 with 2 Axes>"
      ]
     },
     "metadata": {},
     "output_type": "display_data"
    }
   ],
   "source": [
    "pipeline = Pipeline([\n",
    "    ('scaler', StandardScaler()),\n",
    "    ('clf', DecisionTreeClassifier())\n",
    "])\n",
    "\n",
    "param_grid = [\n",
    "    {\n",
    "        'clf': [DecisionTreeClassifier()],\n",
    "        'clf__criterion': ['gini', 'entropy'],\n",
    "        'clf__max_depth': [2, 3, 5, 10, 20, 30, 31, 32, 33, 34, 35, 36, 37, 38, 39, 40],\n",
    "        'clf__min_samples_split': [2, 5, 10, 12, 15],\n",
    "        'clf__min_samples_leaf': [1, 2, 5],\n",
    "        'clf__class_weight': [None, 'balanced']\n",
    "    }\n",
    "]\n",
    "\n",
    "grid_search = GridSearchCV(pipeline, param_grid, cv=5, scoring='f1', n_jobs=-1)\n",
    "grid_search.fit(X_train_bak_spec, y_train_bak_spec)\n",
    "\n",
    "y_pred_bak_spec = grid_search.predict(X_test_bak_spec)\n",
    "\n",
    "best_model = grid_search.best_estimator_\n",
    "joblib.dump(best_model, '../../data/models/dec_tree_model_bak_spec_with_ratings.pkl')\n",
    "\n",
    "print(grid_search.best_params_)\n",
    "print(\"Лучшая модель:\", grid_search.best_estimator_)\n",
    "print(\"\\nОтчёт классификации:\\n\", classification_report(y_test_bak_spec, y_pred_bak_spec))\n",
    "\n",
    "cm = confusion_matrix(y_test_bak_spec, y_pred_bak_spec)\n",
    "disp = ConfusionMatrixDisplay(confusion_matrix=cm, display_labels=grid_search.best_estimator_.named_steps['clf'].classes_)\n",
    "disp.plot(cmap=\"Blues\")\n",
    "plt.title(\"Матрица ошибок\")\n",
    "plt.show()"
   ]
  },
  {
   "cell_type": "code",
   "execution_count": 49,
   "id": "d052329c-f1cd-423e-bc29-786b30144beb",
   "metadata": {},
   "outputs": [],
   "source": [
    "df_magistr_without_rating = df_magistr_ratings.drop(columns=[\"Позиция студента в рейтинге\"])\n",
    "df_bak_spec_without_rating = df_bak_spec_ratings.drop(columns=[\"Позиция студента в рейтинге\"])"
   ]
  },
  {
   "cell_type": "code",
   "execution_count": 50,
   "id": "c93a096d-40b0-4ff3-83e9-19ab16dc6cca",
   "metadata": {},
   "outputs": [],
   "source": [
    "X_bak_spec = df_bak_spec_without_rating.drop(columns=[\"Таргет\"])\n",
    "y_bak_spec = df_bak_spec_without_rating[\"Таргет\"]\n",
    "\n",
    "X_train_bak_spec, X_test_bak_spec, y_train_bak_spec, y_test_bak_spec = train_test_split(\n",
    "    X_bak_spec,\n",
    "    y_bak_spec,\n",
    "    test_size=0.2,\n",
    "    random_state=random_state\n",
    ")\n",
    "\n",
    "X_magistr = df_magistr_without_rating.drop(columns=[\"Таргет\"])\n",
    "y_magistr = df_magistr_without_rating[\"Таргет\"]\n",
    "\n",
    "X_train_magistr, X_test_magistr, y_train_magistr, y_test_magistr = train_test_split(\n",
    "    X_magistr,\n",
    "    y_magistr,\n",
    "    test_size=0.2,\n",
    "    random_state=random_state\n",
    ")"
   ]
  },
  {
   "cell_type": "code",
   "execution_count": 51,
   "id": "d56d2f15-fddf-41f4-8e64-b2c20e9ef9b4",
   "metadata": {},
   "outputs": [
    {
     "name": "stdout",
     "output_type": "stream",
     "text": [
      "{'clf': DecisionTreeClassifier(), 'clf__class_weight': 'balanced', 'clf__criterion': 'entropy', 'clf__max_depth': 5, 'clf__min_samples_leaf': 5, 'clf__min_samples_split': 2}\n",
      "Лучшая модель: Pipeline(steps=[('scaler', StandardScaler()),\n",
      "                ('clf',\n",
      "                 DecisionTreeClassifier(class_weight='balanced',\n",
      "                                        criterion='entropy', max_depth=5,\n",
      "                                        min_samples_leaf=5))])\n",
      "\n",
      "Отчёт классификации:\n",
      "               precision    recall  f1-score   support\n",
      "\n",
      "           0       0.98      0.76      0.86       117\n",
      "           1       0.35      0.88      0.50        17\n",
      "\n",
      "    accuracy                           0.78       134\n",
      "   macro avg       0.66      0.82      0.68       134\n",
      "weighted avg       0.90      0.78      0.81       134\n",
      "\n"
     ]
    },
    {
     "data": {
      "image/png": "[encoded data removed]",
      "text/plain": [
       "<Figure size 640x480 with 2 Axes>"
      ]
     },
     "metadata": {},
     "output_type": "display_data"
    }
   ],
   "source": [
    "pipeline = Pipeline([\n",
    "    ('scaler', StandardScaler()),\n",
    "    ('clf', DecisionTreeClassifier())\n",
    "])\n",
    "\n",
    "param_grid = [\n",
    "    {\n",
    "        'clf': [DecisionTreeClassifier()],\n",
    "        'clf__criterion': ['gini', 'entropy'],\n",
    "        'clf__max_depth': [2, 3, 5, 10, 20, 30, 31, 32, 33, 34, 35, 36, 37, 38, 39, 40],\n",
    "        'clf__min_samples_split': [2, 5, 10, 12, 15],\n",
    "        'clf__min_samples_leaf': [1, 2, 5],\n",
    "        'clf__class_weight': [None, 'balanced']\n",
    "    }\n",
    "]\n",
    "\n",
    "grid_search = GridSearchCV(pipeline, param_grid, cv=5, scoring='f1', n_jobs=-1)\n",
    "grid_search.fit(X_train_magistr, y_train_magistr)\n",
    "\n",
    "y_pred_magistr = grid_search.predict(X_test_magistr)\n",
    "\n",
    "best_model = grid_search.best_estimator_\n",
    "joblib.dump(best_model, '../../data/models/dec_tree_model_magistr_with_ratings.pkl')\n",
    "\n",
    "print(grid_search.best_params_)\n",
    "print(\"Лучшая модель:\", grid_search.best_estimator_)\n",
    "print(\"\\nОтчёт классификации:\\n\", classification_report(y_test_magistr, y_pred_magistr))\n",
    "\n",
    "cm = confusion_matrix(y_test_magistr, y_pred_magistr)\n",
    "disp = ConfusionMatrixDisplay(confusion_matrix=cm, display_labels=grid_search.best_estimator_.named_steps['clf'].classes_)\n",
    "disp.plot(cmap=\"Blues\")\n",
    "plt.title(\"Матрица ошибок\")\n",
    "plt.show()"
   ]
  },
  {
   "cell_type": "code",
   "execution_count": 52,
   "id": "1af6fa42-1278-48d3-a7cb-08a071c2e335",
   "metadata": {},
   "outputs": [
    {
     "name": "stdout",
     "output_type": "stream",
     "text": [
      "{'clf': DecisionTreeClassifier(), 'clf__class_weight': None, 'clf__criterion': 'entropy', 'clf__max_depth': 5, 'clf__min_samples_leaf': 2, 'clf__min_samples_split': 5}\n",
      "Лучшая модель: Pipeline(steps=[('scaler', StandardScaler()),\n",
      "                ('clf',\n",
      "                 DecisionTreeClassifier(criterion='entropy', max_depth=5,\n",
      "                                        min_samples_leaf=2,\n",
      "                                        min_samples_split=5))])\n",
      "\n",
      "Отчёт классификации:\n",
      "               precision    recall  f1-score   support\n",
      "\n",
      "           0       0.94      0.97      0.95       271\n",
      "           1       0.81      0.67      0.74        52\n",
      "\n",
      "    accuracy                           0.92       323\n",
      "   macro avg       0.88      0.82      0.85       323\n",
      "weighted avg       0.92      0.92      0.92       323\n",
      "\n"
     ]
    },
    {
     "data": {
      "image/png": "[encoded data removed]",
      "text/plain": [
       "<Figure size 640x480 with 2 Axes>"
      ]
     },
     "metadata": {},
     "output_type": "display_data"
    }
   ],
   "source": [
    "pipeline = Pipeline([\n",
    "    ('scaler', StandardScaler()),\n",
    "    ('clf', DecisionTreeClassifier())\n",
    "])\n",
    "\n",
    "param_grid = [\n",
    "    {\n",
    "        'clf': [DecisionTreeClassifier()],\n",
    "        'clf__criterion': ['gini', 'entropy'],\n",
    "        'clf__max_depth': [2, 3, 5, 10, 20, 30, 31, 32, 33, 34, 35, 36, 37, 38, 39, 40],\n",
    "        'clf__min_samples_split': [2, 5, 10, 12, 15],\n",
    "        'clf__min_samples_leaf': [1, 2, 5],\n",
    "        'clf__class_weight': [None, 'balanced']\n",
    "    }\n",
    "]\n",
    "\n",
    "grid_search = GridSearchCV(pipeline, param_grid, cv=5, scoring='f1', n_jobs=-1)\n",
    "grid_search.fit(X_train_bak_spec, y_train_bak_spec)\n",
    "\n",
    "y_pred_bak_spec = grid_search.predict(X_test_bak_spec)\n",
    "\n",
    "best_model = grid_search.best_estimator_\n",
    "joblib.dump(best_model, '../../data/models/dec_tree_model_bak_spec_with_ratings.pkl')\n",
    "\n",
    "print(grid_search.best_params_)\n",
    "print(\"Лучшая модель:\", grid_search.best_estimator_)\n",
    "print(\"\\nОтчёт классификации:\\n\", classification_report(y_test_bak_spec, y_pred_bak_spec))\n",
    "\n",
    "cm = confusion_matrix(y_test_bak_spec, y_pred_bak_spec)\n",
    "disp = ConfusionMatrixDisplay(confusion_matrix=cm, display_labels=grid_search.best_estimator_.named_steps['clf'].classes_)\n",
    "disp.plot(cmap=\"Blues\")\n",
    "plt.title(\"Матрица ошибок\")\n",
    "plt.show()"
   ]
  },
  {
   "cell_type": "code",
   "execution_count": 45,
   "id": "bcaf9975-860b-4d56-acb8-402e40d5e109",
   "metadata": {},
   "outputs": [],
   "source": [
    "df_magistr_without_rating = df_magistr_ratings.drop(columns=[\"Общее количество долгов\"])\n",
    "df_bak_spec_without_rating = df_bak_spec_ratings.drop(columns=[\"Общее количество долгов\"])"
   ]
  },
  {
   "cell_type": "code",
   "execution_count": 46,
   "id": "7bdc7eed-e636-4952-82c2-b8eac88623ef",
   "metadata": {},
   "outputs": [],
   "source": [
    "X_bak_spec = df_bak_spec_without_rating.drop(columns=[\"Таргет\"])\n",
    "y_bak_spec = df_bak_spec_without_rating[\"Таргет\"]\n",
    "\n",
    "X_train_bak_spec, X_test_bak_spec, y_train_bak_spec, y_test_bak_spec = train_test_split(\n",
    "    X_bak_spec,\n",
    "    y_bak_spec,\n",
    "    test_size=0.2,\n",
    "    random_state=random_state\n",
    ")\n",
    "\n",
    "X_magistr = df_magistr_without_rating.drop(columns=[\"Таргет\"])\n",
    "y_magistr = df_magistr_without_rating[\"Таргет\"]\n",
    "\n",
    "X_train_magistr, X_test_magistr, y_train_magistr, y_test_magistr = train_test_split(\n",
    "    X_magistr,\n",
    "    y_magistr,\n",
    "    test_size=0.2,\n",
    "    random_state=random_state\n",
    ")"
   ]
  },
  {
   "cell_type": "code",
   "execution_count": 47,
   "id": "1580c044-d1bb-4ed4-a079-e6d3c29d1174",
   "metadata": {},
   "outputs": [
    {
     "name": "stdout",
     "output_type": "stream",
     "text": [
      "{'clf': DecisionTreeClassifier(), 'clf__class_weight': 'balanced', 'clf__criterion': 'entropy', 'clf__max_depth': 5, 'clf__min_samples_leaf': 5, 'clf__min_samples_split': 5}\n",
      "Лучшая модель: Pipeline(steps=[('scaler', StandardScaler()),\n",
      "                ('clf',\n",
      "                 DecisionTreeClassifier(class_weight='balanced',\n",
      "                                        criterion='entropy', max_depth=5,\n",
      "                                        min_samples_leaf=5,\n",
      "                                        min_samples_split=5))])\n",
      "\n",
      "Отчёт классификации:\n",
      "               precision    recall  f1-score   support\n",
      "\n",
      "           0       0.99      0.76      0.86       117\n",
      "           1       0.36      0.94      0.52        17\n",
      "\n",
      "    accuracy                           0.78       134\n",
      "   macro avg       0.68      0.85      0.69       134\n",
      "weighted avg       0.91      0.78      0.82       134\n",
      "\n"
     ]
    },
    {
     "data": {
      "image/png": "[encoded data removed]",
      "text/plain": [
       "<Figure size 640x480 with 2 Axes>"
      ]
     },
     "metadata": {},
     "output_type": "display_data"
    }
   ],
   "source": [
    "pipeline = Pipeline([\n",
    "    ('scaler', StandardScaler()),\n",
    "    ('clf', DecisionTreeClassifier())\n",
    "])\n",
    "\n",
    "param_grid = [\n",
    "    {\n",
    "        'clf': [DecisionTreeClassifier()],\n",
    "        'clf__criterion': ['gini', 'entropy'],\n",
    "        'clf__max_depth': [2, 3, 5, 10, 20, 30, 31, 32, 33, 34, 35, 36, 37, 38, 39, 40],\n",
    "        'clf__min_samples_split': [2, 5, 10, 12, 15],\n",
    "        'clf__min_samples_leaf': [1, 2, 5],\n",
    "        'clf__class_weight': [None, 'balanced']\n",
    "    }\n",
    "]\n",
    "\n",
    "grid_search = GridSearchCV(pipeline, param_grid, cv=5, scoring='f1', n_jobs=-1)\n",
    "grid_search.fit(X_train_magistr, y_train_magistr)\n",
    "\n",
    "y_pred_magistr = grid_search.predict(X_test_magistr)\n",
    "\n",
    "best_model = grid_search.best_estimator_\n",
    "joblib.dump(best_model, '../../data/models/dec_tree_model_magistr_with_ratings.pkl')\n",
    "\n",
    "print(grid_search.best_params_)\n",
    "print(\"Лучшая модель:\", grid_search.best_estimator_)\n",
    "print(\"\\nОтчёт классификации:\\n\", classification_report(y_test_magistr, y_pred_magistr))\n",
    "\n",
    "cm = confusion_matrix(y_test_magistr, y_pred_magistr)\n",
    "disp = ConfusionMatrixDisplay(confusion_matrix=cm, display_labels=grid_search.best_estimator_.named_steps['clf'].classes_)\n",
    "disp.plot(cmap=\"Blues\")\n",
    "plt.title(\"Матрица ошибок\")\n",
    "plt.show()"
   ]
  },
  {
   "cell_type": "code",
   "execution_count": 48,
   "id": "a9b98699-3824-4cf2-a91c-dcd7a9e258a1",
   "metadata": {},
   "outputs": [
    {
     "name": "stdout",
     "output_type": "stream",
     "text": [
      "{'clf': DecisionTreeClassifier(), 'clf__class_weight': None, 'clf__criterion': 'gini', 'clf__max_depth': 3, 'clf__min_samples_leaf': 1, 'clf__min_samples_split': 2}\n",
      "Лучшая модель: Pipeline(steps=[('scaler', StandardScaler()),\n",
      "                ('clf', DecisionTreeClassifier(max_depth=3))])\n",
      "\n",
      "Отчёт классификации:\n",
      "               precision    recall  f1-score   support\n",
      "\n",
      "           0       0.94      0.96      0.95       271\n",
      "           1       0.78      0.69      0.73        52\n",
      "\n",
      "    accuracy                           0.92       323\n",
      "   macro avg       0.86      0.83      0.84       323\n",
      "weighted avg       0.92      0.92      0.92       323\n",
      "\n"
     ]
    },
    {
     "data": {
      "image/png": "[encoded data removed]",
      "text/plain": [
       "<Figure size 640x480 with 2 Axes>"
      ]
     },
     "metadata": {},
     "output_type": "display_data"
    }
   ],
   "source": [
    "pipeline = Pipeline([\n",
    "    ('scaler', StandardScaler()),\n",
    "    ('clf', DecisionTreeClassifier())\n",
    "])\n",
    "\n",
    "param_grid = [\n",
    "    {\n",
    "        'clf': [DecisionTreeClassifier()],\n",
    "        'clf__criterion': ['gini', 'entropy'],\n",
    "        'clf__max_depth': [2, 3, 5, 10, 20, 30, 31, 32, 33, 34, 35, 36, 37, 38, 39, 40],\n",
    "        'clf__min_samples_split': [2, 5, 10, 12, 15],\n",
    "        'clf__min_samples_leaf': [1, 2, 5],\n",
    "        'clf__class_weight': [None, 'balanced']\n",
    "    }\n",
    "]\n",
    "\n",
    "grid_search = GridSearchCV(pipeline, param_grid, cv=5, scoring='f1', n_jobs=-1)\n",
    "grid_search.fit(X_train_bak_spec, y_train_bak_spec)\n",
    "\n",
    "y_pred_bak_spec = grid_search.predict(X_test_bak_spec)\n",
    "\n",
    "best_model = grid_search.best_estimator_\n",
    "joblib.dump(best_model, '../../data/models/dec_tree_model_bak_spec_with_ratings.pkl')\n",
    "\n",
    "print(grid_search.best_params_)\n",
    "print(\"Лучшая модель:\", grid_search.best_estimator_)\n",
    "print(\"\\nОтчёт классификации:\\n\", classification_report(y_test_bak_spec, y_pred_bak_spec))\n",
    "\n",
    "cm = confusion_matrix(y_test_bak_spec, y_pred_bak_spec)\n",
    "disp = ConfusionMatrixDisplay(confusion_matrix=cm, display_labels=grid_search.best_estimator_.named_steps['clf'].classes_)\n",
    "disp.plot(cmap=\"Blues\")\n",
    "plt.title(\"Матрица ошибок\")\n",
    "plt.show()"
   ]
  },
  {
   "cell_type": "code",
   "execution_count": null,
   "id": "b216157f-1697-4450-876b-55bb4b6436ad",
   "metadata": {},
   "outputs": [],
   "source": []
  }
 ],
 "metadata": {
  "kernelspec": {
   "display_name": "Python 3 (ipykernel)",
   "language": "python",
   "name": "python3"
  },
  "language_info": {
   "codemirror_mode": {
    "name": "ipython",
    "version": 3
   },
   "file_extension": ".py",
   "mimetype": "text/x-python",
   "name": "python",
   "nbconvert_exporter": "python",
   "pygments_lexer": "ipython3",
   "version": "3.10.16"
  }
 },
 "nbformat": 4,
 "nbformat_minor": 5
}
