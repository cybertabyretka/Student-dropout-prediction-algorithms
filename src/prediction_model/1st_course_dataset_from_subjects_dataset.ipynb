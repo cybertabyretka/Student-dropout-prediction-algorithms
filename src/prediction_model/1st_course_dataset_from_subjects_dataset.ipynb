{
 "cells": [
  {
   "cell_type": "code",
   "execution_count": 1,
   "id": "39aebe84-b6b2-4638-bc9a-2f23a0b8e96a",
   "metadata": {},
   "outputs": [],
   "source": [
    "def read_dataset(path, sep=';', encoding='utf-8-sig', low_memory=False):\n",
    "    return pd.read_csv(path, sep=sep, encoding=encoding, low_memory=low_memory)\n",
    "\n",
    "def save_dataset(dataset, path, sep=';', index=False, encoding='utf-8-sig'):\n",
    "    dataset.to_csv(path, sep=sep, index=index, encoding=encoding)"
   ]
  },
  {
   "cell_type": "code",
   "execution_count": 2,
   "id": "eed80def-27c7-492d-9c5c-b018c261f52a",
   "metadata": {},
   "outputs": [],
   "source": [
    "import pandas as pd"
   ]
  },
  {
   "cell_type": "code",
   "execution_count": 3,
   "id": "018a44d9-2e90-41f1-a12a-44e5d72df2ef",
   "metadata": {},
   "outputs": [],
   "source": [
    "df_magistr = read_dataset(\"../../data/datasets/subjects_magistr.csv\")\n",
    "df_bak_spec = read_dataset(\"../../data/datasets/subjects_bak_spec.csv\")"
   ]
  },
  {
   "cell_type": "code",
   "execution_count": 4,
   "id": "a4462042-0383-4cf7-8360-f188bd08ca67",
   "metadata": {},
   "outputs": [
    {
     "data": {
      "text/plain": [
       "Index(['Приоритет', 'Cумма баллов испытаний', 'БВИ', 'Балл за инд. достижения',\n",
       "       'Категория конкурса БВИ', 'Контракт', 'Нуждается в общежитии',\n",
       "       'Иностранный абитуриент (МОН)', 'Таргет', 'Пол',\n",
       "       'Полных лет на момент поступления',\n",
       "       'Прошло лет с окончания уч. заведения', 'Общее количество пересдач',\n",
       "       'Общее количество долгов', 'Рейтинг студента', 'fromEkaterinburg',\n",
       "       'fromSverdlovskRegion', 'Human Development Index', 'Особая квота',\n",
       "       'Отдельная квота', 'Целевая квота',\n",
       "       'всероссийская олимпиада школьников (ВОШ)',\n",
       "       'олимпиада из перечня, утвержденного МОН РФ (ОШ)', 'Заочная',\n",
       "       'Очно-заочная', 'Специалист', 'Военное уч. заведение', 'Высшее',\n",
       "       'Профильная Школа', 'СПО', 'Боевые действия', 'Инвалиды',\n",
       "       'Квота для иностранных граждан', 'Сироты', 'PostSoviet', 'others',\n",
       "       'Код направления 1: 10', 'Код направления 1: 11',\n",
       "       'Код направления 1: 27', 'Код направления 1: 29',\n",
       "       'Код направления 3: 2', 'Код направления 3: 3', 'Код направления 3: 4'],\n",
       "      dtype='object')"
      ]
     },
     "execution_count": 4,
     "metadata": {},
     "output_type": "execute_result"
    }
   ],
   "source": [
    "df_bak_spec.columns"
   ]
  },
  {
   "cell_type": "code",
   "execution_count": 5,
   "id": "a6340ee3-7fbc-4ade-b854-203c51514b92",
   "metadata": {},
   "outputs": [],
   "source": [
    "df_1_sem_bak_spec = df_bak_spec.drop(columns=['Общее количество пересдач', 'Общее количество долгов', 'Позиция студента в рейтинге']).copy()\n",
    "df_1_sem_magistr = df_magistr.drop(columns=['Общее количество пересдач', 'Общее количество долгов', 'Позиция студента в рейтинге']).copy()"
   ]
  },
  {
   "cell_type": "code",
   "execution_count": 6,
   "id": "0e0757ae-00d7-4e29-b04e-2c93bda104a5",
   "metadata": {},
   "outputs": [
    {
     "data": {
      "text/plain": [
       "(1611, 40)"
      ]
     },
     "execution_count": 6,
     "metadata": {},
     "output_type": "execute_result"
    }
   ],
   "source": [
    "df_1_sem_bak_spec.shape"
   ]
  },
  {
   "cell_type": "code",
   "execution_count": 7,
   "id": "9e83fbcf-8d82-4d9b-a57f-393f4b301828",
   "metadata": {},
   "outputs": [
    {
     "data": {
      "text/plain": [
       "(670, 39)"
      ]
     },
     "execution_count": 7,
     "metadata": {},
     "output_type": "execute_result"
    }
   ],
   "source": [
    "df_1_sem_magistr.shape"
   ]
  },
  {
   "cell_type": "code",
   "execution_count": 8,
   "id": "d5bd12a9-f46c-4f1c-bd45-0dff0e701ec3",
   "metadata": {},
   "outputs": [],
   "source": [
    "df_1_sem_b_s = read_dataset('../../data/datasets/1st_course_bak_spec.csv')\n",
    "df_1_sem_m = read_dataset('../../data/datasets/1st_course_magistr.csv')"
   ]
  },
  {
   "cell_type": "code",
   "execution_count": 9,
   "id": "98c06fc7-cd13-4955-91fd-fc9aa5628c33",
   "metadata": {},
   "outputs": [
    {
     "data": {
      "text/plain": [
       "(1611, 40)"
      ]
     },
     "execution_count": 9,
     "metadata": {},
     "output_type": "execute_result"
    }
   ],
   "source": [
    "df_1_sem_b_s.shape"
   ]
  },
  {
   "cell_type": "code",
   "execution_count": 10,
   "id": "bc4be4c3-7b37-4dd5-a81c-4f7de5aaffc7",
   "metadata": {},
   "outputs": [
    {
     "data": {
      "text/plain": [
       "(670, 39)"
      ]
     },
     "execution_count": 10,
     "metadata": {},
     "output_type": "execute_result"
    }
   ],
   "source": [
    "df_1_sem_m.shape"
   ]
  },
  {
   "cell_type": "code",
   "execution_count": 11,
   "id": "4def38ee-03e7-4499-a4a3-93b1e65c3275",
   "metadata": {},
   "outputs": [],
   "source": [
    "save_dataset(df_1_sem_bak_spec, '../../data/datasets/1st_course_bak_spec.csv')\n",
    "save_dataset(df_1_sem_magistr, '../../data/datasets/1st_course_magistr.csv')"
   ]
  },
  {
   "cell_type": "code",
   "execution_count": null,
   "id": "61b1e087-3815-41a5-bc74-a5b2789e4834",
   "metadata": {},
   "outputs": [],
   "source": []
  }
 ],
 "metadata": {
  "kernelspec": {
   "display_name": "Python 3 (ipykernel)",
   "language": "python",
   "name": "python3"
  },
  "language_info": {
   "codemirror_mode": {
    "name": "ipython",
    "version": 3
   },
   "file_extension": ".py",
   "mimetype": "text/x-python",
   "name": "python",
   "nbconvert_exporter": "python",
   "pygments_lexer": "ipython3",
   "version": "3.10.16"
  }
 },
 "nbformat": 4,
 "nbformat_minor": 5
}
