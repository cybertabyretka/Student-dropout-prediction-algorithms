{
 "cells": [
  {
   "cell_type": "code",
   "execution_count": 9,
   "id": "ffa1a523-8497-41c5-87fc-2e8d4175ea1a",
   "metadata": {},
   "outputs": [],
   "source": [
    "import pandas as pd\n",
    "from sklearn.model_selection import train_test_split, GridSearchCV\n",
    "from sklearn.pipeline import Pipeline\n",
    "from sklearn.preprocessing import StandardScaler\n",
    "from sklearn.tree import DecisionTreeClassifier\n",
    "from sklearn.metrics import classification_report, confusion_matrix, ConfusionMatrixDisplay\n",
    "import matplotlib.pyplot as plt\n",
    "import joblib\n",
    "import numpy as np\n",
    "\n",
    "random_state = 42"
   ]
  },
  {
   "cell_type": "code",
   "execution_count": 14,
   "id": "8f0b386a-6113-4ffa-8acf-d2a38c9967cb",
   "metadata": {},
   "outputs": [],
   "source": [
    "def read_dataset(path, sep=';', encoding='utf-8-sig', low_memory=False):\n",
    "    return pd.read_csv(path, sep=sep, encoding=encoding, low_memory=low_memory)\n",
    "\n",
    "def save_dataset(dataset, path, sep=';', index=False, encoding='utf-8-sig'):\n",
    "    dataset.to_csv(path, sep=sep, index=index, encoding=encoding)\n",
    "\n",
    "course_1_bak_spec = read_dataset(\"../../data/datasets/1st_course_bak_spec.csv\")\n",
    "course_1_magistr = read_dataset(\"../../data/datasets/1st_course_magistr.csv\")\n",
    "\n",
    "subjects_bak_spec = read_dataset(\"../../data/datasets/subjects_bak_spec.csv\")\n",
    "subjects_magistr = read_dataset(\"../../data/datasets/subjects_magistr.csv\")"
   ]
  },
  {
   "cell_type": "markdown",
   "id": "c27ff85b-c573-4ad0-ad51-9848dbfc2563",
   "metadata": {},
   "source": [
    "ОБРАБОТКА ДАТАСЕТОВ ДЛЯ ПЕРВОГО КУРСА"
   ]
  },
  {
   "cell_type": "code",
   "execution_count": 16,
   "id": "aad0375e-2868-430c-9116-d6405db5f086",
   "metadata": {},
   "outputs": [
    {
     "name": "stdout",
     "output_type": "stream",
     "text": [
      "Полных лет на момент поступления ↔ Прошло лет с окончания уч. заведения: 0.8682\n",
      "Отдельная квота ↔ Боевые действия: 0.8147\n",
      "БВИ ↔ олимпиада из перечня, утвержденного МОН РФ (ОШ): 0.7281\n",
      "Особая квота ↔ Инвалиды: 0.7202\n",
      "Cумма баллов испытаний ↔ БВИ: 0.7156\n",
      "Особая квота ↔ Сироты: 0.6477\n",
      "БВИ ↔ Иностранный абитуриент (МОН): 0.6198\n",
      "Нуждается в общежитии ↔ fromEkaterinburg: 0.5823\n",
      "fromEkaterinburg ↔ fromSverdlovskRegion: 0.5711\n",
      "Иностранный абитуриент (МОН) ↔ Квота для иностранных граждан: 0.5571\n",
      "Полных лет на момент поступления ↔ Высшее: 0.5368\n",
      "Cумма баллов испытаний ↔ олимпиада из перечня, утвержденного МОН РФ (ОШ): 0.5211\n",
      "Полных лет на момент поступления ↔ Заочная: 0.4839\n",
      "Заочная ↔ СПО: 0.4816\n",
      "Специалист ↔ Код направления 1: 10: 0.4748\n",
      "Прошло лет с окончания уч. заведения ↔ Высшее: 0.4702\n",
      "Полных лет на момент поступления ↔ СПО: 0.4557\n",
      "Cумма баллов испытаний ↔ Иностранный абитуриент (МОН): 0.4435\n",
      "Код направления 3: 3 ↔ Код направления 3: 4: 0.3883\n",
      "Нуждается в общежитии ↔ fromSverdlovskRegion: 0.3796\n"
     ]
    }
   ],
   "source": [
    "df_numeric = course_1_bak_spec.select_dtypes(include=[np.number])\n",
    "df_numeric.dropna(inplace=True)\n",
    "corr_matrix = df_numeric.corr().abs()\n",
    "np.fill_diagonal(corr_matrix.values, 0)\n",
    "pairs = (\n",
    "    corr_matrix.where(np.triu(np.ones(corr_matrix.shape), k=1).astype(bool))\n",
    "    .stack()\n",
    "    .sort_values(ascending=False)\n",
    ")\n",
    "top_pairs = pairs.head(20)\n",
    "for (col1, col2), value in top_pairs.items():\n",
    "    print(f\"{col1} ↔ {col2}: {value:.4f}\")"
   ]
  },
  {
   "cell_type": "code",
   "execution_count": 18,
   "id": "e7c8ae22-f6ea-452d-abea-9e78cc2483f1",
   "metadata": {},
   "outputs": [],
   "source": [
    "course_1_bak_spec.drop(columns=['Прошло лет с окончания уч. заведения'], inplace=True)"
   ]
  },
  {
   "cell_type": "code",
   "execution_count": 17,
   "id": "708f1b2c-f020-4029-a896-53168f1656da",
   "metadata": {},
   "outputs": [
    {
     "name": "stdout",
     "output_type": "stream",
     "text": [
      "БВИ ↔ Иностранный абитуриент (МОН): 1.0000\n",
      "Полных лет на момент поступления ↔ Прошло лет с окончания уч. заведения: 0.9440\n",
      "Иностранный абитуриент (МОН) ↔ Квота для иностранных граждан: 0.7431\n",
      "БВИ ↔ Квота для иностранных граждан: 0.7431\n",
      "fromEkaterinburg ↔ fromSverdlovskRegion: 0.6493\n",
      "Заочная ↔ Код направления 3: 3: 0.5965\n",
      "Cумма баллов испытаний ↔ Контракт: 0.5250\n",
      "БВИ ↔ Human Development Index: 0.5016\n",
      "Иностранный абитуриент (МОН) ↔ Human Development Index: 0.5016\n",
      "Cумма баллов испытаний ↔ БВИ: 0.4905\n",
      "Cумма баллов испытаний ↔ Иностранный абитуриент (МОН): 0.4905\n",
      "Код направления 1: 27 ↔ Код направления 3: 4: 0.4904\n",
      "Контракт ↔ Полных лет на момент поступления: 0.4207\n",
      "Контракт ↔ Прошло лет с окончания уч. заведения: 0.4016\n",
      "Контракт ↔ fromSverdlovskRegion: 0.3809\n",
      "Cумма баллов испытаний ↔ Квота для иностранных граждан: 0.3645\n",
      "Human Development Index ↔ Квота для иностранных граждан: 0.3428\n",
      "Cумма баллов испытаний ↔ Полных лет на момент поступления: 0.3321\n",
      "Приоритет ↔ Код направления 1: 11: 0.3310\n",
      "Cумма баллов испытаний ↔ Human Development Index: 0.3209\n"
     ]
    }
   ],
   "source": [
    "df_numeric = course_1_magistr.select_dtypes(include=[np.number])\n",
    "df_numeric.dropna(inplace=True)\n",
    "corr_matrix = df_numeric.corr().abs()\n",
    "np.fill_diagonal(corr_matrix.values, 0)\n",
    "pairs = (\n",
    "    corr_matrix.where(np.triu(np.ones(corr_matrix.shape), k=1).astype(bool))\n",
    "    .stack()\n",
    "    .sort_values(ascending=False)\n",
    ")\n",
    "top_pairs = pairs.head(20)\n",
    "for (col1, col2), value in top_pairs.items():\n",
    "    print(f\"{col1} ↔ {col2}: {value:.4f}\")"
   ]
  },
  {
   "cell_type": "code",
   "execution_count": 19,
   "id": "09cfe93a-0001-449c-a410-3128bb3db1ab",
   "metadata": {},
   "outputs": [],
   "source": [
    "course_1_magistr.drop(columns=['БВИ', 'Прошло лет с окончания уч. заведения'], inplace=True)"
   ]
  },
  {
   "cell_type": "code",
   "execution_count": 20,
   "id": "04a25e89-dc34-4f28-8eb2-f0536ac5d705",
   "metadata": {},
   "outputs": [],
   "source": [
    "save_dataset(course_1_bak_spec, \"../../data/datasets/1st_course_bak_spec.csv\")\n",
    "save_dataset(course_1_magistr, \"../../data/datasets/1st_course_magistr.csv\")"
   ]
  },
  {
   "cell_type": "markdown",
   "id": "686294bf-fc34-4a39-b865-18b357cabe0f",
   "metadata": {},
   "source": [
    "ОБРАБОТКА ДАТАСЕТОВ ДЛЯ БАЛЛОВ"
   ]
  },
  {
   "cell_type": "code",
   "execution_count": 21,
   "id": "d6822075-f976-49fa-8aed-1429f4096cb6",
   "metadata": {},
   "outputs": [
    {
     "name": "stdout",
     "output_type": "stream",
     "text": [
      "Полных лет на момент поступления ↔ Прошло лет с окончания уч. заведения: 0.8682\n",
      "Общее количество долгов ↔ Позиция студента в рейтинге: 0.8168\n",
      "Отдельная квота ↔ Боевые действия: 0.8147\n",
      "БВИ ↔ олимпиада из перечня, утвержденного МОН РФ (ОШ): 0.7281\n",
      "Особая квота ↔ Инвалиды: 0.7202\n",
      "Cумма баллов испытаний ↔ БВИ: 0.7156\n",
      "Особая квота ↔ Сироты: 0.6477\n",
      "БВИ ↔ Иностранный абитуриент (МОН): 0.6198\n",
      "Нуждается в общежитии ↔ fromEkaterinburg: 0.5823\n",
      "fromEkaterinburg ↔ fromSverdlovskRegion: 0.5711\n",
      "Иностранный абитуриент (МОН) ↔ Квота для иностранных граждан: 0.5571\n",
      "Полных лет на момент поступления ↔ Высшее: 0.5368\n",
      "Общее количество долгов ↔ Код направления 1: 11: 0.5238\n",
      "Cумма баллов испытаний ↔ олимпиада из перечня, утвержденного МОН РФ (ОШ): 0.5211\n",
      "Полных лет на момент поступления ↔ Заочная: 0.4839\n",
      "Таргет ↔ Позиция студента в рейтинге: 0.4826\n",
      "Заочная ↔ СПО: 0.4816\n",
      "Специалист ↔ Код направления 1: 10: 0.4748\n",
      "Прошло лет с окончания уч. заведения ↔ Высшее: 0.4702\n",
      "Полных лет на момент поступления ↔ СПО: 0.4557\n"
     ]
    }
   ],
   "source": [
    "df_numeric = subjects_bak_spec.select_dtypes(include=[np.number])\n",
    "df_numeric.dropna(inplace=True)\n",
    "corr_matrix = df_numeric.corr().abs()\n",
    "np.fill_diagonal(corr_matrix.values, 0)\n",
    "pairs = (\n",
    "    corr_matrix.where(np.triu(np.ones(corr_matrix.shape), k=1).astype(bool))\n",
    "    .stack()\n",
    "    .sort_values(ascending=False)\n",
    ")\n",
    "top_pairs = pairs.head(20)\n",
    "for (col1, col2), value in top_pairs.items():\n",
    "    print(f\"{col1} ↔ {col2}: {value:.4f}\")"
   ]
  },
  {
   "cell_type": "code",
   "execution_count": 23,
   "id": "cb3d8b80-8b13-43a6-bb37-93171092c0a7",
   "metadata": {},
   "outputs": [],
   "source": [
    "subjects_bak_spec.drop(columns=['Прошло лет с окончания уч. заведения'], inplace=True)"
   ]
  },
  {
   "cell_type": "code",
   "execution_count": 22,
   "id": "f86bf2ae-7887-4607-82f0-1105dc142ec4",
   "metadata": {},
   "outputs": [
    {
     "name": "stdout",
     "output_type": "stream",
     "text": [
      "БВИ ↔ Иностранный абитуриент (МОН): 1.0000\n",
      "Полных лет на момент поступления ↔ Прошло лет с окончания уч. заведения: 0.9440\n",
      "Общее количество долгов ↔ Позиция студента в рейтинге: 0.8619\n",
      "Общее количество пересдач ↔ Код направления 1: 27: 0.8544\n",
      "Иностранный абитуриент (МОН) ↔ Квота для иностранных граждан: 0.7431\n",
      "БВИ ↔ Квота для иностранных граждан: 0.7431\n",
      "fromEkaterinburg ↔ fromSverdlovskRegion: 0.6493\n",
      "Заочная ↔ Код направления 3: 3: 0.5965\n",
      "Cумма баллов испытаний ↔ Контракт: 0.5250\n",
      "БВИ ↔ Human Development Index: 0.5016\n",
      "Иностранный абитуриент (МОН) ↔ Human Development Index: 0.5016\n",
      "Cумма баллов испытаний ↔ Иностранный абитуриент (МОН): 0.4905\n",
      "Cумма баллов испытаний ↔ БВИ: 0.4905\n",
      "Код направления 1: 27 ↔ Код направления 3: 4: 0.4904\n",
      "Таргет ↔ Позиция студента в рейтинге: 0.4628\n",
      "Таргет ↔ Общее количество долгов: 0.4565\n",
      "Общее количество пересдач ↔ Код направления 3: 4: 0.4229\n",
      "Контракт ↔ Полных лет на момент поступления: 0.4207\n",
      "Контракт ↔ Прошло лет с окончания уч. заведения: 0.4016\n",
      "Контракт ↔ fromSverdlovskRegion: 0.3809\n"
     ]
    }
   ],
   "source": [
    "df_numeric = subjects_magistr.select_dtypes(include=[np.number])\n",
    "df_numeric.dropna(inplace=True)\n",
    "corr_matrix = df_numeric.corr().abs()\n",
    "np.fill_diagonal(corr_matrix.values, 0)\n",
    "pairs = (\n",
    "    corr_matrix.where(np.triu(np.ones(corr_matrix.shape), k=1).astype(bool))\n",
    "    .stack()\n",
    "    .sort_values(ascending=False)\n",
    ")\n",
    "top_pairs = pairs.head(20)\n",
    "for (col1, col2), value in top_pairs.items():\n",
    "    print(f\"{col1} ↔ {col2}: {value:.4f}\")"
   ]
  },
  {
   "cell_type": "code",
   "execution_count": 24,
   "id": "8f81fcd2-55cc-48ef-9aa7-11f28ef80e7a",
   "metadata": {},
   "outputs": [],
   "source": [
    "subjects_magistr.drop(columns=['БВИ', 'Прошло лет с окончания уч. заведения'], inplace=True)"
   ]
  },
  {
   "cell_type": "code",
   "execution_count": 25,
   "id": "be42fc10-e873-4870-84e8-6365e267998a",
   "metadata": {},
   "outputs": [],
   "source": [
    "save_dataset(subjects_bak_spec, \"../../data/datasets/subjects_bak_spec.csv\")\n",
    "save_dataset(subjects_magistr, \"../../data/datasets/subjects_magistr.csv\")"
   ]
  },
  {
   "cell_type": "code",
   "execution_count": 26,
   "id": "0b70f83f-400f-4b7b-8ae5-a6ccd8621458",
   "metadata": {},
   "outputs": [
    {
     "name": "stdout",
     "output_type": "stream",
     "text": [
      "Отдельная квота ↔ Боевые действия: 0.8147\n",
      "БВИ ↔ олимпиада из перечня, утвержденного МОН РФ (ОШ): 0.7281\n",
      "Особая квота ↔ Инвалиды: 0.7202\n",
      "Cумма баллов испытаний ↔ БВИ: 0.7156\n",
      "Особая квота ↔ Сироты: 0.6477\n",
      "БВИ ↔ Иностранный абитуриент (МОН): 0.6198\n",
      "Нуждается в общежитии ↔ fromEkaterinburg: 0.5823\n",
      "fromEkaterinburg ↔ fromSverdlovskRegion: 0.5711\n",
      "Иностранный абитуриент (МОН) ↔ Квота для иностранных граждан: 0.5571\n",
      "Полных лет на момент поступления ↔ Высшее: 0.5368\n",
      "Cумма баллов испытаний ↔ олимпиада из перечня, утвержденного МОН РФ (ОШ): 0.5211\n",
      "Полных лет на момент поступления ↔ Заочная: 0.4839\n",
      "Заочная ↔ СПО: 0.4816\n",
      "Специалист ↔ Код направления 1: 10: 0.4748\n",
      "Полных лет на момент поступления ↔ СПО: 0.4557\n",
      "Cумма баллов испытаний ↔ Иностранный абитуриент (МОН): 0.4435\n",
      "Код направления 3: 3 ↔ Код направления 3: 4: 0.3883\n",
      "Нуждается в общежитии ↔ fromSverdlovskRegion: 0.3796\n",
      "Специалист ↔ Код направления 3: 2: 0.3646\n",
      "БВИ ↔ Квота для иностранных граждан: 0.3453\n"
     ]
    }
   ],
   "source": [
    "df_numeric = course_1_bak_spec.select_dtypes(include=[np.number])\n",
    "df_numeric.dropna(inplace=True)\n",
    "corr_matrix = df_numeric.corr().abs()\n",
    "np.fill_diagonal(corr_matrix.values, 0)\n",
    "pairs = (\n",
    "    corr_matrix.where(np.triu(np.ones(corr_matrix.shape), k=1).astype(bool))\n",
    "    .stack()\n",
    "    .sort_values(ascending=False)\n",
    ")\n",
    "top_pairs = pairs.head(20)\n",
    "for (col1, col2), value in top_pairs.items():\n",
    "    print(f\"{col1} ↔ {col2}: {value:.4f}\")"
   ]
  },
  {
   "cell_type": "code",
   "execution_count": 27,
   "id": "156d83eb-f080-4f15-97cd-a83b728f9d39",
   "metadata": {},
   "outputs": [
    {
     "name": "stdout",
     "output_type": "stream",
     "text": [
      "Иностранный абитуриент (МОН) ↔ Квота для иностранных граждан: 0.7431\n",
      "fromEkaterinburg ↔ fromSverdlovskRegion: 0.6493\n",
      "Заочная ↔ Код направления 3: 3: 0.5965\n",
      "Cумма баллов испытаний ↔ Контракт: 0.5250\n",
      "Иностранный абитуриент (МОН) ↔ Human Development Index: 0.5016\n",
      "Cумма баллов испытаний ↔ Иностранный абитуриент (МОН): 0.4905\n",
      "Код направления 1: 27 ↔ Код направления 3: 4: 0.4904\n",
      "Контракт ↔ Полных лет на момент поступления: 0.4207\n",
      "Контракт ↔ fromSverdlovskRegion: 0.3809\n",
      "Cумма баллов испытаний ↔ Квота для иностранных граждан: 0.3645\n",
      "Human Development Index ↔ Квота для иностранных граждан: 0.3428\n",
      "Cумма баллов испытаний ↔ Полных лет на момент поступления: 0.3321\n",
      "Приоритет ↔ Код направления 1: 11: 0.3310\n",
      "Cумма баллов испытаний ↔ Human Development Index: 0.3209\n",
      "Cумма баллов испытаний ↔ fromSverdlovskRegion: 0.2923\n",
      "Код направления 1: 29 ↔ Код направления 3: 3: 0.2831\n",
      "Контракт ↔ Код направления 1: 11: 0.2759\n",
      "Приоритет ↔ Контракт: 0.2654\n",
      "Балл за инд. достижения ↔ Код направления 3: 2: 0.2489\n",
      "Контракт ↔ Нуждается в общежитии: 0.2412\n"
     ]
    }
   ],
   "source": [
    "df_numeric = course_1_magistr.select_dtypes(include=[np.number])\n",
    "df_numeric.dropna(inplace=True)\n",
    "corr_matrix = df_numeric.corr().abs()\n",
    "np.fill_diagonal(corr_matrix.values, 0)\n",
    "pairs = (\n",
    "    corr_matrix.where(np.triu(np.ones(corr_matrix.shape), k=1).astype(bool))\n",
    "    .stack()\n",
    "    .sort_values(ascending=False)\n",
    ")\n",
    "top_pairs = pairs.head(20)\n",
    "for (col1, col2), value in top_pairs.items():\n",
    "    print(f\"{col1} ↔ {col2}: {value:.4f}\")"
   ]
  },
  {
   "cell_type": "code",
   "execution_count": 28,
   "id": "3bd5447d-8e72-41d0-a0b9-7f4ecdc7568d",
   "metadata": {},
   "outputs": [
    {
     "name": "stdout",
     "output_type": "stream",
     "text": [
      "Общее количество долгов ↔ Позиция студента в рейтинге: 0.8168\n",
      "Отдельная квота ↔ Боевые действия: 0.8147\n",
      "БВИ ↔ олимпиада из перечня, утвержденного МОН РФ (ОШ): 0.7281\n",
      "Особая квота ↔ Инвалиды: 0.7202\n",
      "Cумма баллов испытаний ↔ БВИ: 0.7156\n",
      "Особая квота ↔ Сироты: 0.6477\n",
      "БВИ ↔ Иностранный абитуриент (МОН): 0.6198\n",
      "Нуждается в общежитии ↔ fromEkaterinburg: 0.5823\n",
      "fromEkaterinburg ↔ fromSverdlovskRegion: 0.5711\n",
      "Иностранный абитуриент (МОН) ↔ Квота для иностранных граждан: 0.5571\n",
      "Полных лет на момент поступления ↔ Высшее: 0.5368\n",
      "Общее количество долгов ↔ Код направления 1: 11: 0.5238\n",
      "Cумма баллов испытаний ↔ олимпиада из перечня, утвержденного МОН РФ (ОШ): 0.5211\n",
      "Полных лет на момент поступления ↔ Заочная: 0.4839\n",
      "Таргет ↔ Позиция студента в рейтинге: 0.4826\n",
      "Заочная ↔ СПО: 0.4816\n",
      "Специалист ↔ Код направления 1: 10: 0.4748\n",
      "Полных лет на момент поступления ↔ СПО: 0.4557\n",
      "Cумма баллов испытаний ↔ Иностранный абитуриент (МОН): 0.4435\n",
      "Таргет ↔ Общее количество долгов: 0.4302\n"
     ]
    }
   ],
   "source": [
    "df_numeric = subjects_bak_spec.select_dtypes(include=[np.number])\n",
    "df_numeric.dropna(inplace=True)\n",
    "corr_matrix = df_numeric.corr().abs()\n",
    "np.fill_diagonal(corr_matrix.values, 0)\n",
    "pairs = (\n",
    "    corr_matrix.where(np.triu(np.ones(corr_matrix.shape), k=1).astype(bool))\n",
    "    .stack()\n",
    "    .sort_values(ascending=False)\n",
    ")\n",
    "top_pairs = pairs.head(20)\n",
    "for (col1, col2), value in top_pairs.items():\n",
    "    print(f\"{col1} ↔ {col2}: {value:.4f}\")"
   ]
  },
  {
   "cell_type": "code",
   "execution_count": 29,
   "id": "7606197e-81a6-4d6f-a02c-5a0f4e98da3c",
   "metadata": {},
   "outputs": [
    {
     "name": "stdout",
     "output_type": "stream",
     "text": [
      "Общее количество долгов ↔ Позиция студента в рейтинге: 0.8619\n",
      "Общее количество пересдач ↔ Код направления 1: 27: 0.8544\n",
      "Иностранный абитуриент (МОН) ↔ Квота для иностранных граждан: 0.7431\n",
      "fromEkaterinburg ↔ fromSverdlovskRegion: 0.6493\n",
      "Заочная ↔ Код направления 3: 3: 0.5965\n",
      "Cумма баллов испытаний ↔ Контракт: 0.5250\n",
      "Иностранный абитуриент (МОН) ↔ Human Development Index: 0.5016\n",
      "Cумма баллов испытаний ↔ Иностранный абитуриент (МОН): 0.4905\n",
      "Код направления 1: 27 ↔ Код направления 3: 4: 0.4904\n",
      "Таргет ↔ Позиция студента в рейтинге: 0.4628\n",
      "Таргет ↔ Общее количество долгов: 0.4565\n",
      "Общее количество пересдач ↔ Код направления 3: 4: 0.4229\n",
      "Контракт ↔ Полных лет на момент поступления: 0.4207\n",
      "Контракт ↔ fromSverdlovskRegion: 0.3809\n",
      "Cумма баллов испытаний ↔ Квота для иностранных граждан: 0.3645\n",
      "Human Development Index ↔ Квота для иностранных граждан: 0.3428\n",
      "Cумма баллов испытаний ↔ Полных лет на момент поступления: 0.3321\n",
      "Приоритет ↔ Код направления 1: 11: 0.3310\n",
      "Cумма баллов испытаний ↔ Human Development Index: 0.3209\n",
      "Cумма баллов испытаний ↔ fromSverdlovskRegion: 0.2923\n"
     ]
    }
   ],
   "source": [
    "df_numeric = subjects_magistr.select_dtypes(include=[np.number])\n",
    "df_numeric.dropna(inplace=True)\n",
    "corr_matrix = df_numeric.corr().abs()\n",
    "np.fill_diagonal(corr_matrix.values, 0)\n",
    "pairs = (\n",
    "    corr_matrix.where(np.triu(np.ones(corr_matrix.shape), k=1).astype(bool))\n",
    "    .stack()\n",
    "    .sort_values(ascending=False)\n",
    ")\n",
    "top_pairs = pairs.head(20)\n",
    "for (col1, col2), value in top_pairs.items():\n",
    "    print(f\"{col1} ↔ {col2}: {value:.4f}\")"
   ]
  },
  {
   "cell_type": "code",
   "execution_count": null,
   "id": "b8e605e2-2132-456e-b0b1-3035847ba8ca",
   "metadata": {},
   "outputs": [],
   "source": []
  }
 ],
 "metadata": {
  "kernelspec": {
   "display_name": "Python 3 (ipykernel)",
   "language": "python",
   "name": "python3"
  },
  "language_info": {
   "codemirror_mode": {
    "name": "ipython",
    "version": 3
   },
   "file_extension": ".py",
   "mimetype": "text/x-python",
   "name": "python",
   "nbconvert_exporter": "python",
   "pygments_lexer": "ipython3",
   "version": "3.10.16"
  }
 },
 "nbformat": 4,
 "nbformat_minor": 5
}
