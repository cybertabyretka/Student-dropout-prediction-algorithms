{
 "cells": [
  {
   "cell_type": "code",
   "execution_count": 25,
   "id": "4b0135ca-af03-403d-aaf7-39216194c234",
   "metadata": {},
   "outputs": [],
   "source": [
    "# Модель для 1 курса бакалавриат_специалитет\n",
    "\n",
    "import joblib\n",
    "\n",
    "model_path = \"../../data/models/1st_course_dec_tree_model_bak_spec.joblib\"\n",
    "with open(model_path, 'rb') as f:\n",
    "    model= joblib.load(f)"
   ]
  },
  {
   "cell_type": "code",
   "execution_count": 26,
   "id": "1c54030a-d685-4274-9d0a-9f619feb04bc",
   "metadata": {},
   "outputs": [],
   "source": [
    "import pandas as pd\n",
    "\n",
    "def read_dataset(path, sep=';', encoding='utf-8-sig', low_memory=False):\n",
    "    return pd.read_csv(path, sep=sep, encoding=encoding, low_memory=low_memory)\n",
    "\n",
    "df = read_dataset(\"../../data/datasets/example_1st_course_bak_spec.csv\")"
   ]
  },
  {
   "cell_type": "code",
   "execution_count": 27,
   "id": "1da17130-5e21-4173-93e7-a08e9ccef8eb",
   "metadata": {},
   "outputs": [
    {
     "data": {
      "text/plain": [
       "(2, 39)"
      ]
     },
     "execution_count": 27,
     "metadata": {},
     "output_type": "execute_result"
    }
   ],
   "source": [
    "df.shape"
   ]
  },
  {
   "cell_type": "code",
   "execution_count": 28,
   "id": "0c5e3009-827f-4892-b9bc-fbdbf5827f02",
   "metadata": {},
   "outputs": [
    {
     "data": {
      "text/plain": [
       "array([0])"
      ]
     },
     "execution_count": 28,
     "metadata": {},
     "output_type": "execute_result"
    }
   ],
   "source": [
    "model.predict(df.iloc[[0]])"
   ]
  },
  {
   "cell_type": "code",
   "execution_count": 29,
   "id": "abe17332-257a-491a-95f3-edf31559affa",
   "metadata": {},
   "outputs": [
    {
     "data": {
      "text/plain": [
       "array([1])"
      ]
     },
     "execution_count": 29,
     "metadata": {},
     "output_type": "execute_result"
    }
   ],
   "source": [
    "model.predict(df.iloc[[1]])"
   ]
  },
  {
   "cell_type": "code",
   "execution_count": 30,
   "id": "fba896ef-f962-4081-b3c1-c45bb81489e6",
   "metadata": {},
   "outputs": [],
   "source": [
    "# Модель для 1 курса магистратура\n",
    "\n",
    "import joblib\n",
    "\n",
    "model_path = \"../../data/models/1st_course_dec_tree_model_magistr.joblib\"\n",
    "with open(model_path, 'rb') as f:\n",
    "    model= joblib.load(f)"
   ]
  },
  {
   "cell_type": "code",
   "execution_count": 31,
   "id": "c5f00e3e-46cc-483f-9ed2-b063309488ab",
   "metadata": {},
   "outputs": [],
   "source": [
    "import pandas as pd\n",
    "\n",
    "def read_dataset(path, sep=';', encoding='utf-8-sig', low_memory=False):\n",
    "    return pd.read_csv(path, sep=sep, encoding=encoding, low_memory=low_memory)\n",
    "\n",
    "df = read_dataset(\"../../data/datasets/example_1st_course_magistr.csv\")"
   ]
  },
  {
   "cell_type": "code",
   "execution_count": 32,
   "id": "c0aadf18-a9fa-4dc6-a563-40ee8aeaf4a2",
   "metadata": {},
   "outputs": [
    {
     "data": {
      "text/plain": [
       "(2, 38)"
      ]
     },
     "execution_count": 32,
     "metadata": {},
     "output_type": "execute_result"
    }
   ],
   "source": [
    "df.shape"
   ]
  },
  {
   "cell_type": "code",
   "execution_count": 33,
   "id": "0a4e5e29-0e30-4797-aedb-3261e5362f5b",
   "metadata": {},
   "outputs": [
    {
     "data": {
      "text/plain": [
       "array([0])"
      ]
     },
     "execution_count": 33,
     "metadata": {},
     "output_type": "execute_result"
    }
   ],
   "source": [
    "model.predict(df.iloc[[0]])"
   ]
  },
  {
   "cell_type": "code",
   "execution_count": 34,
   "id": "9ab5b99e-6196-48ba-930a-3739785d97fd",
   "metadata": {},
   "outputs": [
    {
     "data": {
      "text/plain": [
       "array([1])"
      ]
     },
     "execution_count": 34,
     "metadata": {},
     "output_type": "execute_result"
    }
   ],
   "source": [
    "model.predict(df.iloc[[1]])"
   ]
  },
  {
   "cell_type": "code",
   "execution_count": null,
   "id": "aba20099-b677-45c4-88c6-08d968ac8ceb",
   "metadata": {},
   "outputs": [],
   "source": []
  }
 ],
 "metadata": {
  "kernelspec": {
   "display_name": "Python 3 (ipykernel)",
   "language": "python",
   "name": "python3"
  },
  "language_info": {
   "codemirror_mode": {
    "name": "ipython",
    "version": 3
   },
   "file_extension": ".py",
   "mimetype": "text/x-python",
   "name": "python",
   "nbconvert_exporter": "python",
   "pygments_lexer": "ipython3",
   "version": "3.10.16"
  }
 },
 "nbformat": 4,
 "nbformat_minor": 5
}
