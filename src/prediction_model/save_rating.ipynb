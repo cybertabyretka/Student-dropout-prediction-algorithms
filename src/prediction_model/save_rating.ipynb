{
 "cells": [
  {
   "cell_type": "code",
   "execution_count": 1,
   "id": "bd742634-dac7-45d7-bafe-0d26762f1bac",
   "metadata": {},
   "outputs": [
    {
     "data": {
      "text/plain": [
       "['bak_spec_sorted_ratings.joblib']"
      ]
     },
     "execution_count": 1,
     "metadata": {},
     "output_type": "execute_result"
    }
   ],
   "source": [
    "import pandas as pd\n",
    "from joblib import dump\n",
    "\n",
    "def read_dataset(path, sep=';', encoding='utf-8-sig', low_memory=False):\n",
    "    return pd.read_csv(path, sep=sep, encoding=encoding, low_memory=low_memory)\n",
    "\n",
    "df_magistr_ratings = read_dataset('../../data/datasets/subjects_magistr_ratings.csv')\n",
    "df_bak_spec_ratings = read_dataset(\"../../data/datasets/subjects_bak_spec_ratings.csv\")\n",
    "\n",
    "magistr_sorted_ratings = sorted(df_magistr_ratings['Рейтинг студента'])\n",
    "bak_spec_sorted_ratings = sorted(df_bak_spec_ratings['Рейтинг студента'])\n",
    "\n",
    "dump(magistr_sorted_ratings, 'magistr_sorted_ratings.joblib')\n",
    "dump(bak_spec_sorted_ratings, 'bak_spec_sorted_ratings.joblib')"
   ]
  },
  {
   "cell_type": "code",
   "execution_count": null,
   "id": "ec8b71dd-2902-4b4d-bb7c-0c78279f8a9b",
   "metadata": {},
   "outputs": [],
   "source": []
  }
 ],
 "metadata": {
  "kernelspec": {
   "display_name": "Python 3 (ipykernel)",
   "language": "python",
   "name": "python3"
  },
  "language_info": {
   "codemirror_mode": {
    "name": "ipython",
    "version": 3
   },
   "file_extension": ".py",
   "mimetype": "text/x-python",
   "name": "python",
   "nbconvert_exporter": "python",
   "pygments_lexer": "ipython3",
   "version": "3.10.16"
  }
 },
 "nbformat": 4,
 "nbformat_minor": 5
}
