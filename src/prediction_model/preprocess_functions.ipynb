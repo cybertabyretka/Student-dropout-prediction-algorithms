{
 "cells": [
  {
   "cell_type": "code",
   "execution_count": null,
   "id": "0ee8881f-e74a-43ae-be2d-3571e8b9a0d7",
   "metadata": {},
   "outputs": [],
   "source": [
    "import pandas as pd"
   ]
  },
  {
   "cell_type": "code",
   "execution_count": null,
   "id": "3e514f02-4b86-4191-a1e0-c17938cb4fbe",
   "metadata": {},
   "outputs": [],
   "source": [
    "def save_dataset(dataset, path, sep=';', index=False, encoding='utf-8-sig'):\n",
    "    dataset.to_csv(path, sep=sep, index=index, encoding=encoding)\n",
    "\n",
    "def read_dataset(path, sep=';', encoding='utf-8-sig', low_memory=False):\n",
    "    return pd.read_csv(path, sep=sep, encoding=encoding, low_memory=low_memory)"
   ]
  },
  {
   "cell_type": "code",
   "execution_count": null,
   "id": "b0ebda12-ff4c-4320-9ee2-9ceaf95cf18d",
   "metadata": {},
   "outputs": [],
   "source": [
    "is_na = {'зач.': (70, 1), 'неуваж.': (0, 1), 'недсд.': (0, 1), '4': (70, 1), 'недоп.': (0, 1), '5': (90, 1), 'незач.': (20, 1), '2': (20, 1), '3': (50, 1)}"
   ]
  },
  {
   "cell_type": "code",
   "execution_count": null,
   "id": "4753edb9-b4b1-4e8b-939a-42a687bee6f0",
   "metadata": {},
   "outputs": [],
   "source": [
    "def power_penalty_score(student_scores, subject_stats, p=2.0):\n",
    "    total_score = 0\n",
    "    subject_count = 0\n",
    "\n",
    "    for subject, student_score in student_scores.items():\n",
    "        stats = subject_stats[subject]\n",
    "        scores = stats['scores']\n",
    "        total_students = stats['total_students']\n",
    "\n",
    "        non_zero_scores = [s for s in scores if s > 0]\n",
    "        num_fails = total_students - len(non_zero_scores)\n",
    "\n",
    "        if len(non_zero_scores) == 0 or total_students == 0:\n",
    "            continue\n",
    "\n",
    "        mean_clean = sum(non_zero_scores) / len(non_zero_scores)\n",
    "        fail_ratio = num_fails / total_students\n",
    "\n",
    "        if student_score < 40:\n",
    "            if 1 / (fail_ratio + 1e-6) <= 0:\n",
    "                print(1 / (fail_ratio + 1e-6))\n",
    "                print(f'fail_ratio: {fail_ratio}')\n",
    "                print(f'num_fails: {num_fails}')\n",
    "                print(f'non_zero_scores: {len(non_zero_scores)}')\n",
    "                print(f'total_students: {total_students}')\n",
    "                print(f\"subject: {subject}\")\n",
    "            multiplier = 1 + math.log(1 / (fail_ratio + 1e-6))\n",
    "            adjusted = (mean_clean ** p) * multiplier\n",
    "        else:\n",
    "            delta = mean_clean - student_score\n",
    "            signed_power_delta = math.copysign(abs(delta) ** p, delta)\n",
    "            adjusted = signed_power_delta * fail_ratio\n",
    "\n",
    "        total_score += adjusted\n",
    "        subject_count += 1\n",
    "\n",
    "    if subject_count == 0:\n",
    "        return None\n",
    "\n",
    "    return total_score / subject_count"
   ]
  },
  {
   "cell_type": "code",
   "execution_count": null,
   "id": "db08b0d7-77de-4e89-bba2-0f0c514cdc0e",
   "metadata": {},
   "outputs": [],
   "source": [
    "def make_subject_stats(df):\n",
    "    ans = {}\n",
    "    for index, row in df.iterrows():\n",
    "        subj = row[\"Наименование дисциплины\"]\n",
    "        student = row[\"UUID студента\"]\n",
    "        score = row[\"Балл\"]\n",
    "        oc = row[\"Оценка\"]\n",
    "        \n",
    "        if subj not in ans:\n",
    "            ans[subj] = {'scores': [], 'total_students': 0}\n",
    "        if pd.isna(score):\n",
    "            score = is_na[oc][0]\n",
    "        ans[subj]['scores'].append(score)\n",
    "        ans[subj]['total_students'] += 1\n",
    "    return ans"
   ]
  },
  {
   "cell_type": "code",
   "execution_count": null,
   "id": "80a8363c-bcbf-4627-ace5-89bafd37223a",
   "metadata": {},
   "outputs": [],
   "source": [
    "def process_scores(df):\n",
    "    ans = {}\n",
    "    subject_stats = make_subject_stats(df)\n",
    "\n",
    "    current_student = None\n",
    "    student_data = {}\n",
    "\n",
    "    for index, row in df.iterrows():\n",
    "        student = row[\"UUID студента\"]\n",
    "        subject = row[\"Наименование дисциплины\"]\n",
    "        score = row[\"Балл\"]\n",
    "        oc = row[\"Оценка\"]\n",
    "\n",
    "        if student != current_student:\n",
    "            if current_student is not None:\n",
    "                ans[current_student] = power_penalty_score(student_data, subject_stats)\n",
    "            current_student = student\n",
    "            student_data = {}\n",
    "        if pd.isna(score):\n",
    "            score = is_na[oc][0]\n",
    "        student_data[subject] = score\n",
    "    \n",
    "    if current_student is not None:\n",
    "        ans[current_student] = power_penalty_score(student_data, subject_stats)\n",
    "    return ans"
   ]
  },
  {
   "cell_type": "code",
   "execution_count": null,
   "id": "ed2f622b-97fe-4d5b-b79e-e64527e813e3",
   "metadata": {},
   "outputs": [],
   "source": [
    "def check_nuniques(df):\n",
    "    nuniques = df.groupby(\"UUID студента\").nunique()\n",
    "    for column in nuniques.columns.to_list():\n",
    "        print(f\"{column} - {nuniques[column].nunique()} - {nuniques[column].unique()}\")"
   ]
  },
  {
   "cell_type": "code",
   "execution_count": null,
   "id": "69ea4581-e538-4cb8-b791-fc839695524e",
   "metadata": {},
   "outputs": [],
   "source": [
    "import bisect\n",
    "\n",
    "def get_position_with_binary_search(new_rating, sorted_ratings_desc):\n",
    "    \"\"\"\n",
    "    Возвращает позицию нового студента в рейтинге на основе бинарного поиска.\n",
    "    \n",
    "    sorted_ratings_desc: list\n",
    "        Список рейтингов, отсортированный по убыванию.\n",
    "    new_rating: float or int\n",
    "        Рейтинг нового студента.\n",
    "    \"\"\"\n",
    "    # bisect.bisect_left работает на списках по возрастанию\n",
    "    # Поэтому переворачиваем логику\n",
    "    index = bisect.bisect_left(sorted_ratings_desc, new_rating, lo=0, hi=len(sorted_ratings_desc))\n",
    "    \n",
    "    return index + 1  # Позиции начинаются с 1"
   ]
  }
 ],
 "metadata": {
  "kernelspec": {
   "display_name": "Python 3 (ipykernel)",
   "language": "python",
   "name": "python3"
  },
  "language_info": {
   "codemirror_mode": {
    "name": "ipython",
    "version": 3
   },
   "file_extension": ".py",
   "mimetype": "text/x-python",
   "name": "python",
   "nbconvert_exporter": "python",
   "pygments_lexer": "ipython3",
   "version": "3.10.16"
  }
 },
 "nbformat": 4,
 "nbformat_minor": 5
}
