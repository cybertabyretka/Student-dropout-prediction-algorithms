{
 "cells": [
  {
   "cell_type": "code",
   "execution_count": 1,
   "id": "2114b9ac-fa1e-4bf2-96a6-1ce25ff4d9cd",
   "metadata": {},
   "outputs": [],
   "source": [
    "import pandas as pd\n",
    "import math\n",
    "import numpy as np"
   ]
  },
  {
   "cell_type": "code",
   "execution_count": 2,
   "id": "ee5ae52f-5393-478b-82d2-86896d292ced",
   "metadata": {},
   "outputs": [],
   "source": [
    "def save_dataset(dataset, path, sep=';', index=False, encoding='utf-8-sig'):\n",
    "    dataset.to_csv(path, sep=sep, index=index, encoding=encoding)"
   ]
  },
  {
   "cell_type": "code",
   "execution_count": 3,
   "id": "c520dd35-b0bc-4d5d-9163-d33fd8b8f6c4",
   "metadata": {},
   "outputs": [],
   "source": [
    "def read_dataset(path, sep=';', encoding='utf-8-sig', low_memory=False):\n",
    "    return pd.read_csv(path, sep=sep, encoding=encoding, low_memory=low_memory)\n",
    "\n",
    "    \n",
    "df = read_dataset('../../data/datasets/dataset_1_3.csv')"
   ]
  },
  {
   "cell_type": "code",
   "execution_count": 4,
   "id": "1e1d5a00-bb12-4ee2-83b0-681718df30eb",
   "metadata": {},
   "outputs": [
    {
     "data": {
      "text/html": [
       "<div>\n",
       "<style scoped>\n",
       "    .dataframe tbody tr th:only-of-type {\n",
       "        vertical-align: middle;\n",
       "    }\n",
       "\n",
       "    .dataframe tbody tr th {\n",
       "        vertical-align: top;\n",
       "    }\n",
       "\n",
       "    .dataframe thead th {\n",
       "        text-align: right;\n",
       "    }\n",
       "</style>\n",
       "<table border=\"1\" class=\"dataframe\">\n",
       "  <thead>\n",
       "    <tr style=\"text-align: right;\">\n",
       "      <th></th>\n",
       "      <th>UUID студента</th>\n",
       "      <th>Приоритет</th>\n",
       "      <th>Cумма баллов испытаний</th>\n",
       "      <th>БВИ</th>\n",
       "      <th>Балл за инд. достижения</th>\n",
       "      <th>Вид конкурса</th>\n",
       "      <th>Наименование олимпиады</th>\n",
       "      <th>Тип олимпиады</th>\n",
       "      <th>Категория конкурса БВИ</th>\n",
       "      <th>UUID оценки</th>\n",
       "      <th>...</th>\n",
       "      <th>Город законченного уч. зав.</th>\n",
       "      <th>Тип законченного уч. зав.</th>\n",
       "      <th>Название законченного уч. зав.</th>\n",
       "      <th>Год окончание уч. зав.</th>\n",
       "      <th>Тип документа об образовании</th>\n",
       "      <th>Квалификация зак.уч.зав.</th>\n",
       "      <th>Специальность зак.уч.зав.</th>\n",
       "      <th>Льготы</th>\n",
       "      <th>Документы подтв. льготы</th>\n",
       "      <th>Наименование дисциплины + семестр</th>\n",
       "    </tr>\n",
       "  </thead>\n",
       "  <tbody>\n",
       "    <tr>\n",
       "      <th>0</th>\n",
       "      <td>studen195e3pg0000ok22fnqsr14o7ek</td>\n",
       "      <td>1</td>\n",
       "      <td>205</td>\n",
       "      <td>0</td>\n",
       "      <td>NaN</td>\n",
       "      <td>Особая квота</td>\n",
       "      <td>NaN</td>\n",
       "      <td>NaN</td>\n",
       "      <td>NaN</td>\n",
       "      <td>qldflt195e3pg0000p0ojcks1r0brulk</td>\n",
       "      <td>...</td>\n",
       "      <td>не указано</td>\n",
       "      <td>Колледж</td>\n",
       "      <td>ГОСУДАРСТВЕННОЕ БЮДЖЕТНОЕПРОФЕССИОНАЛЬНОЕОБРАЗ...</td>\n",
       "      <td>2023</td>\n",
       "      <td>Диплом о среднем профессиональном образовании</td>\n",
       "      <td>NaN</td>\n",
       "      <td>NaN</td>\n",
       "      <td>02 Лица из числа детей-сирот (до 23 лет)</td>\n",
       "      <td>31 Копия свидетельства о смерти матери</td>\n",
       "      <td>Проектный практикум 1_2</td>\n",
       "    </tr>\n",
       "    <tr>\n",
       "      <th>1</th>\n",
       "      <td>studen195e3pg0000ok22fnqsr14o7ek</td>\n",
       "      <td>1</td>\n",
       "      <td>205</td>\n",
       "      <td>0</td>\n",
       "      <td>NaN</td>\n",
       "      <td>Особая квота</td>\n",
       "      <td>NaN</td>\n",
       "      <td>NaN</td>\n",
       "      <td>NaN</td>\n",
       "      <td>qldflt195e3pg0000p9a199s0tmd01fs</td>\n",
       "      <td>...</td>\n",
       "      <td>не указано</td>\n",
       "      <td>Колледж</td>\n",
       "      <td>ГОСУДАРСТВЕННОЕ БЮДЖЕТНОЕПРОФЕССИОНАЛЬНОЕОБРАЗ...</td>\n",
       "      <td>2023</td>\n",
       "      <td>Диплом о среднем профессиональном образовании</td>\n",
       "      <td>NaN</td>\n",
       "      <td>NaN</td>\n",
       "      <td>02 Лица из числа детей-сирот (до 23 лет)</td>\n",
       "      <td>31 Копия свидетельства о смерти матери</td>\n",
       "      <td>Архитектура ЭВМ_3</td>\n",
       "    </tr>\n",
       "    <tr>\n",
       "      <th>2</th>\n",
       "      <td>studen195e3pg0000ok22fnqsr14o7ek</td>\n",
       "      <td>1</td>\n",
       "      <td>205</td>\n",
       "      <td>0</td>\n",
       "      <td>NaN</td>\n",
       "      <td>Особая квота</td>\n",
       "      <td>NaN</td>\n",
       "      <td>NaN</td>\n",
       "      <td>NaN</td>\n",
       "      <td>qldflt195e3pg0000p9a1uimadbqc25o</td>\n",
       "      <td>...</td>\n",
       "      <td>не указано</td>\n",
       "      <td>Колледж</td>\n",
       "      <td>ГОСУДАРСТВЕННОЕ БЮДЖЕТНОЕПРОФЕССИОНАЛЬНОЕОБРАЗ...</td>\n",
       "      <td>2023</td>\n",
       "      <td>Диплом о среднем профессиональном образовании</td>\n",
       "      <td>NaN</td>\n",
       "      <td>NaN</td>\n",
       "      <td>02 Лица из числа детей-сирот (до 23 лет)</td>\n",
       "      <td>31 Копия свидетельства о смерти матери</td>\n",
       "      <td>Анализ данных и искусственный интеллект_3</td>\n",
       "    </tr>\n",
       "    <tr>\n",
       "      <th>3</th>\n",
       "      <td>studen195e3pg0000ok22fnqsr14o7ek</td>\n",
       "      <td>1</td>\n",
       "      <td>205</td>\n",
       "      <td>0</td>\n",
       "      <td>NaN</td>\n",
       "      <td>Особая квота</td>\n",
       "      <td>NaN</td>\n",
       "      <td>NaN</td>\n",
       "      <td>NaN</td>\n",
       "      <td>qldflt195e3pg0000p91r12floo1c7uc</td>\n",
       "      <td>...</td>\n",
       "      <td>не указано</td>\n",
       "      <td>Колледж</td>\n",
       "      <td>ГОСУДАРСТВЕННОЕ БЮДЖЕТНОЕПРОФЕССИОНАЛЬНОЕОБРАЗ...</td>\n",
       "      <td>2023</td>\n",
       "      <td>Диплом о среднем профессиональном образовании</td>\n",
       "      <td>NaN</td>\n",
       "      <td>NaN</td>\n",
       "      <td>02 Лица из числа детей-сирот (до 23 лет)</td>\n",
       "      <td>31 Копия свидетельства о смерти матери</td>\n",
       "      <td>Прикладная физическая культура_3</td>\n",
       "    </tr>\n",
       "    <tr>\n",
       "      <th>4</th>\n",
       "      <td>studen195e3pg0000ok22fnqsr14o7ek</td>\n",
       "      <td>1</td>\n",
       "      <td>205</td>\n",
       "      <td>0</td>\n",
       "      <td>NaN</td>\n",
       "      <td>Особая квота</td>\n",
       "      <td>NaN</td>\n",
       "      <td>NaN</td>\n",
       "      <td>NaN</td>\n",
       "      <td>qldflt195e3pg0000oqc4snbpauvougo</td>\n",
       "      <td>...</td>\n",
       "      <td>не указано</td>\n",
       "      <td>Колледж</td>\n",
       "      <td>ГОСУДАРСТВЕННОЕ БЮДЖЕТНОЕПРОФЕССИОНАЛЬНОЕОБРАЗ...</td>\n",
       "      <td>2023</td>\n",
       "      <td>Диплом о среднем профессиональном образовании</td>\n",
       "      <td>NaN</td>\n",
       "      <td>NaN</td>\n",
       "      <td>02 Лица из числа детей-сирот (до 23 лет)</td>\n",
       "      <td>31 Копия свидетельства о смерти матери</td>\n",
       "      <td>Прикладная физическая культура_1</td>\n",
       "    </tr>\n",
       "  </tbody>\n",
       "</table>\n",
       "<p>5 rows × 67 columns</p>\n",
       "</div>"
      ],
      "text/plain": [
       "                      UUID студента  Приоритет  Cумма баллов испытаний  БВИ  \\\n",
       "0  studen195e3pg0000ok22fnqsr14o7ek          1                     205    0   \n",
       "1  studen195e3pg0000ok22fnqsr14o7ek          1                     205    0   \n",
       "2  studen195e3pg0000ok22fnqsr14o7ek          1                     205    0   \n",
       "3  studen195e3pg0000ok22fnqsr14o7ek          1                     205    0   \n",
       "4  studen195e3pg0000ok22fnqsr14o7ek          1                     205    0   \n",
       "\n",
       "   Балл за инд. достижения  Вид конкурса Наименование олимпиады Тип олимпиады  \\\n",
       "0                      NaN  Особая квота                    NaN           NaN   \n",
       "1                      NaN  Особая квота                    NaN           NaN   \n",
       "2                      NaN  Особая квота                    NaN           NaN   \n",
       "3                      NaN  Особая квота                    NaN           NaN   \n",
       "4                      NaN  Особая квота                    NaN           NaN   \n",
       "\n",
       "  Категория конкурса БВИ                       UUID оценки  ...  \\\n",
       "0                    NaN  qldflt195e3pg0000p0ojcks1r0brulk  ...   \n",
       "1                    NaN  qldflt195e3pg0000p9a199s0tmd01fs  ...   \n",
       "2                    NaN  qldflt195e3pg0000p9a1uimadbqc25o  ...   \n",
       "3                    NaN  qldflt195e3pg0000p91r12floo1c7uc  ...   \n",
       "4                    NaN  qldflt195e3pg0000oqc4snbpauvougo  ...   \n",
       "\n",
       "  Город законченного уч. зав. Тип законченного уч. зав.  \\\n",
       "0                  не указано                   Колледж   \n",
       "1                  не указано                   Колледж   \n",
       "2                  не указано                   Колледж   \n",
       "3                  не указано                   Колледж   \n",
       "4                  не указано                   Колледж   \n",
       "\n",
       "                      Название законченного уч. зав. Год окончание уч. зав.  \\\n",
       "0  ГОСУДАРСТВЕННОЕ БЮДЖЕТНОЕПРОФЕССИОНАЛЬНОЕОБРАЗ...                   2023   \n",
       "1  ГОСУДАРСТВЕННОЕ БЮДЖЕТНОЕПРОФЕССИОНАЛЬНОЕОБРАЗ...                   2023   \n",
       "2  ГОСУДАРСТВЕННОЕ БЮДЖЕТНОЕПРОФЕССИОНАЛЬНОЕОБРАЗ...                   2023   \n",
       "3  ГОСУДАРСТВЕННОЕ БЮДЖЕТНОЕПРОФЕССИОНАЛЬНОЕОБРАЗ...                   2023   \n",
       "4  ГОСУДАРСТВЕННОЕ БЮДЖЕТНОЕПРОФЕССИОНАЛЬНОЕОБРАЗ...                   2023   \n",
       "\n",
       "                    Тип документа об образовании  Квалификация зак.уч.зав.  \\\n",
       "0  Диплом о среднем профессиональном образовании                       NaN   \n",
       "1  Диплом о среднем профессиональном образовании                       NaN   \n",
       "2  Диплом о среднем профессиональном образовании                       NaN   \n",
       "3  Диплом о среднем профессиональном образовании                       NaN   \n",
       "4  Диплом о среднем профессиональном образовании                       NaN   \n",
       "\n",
       "  Специальность зак.уч.зав.                                    Льготы  \\\n",
       "0                       NaN  02 Лица из числа детей-сирот (до 23 лет)   \n",
       "1                       NaN  02 Лица из числа детей-сирот (до 23 лет)   \n",
       "2                       NaN  02 Лица из числа детей-сирот (до 23 лет)   \n",
       "3                       NaN  02 Лица из числа детей-сирот (до 23 лет)   \n",
       "4                       NaN  02 Лица из числа детей-сирот (до 23 лет)   \n",
       "\n",
       "                  Документы подтв. льготы  \\\n",
       "0  31 Копия свидетельства о смерти матери   \n",
       "1  31 Копия свидетельства о смерти матери   \n",
       "2  31 Копия свидетельства о смерти матери   \n",
       "3  31 Копия свидетельства о смерти матери   \n",
       "4  31 Копия свидетельства о смерти матери   \n",
       "\n",
       "           Наименование дисциплины + семестр  \n",
       "0                    Проектный практикум 1_2  \n",
       "1                          Архитектура ЭВМ_3  \n",
       "2  Анализ данных и искусственный интеллект_3  \n",
       "3           Прикладная физическая культура_3  \n",
       "4           Прикладная физическая культура_1  \n",
       "\n",
       "[5 rows x 67 columns]"
      ]
     },
     "execution_count": 4,
     "metadata": {},
     "output_type": "execute_result"
    }
   ],
   "source": [
    "df.head()"
   ]
  },
  {
   "cell_type": "code",
   "execution_count": 5,
   "id": "980a8141-4948-4218-a48a-8088f191da25",
   "metadata": {},
   "outputs": [
    {
     "name": "stdout",
     "output_type": "stream",
     "text": [
      "Общие дисциплины: set()\n",
      "Количество общих дисциплин: 0\n"
     ]
    }
   ],
   "source": [
    "bachelor_specialist = df[df[\"Уровень подготовки\"].isin([\"Бакалавриат\", \"Специалитет\"])][\"Наименование дисциплины\"].unique()\n",
    "bachelor_specialist_set = set(bachelor_specialist)\n",
    "\n",
    "magistratura = df[df[\"Уровень подготовки\"] == \"Магистратура\"][\"Наименование дисциплины\"].unique()\n",
    "magistratura_set = set(magistratura)\n",
    "\n",
    "common_disciplines = bachelor_specialist_set.intersection(magistratura_set)\n",
    "\n",
    "print(\"Общие дисциплины:\", common_disciplines)\n",
    "print(\"Количество общих дисциплин:\", len(common_disciplines))"
   ]
  },
  {
   "cell_type": "code",
   "execution_count": 6,
   "id": "c3d193e4-bf32-4a4c-86ca-1d2376912552",
   "metadata": {},
   "outputs": [
    {
     "name": "stdout",
     "output_type": "stream",
     "text": [
      "                          UUID студента          Наименование дисциплины  \\\n",
      "5      studen195e3pg0000ok200k7nq6kmaqg  Дополнительные главы математики   \n",
      "136    studen195e3pg0000ok200rnatdqfthc                   История России   \n",
      "138    studen195e3pg0000ok200rnatdqfthc    Основы проектной деятельности   \n",
      "149    studen195e3pg0000ok200rnatdqfthc                           Физика   \n",
      "165    studen195e3pg0000ok200suls534bms   Прикладная физическая культура   \n",
      "...                                 ...                              ...   \n",
      "77504  studen195e3pg0000p3qlidn3fq4gu3o       Программирование на Python   \n",
      "77575  studen195e3pg0000p47hotlc9h9nijo       Программирование на Python   \n",
      "77647  studen195e3pg0000p4con4mujih3bf4            Проектный практикум 1   \n",
      "77902  studen195e3pg0000p6076jb86hjofpg            Проектный практикум 1   \n",
      "77950  studen195e3pg0000p607bao0rlrh3o4            Проектный практикум 1   \n",
      "\n",
      "       Сквозной семестр  Количество попыток  \n",
      "5                     2                   2  \n",
      "136                   1                   2  \n",
      "138                   1                   2  \n",
      "149                   2                   2  \n",
      "165                   1                   2  \n",
      "...                 ...                 ...  \n",
      "77504                 1                   2  \n",
      "77575                 1                   2  \n",
      "77647                 1                   2  \n",
      "77902                 1                   2  \n",
      "77950                 1                   2  \n",
      "\n",
      "[3458 rows x 4 columns]\n"
     ]
    }
   ],
   "source": [
    "duplicates_in_semester = df.groupby([\"UUID студента\", \"Наименование дисциплины\", \"Сквозной семестр\"]) \\\n",
    "                           .size().reset_index(name=\"Количество попыток\")\n",
    "\n",
    "retries_same_semester = duplicates_in_semester[duplicates_in_semester[\"Количество попыток\"] > 1]\n",
    "\n",
    "print(retries_same_semester)"
   ]
  },
  {
   "cell_type": "code",
   "execution_count": 7,
   "id": "14e0369e-1af6-4beb-a982-4fd31dc17779",
   "metadata": {},
   "outputs": [],
   "source": [
    "save_dataset(retries_same_semester, \"../../data/datasets/retakes.csv\")"
   ]
  },
  {
   "cell_type": "code",
   "execution_count": 8,
   "id": "2a16f496-55a5-42dc-a47b-61b9b2438f3b",
   "metadata": {},
   "outputs": [
    {
     "name": "stdout",
     "output_type": "stream",
     "text": [
      "Число пересдач до 12.02.2024 в семестре 1: 563\n",
      "Число сдач после или в день 12.02.2024 в семестре 1: 22306\n"
     ]
    }
   ],
   "source": [
    "df[\"Дата получения оценки\"] = pd.to_datetime(df[\"Дата получения оценки\"], format='%d.%m.%Y %H:%M', errors='coerce')\n",
    "\n",
    "# Теперь остальной код без предупреждений\n",
    "filtered_df = df[(df[\"Сквозной семестр\"] == 1) & (df[\"Дата получения оценки\"] < \"2024-02-12\")]\n",
    "\n",
    "retries = filtered_df.groupby([\"UUID студента\", \"Наименование дисциплины\"]) \\\n",
    "                     .size().reset_index(name=\"Количество попыток\")\n",
    "\n",
    "retries = retries[retries[\"Количество попыток\"] > 1]\n",
    "\n",
    "later_cases = df[(df[\"Сквозной семестр\"] == 1) & (df[\"Дата получения оценки\"] >= \"2024-02-12\")]\n",
    "\n",
    "count_later_cases = later_cases[[\"UUID студента\", \"Наименование дисциплины\"]].drop_duplicates().shape[0]\n",
    "\n",
    "print(\"Число пересдач до 12.02.2024 в семестре 1:\", len(retries))\n",
    "print(\"Число сдач после или в день 12.02.2024 в семестре 1:\", count_later_cases)"
   ]
  },
  {
   "cell_type": "code",
   "execution_count": 9,
   "id": "1c598470-f087-4e66-9928-2ad1a497baea",
   "metadata": {},
   "outputs": [],
   "source": [
    "# Убедимся, что дата в нужном формате\n",
    "df[\"Дата получения оценки\"] = pd.to_datetime(df[\"Дата получения оценки\"], errors=\"coerce\")\n",
    "\n",
    "# Фильтруем по условиям\n",
    "df_1_1 = df[\n",
    "    (df[\"Сквозной семестр\"] == 1) &\n",
    "    (df[\"Год начала обучения\"] == 2023) &\n",
    "    (df[\"Дата получения оценки\"] < \"2024-02-12\")\n",
    "].copy()"
   ]
  },
  {
   "cell_type": "code",
   "execution_count": 10,
   "id": "4b5e93e8-4aed-4ea9-92a5-5cc021d5eec9",
   "metadata": {},
   "outputs": [],
   "source": [
    "save_dataset(df_1_1, '../../data/datasets/subjects_dataset_1_1.csv')"
   ]
  },
  {
   "cell_type": "code",
   "execution_count": 11,
   "id": "5cb1e6f1-666e-4adf-a761-ecd19cb1d16a",
   "metadata": {},
   "outputs": [
    {
     "data": {
      "text/plain": [
       "2281"
      ]
     },
     "execution_count": 11,
     "metadata": {},
     "output_type": "execute_result"
    }
   ],
   "source": [
    "df_1_1[\"UUID студента\"].nunique()"
   ]
  },
  {
   "cell_type": "code",
   "execution_count": 12,
   "id": "20bed31d-50d8-40b5-9dd8-9d5830824446",
   "metadata": {},
   "outputs": [],
   "source": [
    "df_1_2 = df_1_1[df_1_1['Оценка'] != 'уваж.']\n",
    "df_1_2 = df_1_2[df_1_2[\"Оценка\"] != \"невбрн.\"]"
   ]
  },
  {
   "cell_type": "code",
   "execution_count": 13,
   "id": "9f7117d0-067e-49d6-b89d-f439abbc3be4",
   "metadata": {},
   "outputs": [],
   "source": [
    "is_na = {'зач.': 70, 'неуваж.': 0, 'недсд.': 0, '4': 70, 'недоп.': 0, '5': 90, 'незач.': 20, '2': 20, '3': 50}\n",
    "\n",
    "df_1_2[\"Балл\"] = df_1_2[\"Балл\"].fillna(df_1_2[\"Оценка\"].map(is_na))"
   ]
  },
  {
   "cell_type": "code",
   "execution_count": 14,
   "id": "6bac1788-adb1-4e58-a96e-412068f0e38c",
   "metadata": {},
   "outputs": [],
   "source": [
    "save_dataset(df_1_2, '../../data/datasets/subjects_dataset_1_2.csv')"
   ]
  },
  {
   "cell_type": "code",
   "execution_count": 15,
   "id": "26ee0d7d-14b9-496a-8cd1-c90c177498d7",
   "metadata": {},
   "outputs": [],
   "source": [
    "retries_count = df_1_2.groupby([\"UUID студента\", \"Наименование дисциплины\"]).size().reset_index(name=\"Попытки\")\n",
    "df_1_3 = df_1_2.loc[\n",
    "    df_1_2.groupby([\"UUID студента\", \"Наименование дисциплины\"])[\"Балл\"].idxmax()\n",
    "].reset_index(drop=True)\n",
    "df_1_3 = df_1_3.merge(retries_count, on=[\"UUID студента\", \"Наименование дисциплины\"])\n",
    "df_1_3[\"Количество пересдач\"] = df_1_3[\"Попытки\"] - 1\n",
    "df_1_3.drop(columns=[\"Попытки\"], inplace=True)"
   ]
  },
  {
   "cell_type": "code",
   "execution_count": 16,
   "id": "8fa063d1-bf60-4366-9bc0-1a3cfe228f21",
   "metadata": {},
   "outputs": [],
   "source": [
    "total_retries = df_1_3.groupby(\"UUID студента\")[\"Количество пересдач\"].sum().reset_index(\n",
    "    name=\"Общее количество пересдач\"\n",
    ")\n",
    "\n",
    "df_1_3 = df_1_3.merge(total_retries, on=\"UUID студента\", how=\"left\")"
   ]
  },
  {
   "cell_type": "code",
   "execution_count": 17,
   "id": "388c9603-a1f6-47ce-b577-7d2f3ea67765",
   "metadata": {},
   "outputs": [],
   "source": [
    "save_dataset(df_1_3, '../../data/datasets/subjects_dataset_1_3.csv')"
   ]
  },
  {
   "cell_type": "code",
   "execution_count": 18,
   "id": "35020077-561b-4985-aa1e-34ee48ae831e",
   "metadata": {},
   "outputs": [],
   "source": [
    "df_1_4 = df_1_3.drop(columns=[\"Количество пересдач\", \"Наименование дисциплины + семестр\"]).copy()"
   ]
  },
  {
   "cell_type": "code",
   "execution_count": 19,
   "id": "a64a954b-9e67-4aee-ac17-ac6c4b81301b",
   "metadata": {},
   "outputs": [],
   "source": [
    "mask = (df[\"Сквозной семестр\"] > 2) & (df[\"Состояние студента\"] != \"Активный\")\n",
    "students_to_activate = df.loc[mask, \"UUID студента\"].unique()\n",
    "\n",
    "df_1_4.loc[df_1_4[\"UUID студента\"].isin(students_to_activate), \"Состояние студента\"] = \"Активный\""
   ]
  },
  {
   "cell_type": "code",
   "execution_count": 20,
   "id": "5a9fdc83-724f-445b-b2a6-ce602c8a3d48",
   "metadata": {},
   "outputs": [],
   "source": [
    "save_dataset(df_1_4, '../../data/datasets/subjects_dataset_1_4.csv')"
   ]
  },
  {
   "cell_type": "code",
   "execution_count": 21,
   "id": "6ee79f1d-5edb-4ea9-8a5f-3b2fc2d5e848",
   "metadata": {},
   "outputs": [],
   "source": [
    "debt_grades = ['неуваж.', 'недсд.', 'недоп.', 'незач.', '2']\n",
    "\n",
    "df_1_5 = df_1_4.copy()\n",
    "\n",
    "df_1_5['is_debt'] = df_1_5['Оценка'].isin(debt_grades)\n",
    "\n",
    "total_debts_per_student = (\n",
    "    df_1_5.groupby(\"UUID студента\")['is_debt']\n",
    "    .sum()\n",
    "    .reset_index(name='Общее количество долгов')\n",
    ")\n",
    "\n",
    "total_debts_per_student['Общее количество долгов'] = total_debts_per_student[\n",
    "    'Общее количество долгов'\n",
    "].astype(int)\n",
    "\n",
    "df_1_5.drop(columns=['is_debt'], inplace=True)\n",
    "\n",
    "df_1_5 = df_1_5.merge(total_debts_per_student, on=\"UUID студента\", how='left')\n",
    "\n",
    "if 'Количество долгов' in df_1_5.columns:\n",
    "    df_1_5.drop(columns=['Количество долгов'], inplace=True)"
   ]
  },
  {
   "cell_type": "code",
   "execution_count": 22,
   "id": "471f707e-efab-4f75-af13-a6dd246f8900",
   "metadata": {},
   "outputs": [],
   "source": [
    "save_dataset(df_1_5, '../../data/datasets/subjects_dataset_1_5.csv')"
   ]
  },
  {
   "cell_type": "code",
   "execution_count": 23,
   "id": "ff79c7b7-77b6-4ff9-b141-13ddaa0f4b32",
   "metadata": {},
   "outputs": [],
   "source": [
    "df_1_6 = df_1_5.copy()"
   ]
  },
  {
   "cell_type": "code",
   "execution_count": 24,
   "id": "2dfc7a59-f292-4b84-8566-87ec979bf87f",
   "metadata": {},
   "outputs": [],
   "source": [
    "def power_penalty_score(student_scores, subject_stats, p=2.0):\n",
    "    total_score = 0\n",
    "    subject_count = 0\n",
    "\n",
    "    for subject, student_score in student_scores.items():\n",
    "        stats = subject_stats[subject]\n",
    "        scores = stats['scores']\n",
    "        total_students = stats['total_students']\n",
    "\n",
    "        non_zero_scores = [s for s in scores if s > 0]\n",
    "        num_fails = total_students - len(non_zero_scores)\n",
    "\n",
    "        if len(non_zero_scores) == 0 or total_students == 0:\n",
    "            continue\n",
    "\n",
    "        mean_clean = sum(non_zero_scores) / len(non_zero_scores)\n",
    "        fail_ratio = num_fails / total_students\n",
    "\n",
    "        if student_score < 40:\n",
    "            if 1 / (fail_ratio + 1e-6) <= 0:\n",
    "                print(1 / (fail_ratio + 1e-6))\n",
    "                print(f'fail_ratio: {fail_ratio}')\n",
    "                print(f'num_fails: {num_fails}')\n",
    "                print(f'non_zero_scores: {len(non_zero_scores)}')\n",
    "                print(f'total_students: {total_students}')\n",
    "                print(f\"subject: {subject}\")\n",
    "            multiplier = 1 + math.log(1 / (fail_ratio + 1e-6))\n",
    "            adjusted = (mean_clean ** p) * multiplier\n",
    "        else:\n",
    "            delta = mean_clean - student_score\n",
    "            signed_power_delta = math.copysign(abs(delta) ** p, delta)\n",
    "            adjusted = signed_power_delta * fail_ratio\n",
    "\n",
    "        total_score += adjusted\n",
    "        subject_count += 1\n",
    "\n",
    "    if subject_count == 0:\n",
    "        return None\n",
    "\n",
    "    return total_score / subject_count"
   ]
  },
  {
   "cell_type": "code",
   "execution_count": 25,
   "id": "8cb7f8ed-2f18-4129-bec6-e77a40a4396e",
   "metadata": {},
   "outputs": [],
   "source": [
    "def make_subject_stats(df):\n",
    "    ans = {}\n",
    "    for index, row in df.iterrows():\n",
    "        subj = row[\"Наименование дисциплины\"]\n",
    "        student = row[\"UUID студента\"]\n",
    "        score = row[\"Балл\"]\n",
    "        oc = row[\"Оценка\"]\n",
    "        \n",
    "        if subj not in ans:\n",
    "            ans[subj] = {'scores': [], 'total_students': 0}\n",
    "        if pd.isna(score):\n",
    "            score = is_na[oc][0]\n",
    "        ans[subj]['scores'].append(score)\n",
    "        ans[subj]['total_students'] += 1\n",
    "    return ans"
   ]
  },
  {
   "cell_type": "code",
   "execution_count": 26,
   "id": "61a478ce-4a2e-4587-b835-20f1f8e53208",
   "metadata": {},
   "outputs": [],
   "source": [
    "def process_scores(df):\n",
    "    ans = {}\n",
    "    subject_stats = make_subject_stats(df)\n",
    "\n",
    "    current_student = None\n",
    "    student_data = {}\n",
    "\n",
    "    for index, row in df.iterrows():\n",
    "        student = row[\"UUID студента\"]\n",
    "        subject = row[\"Наименование дисциплины\"]\n",
    "        score = row[\"Балл\"]\n",
    "        oc = row[\"Оценка\"]\n",
    "\n",
    "        if student != current_student:\n",
    "            if current_student is not None:\n",
    "                ans[current_student] = power_penalty_score(student_data, subject_stats)\n",
    "            current_student = student\n",
    "            student_data = {}\n",
    "        if pd.isna(score):\n",
    "            score = is_na[oc][0]\n",
    "        student_data[subject] = score\n",
    "    \n",
    "    if current_student is not None:\n",
    "        ans[current_student] = power_penalty_score(student_data, subject_stats)\n",
    "    return ans"
   ]
  },
  {
   "cell_type": "code",
   "execution_count": 27,
   "id": "778fca9f-e60d-474f-b38d-439769792262",
   "metadata": {},
   "outputs": [],
   "source": [
    "scores = process_scores(df_1_6)"
   ]
  },
  {
   "cell_type": "code",
   "execution_count": 28,
   "id": "653bd6c2-fba9-42c8-b910-92593ff61058",
   "metadata": {},
   "outputs": [],
   "source": [
    "df_1_6[\"Рейтинг студента\"] = df_1_6[\"UUID студента\"].map(scores)"
   ]
  },
  {
   "cell_type": "code",
   "execution_count": 29,
   "id": "65c3620a-857c-4ffe-ab4f-9aece0f52f90",
   "metadata": {},
   "outputs": [
    {
     "name": "stdout",
     "output_type": "stream",
     "text": [
      "Все UUID успешно получили рейтинг.\n"
     ]
    }
   ],
   "source": [
    "missing_uuids = df_1_6[df_1_6[\"Рейтинг студента\"].isna()][\"UUID студента\"].unique()\n",
    "\n",
    "if len(missing_uuids) > 0:\n",
    "    print(\"Нет рейтинга для следующих UUID:\")\n",
    "    print(missing_uuids)\n",
    "else:\n",
    "    print(\"Все UUID успешно получили рейтинг.\")"
   ]
  },
  {
   "cell_type": "code",
   "execution_count": 30,
   "id": "fd9f19e1-629b-4a6b-af3c-1eeb913cbdfb",
   "metadata": {},
   "outputs": [],
   "source": [
    "def check_nuniques(df):\n",
    "    nuniques = df.groupby(\"UUID студента\").nunique()\n",
    "    for column in nuniques.columns.to_list():\n",
    "        print(f\"{column} - {nuniques[column].nunique()} - {nuniques[column].unique()}\")"
   ]
  },
  {
   "cell_type": "code",
   "execution_count": 31,
   "id": "3dd9cdbf-65d1-4285-97b4-05b6388488de",
   "metadata": {},
   "outputs": [],
   "source": [
    "save_dataset(df_1_6, '../../data/datasets/subjects_dataset_1_6.csv')"
   ]
  },
  {
   "cell_type": "code",
   "execution_count": 32,
   "id": "388f87f3-9419-4638-8ab5-f4b6b3852c01",
   "metadata": {},
   "outputs": [],
   "source": [
    "df_1_7 = df_1_6.copy()"
   ]
  },
  {
   "cell_type": "code",
   "execution_count": 33,
   "id": "2ce5d66a-31f7-480b-8ddb-55f81b0c5bba",
   "metadata": {},
   "outputs": [],
   "source": [
    "df_1_7['Балл за инд. достижения'] = df_1_7['Балл за инд. достижения'].fillna(0)\n",
    "df_1_7[\"Балл за инд. достижения\"] = df_1_7[\"Балл за инд. достижения\"].astype(int)"
   ]
  },
  {
   "cell_type": "code",
   "execution_count": 34,
   "id": "f9095544-eb04-4093-9e10-94f4020f34cf",
   "metadata": {},
   "outputs": [
    {
     "name": "stdout",
     "output_type": "stream",
     "text": [
      "['0' '1']\n"
     ]
    }
   ],
   "source": [
    "benefit = df_1_7[\"Льготы\"].unique()\n",
    "df_1_7.loc[df_1_7[\"Категория конкурса БВИ\"].isin(benefit), \"Категория конкурса БВИ\"] = np.nan\n",
    "df_1_7['Категория конкурса БВИ'] = np.where(df_1_7['Категория конкурса БВИ'].notna(), '1', \"0\")\n",
    "print(df_1_7['Категория конкурса БВИ'].unique())\n",
    "df_1_7['Категория конкурса БВИ'] = df_1_7['Категория конкурса БВИ'].astype(int)"
   ]
  },
  {
   "cell_type": "code",
   "execution_count": 35,
   "id": "dd4e374d-8927-4182-a749-f9ce939af867",
   "metadata": {},
   "outputs": [],
   "source": [
    "columns_to_drop = [\"Наименование олимпиады\", \"Контрольное мероприятие\", \"Тип оценки\", \"Наименование дисциплины\", \"Модель реализации\",\n",
    "                   \"Оценка\", \"Балл\", \"UUID оценки\", \"Дата получения оценки\", \"Семестр\",\"Год\", \"Наименование дисциплины ИТС\", \n",
    "                   \"ИТС наименование в дипломе\", \"Год начала обучения\", \"Курс\", \"Активное состояние\", \"Место рождения\"]\n",
    "\n",
    "df_1_7 = df_1_7.drop(columns=columns_to_drop)"
   ]
  },
  {
   "cell_type": "code",
   "execution_count": 36,
   "id": "6045620a-ab30-41c5-bdbe-c83729583097",
   "metadata": {},
   "outputs": [
    {
     "name": "stdout",
     "output_type": "stream",
     "text": [
      "Приоритет - 1 - [1]\n",
      "Cумма баллов испытаний - 1 - [1]\n",
      "БВИ - 1 - [1]\n",
      "Балл за инд. достижения - 1 - [1]\n",
      "Вид конкурса - 1 - [1]\n",
      "Тип олимпиады - 2 - [0 1]\n",
      "Категория конкурса БВИ - 1 - [1]\n",
      "Сквозной семестр - 1 - [1]\n",
      "Код направления подготовки - 1 - [1]\n",
      "Наименование напр. подготовки - 1 - [1]\n",
      "Образовательная программа - 1 - [1]\n",
      "ЛН студента - 2 - [1 0]\n",
      "ЛН студента (архив) - 2 - [0 1]\n",
      "Основа освоения (сокр.) - 1 - [1]\n",
      "Форма освоения - 1 - [1]\n",
      "Формирующее подразделение - 1 - [1]\n",
      "Срок освоения - 1 - [1]\n",
      "Уровень подготовки - 1 - [1]\n",
      "Область образования - 1 - [1]\n",
      "Целевик - 1 - [1]\n",
      "Хоз. группа | Вкл. обучение - 1 - [1]\n",
      "Нуждается в общежитии - 1 - [1]\n",
      "Малоимущий - 1 - [1]\n",
      "Слушатель - 1 - [1]\n",
      "Иностранный абитуриент (МОН) - 1 - [1]\n",
      "Состояние студента - 1 - [1]\n",
      "В архиве - 1 - [1]\n",
      "Приказ об отчислении - 1 - [1]\n",
      "Акад. отп. по сост. здор. - 1 - [1]\n",
      "Акад. отп. по уходу за реб. - 1 - [1]\n",
      "UUID персоны - 1 - [1]\n",
      "Пол - 1 - [1]\n",
      "Дата рождения - 1 - [1]\n",
      "Гражданство - 1 - [1]\n",
      "Адрес регистрации. Страна - 1 - [1]\n",
      "Адрес регистрации. Область - 2 - [1 0]\n",
      "Адрес регистрации. Город - 1 - [1]\n",
      "Страна законченного уч. зав. - 2 - [1 0]\n",
      "Регион законченного уч. зав. - 2 - [0 1]\n",
      "Город законченного уч. зав. - 2 - [1 0]\n",
      "Тип законченного уч. зав. - 1 - [1]\n",
      "Название законченного уч. зав. - 2 - [1 0]\n",
      "Год окончание уч. зав. - 1 - [1]\n",
      "Тип документа об образовании - 1 - [1]\n",
      "Квалификация зак.уч.зав. - 2 - [0 1]\n",
      "Специальность зак.уч.зав. - 2 - [0 1]\n",
      "Льготы - 2 - [0 1]\n",
      "Документы подтв. льготы - 2 - [0 1]\n",
      "Общее количество пересдач - 1 - [1]\n",
      "Общее количество долгов - 1 - [1]\n",
      "Рейтинг студента - 1 - [1]\n"
     ]
    }
   ],
   "source": [
    "check_nuniques(df_1_7)"
   ]
  },
  {
   "cell_type": "code",
   "execution_count": 37,
   "id": "82c6a5a0-93c7-4bc2-9f79-9d40b4bcc834",
   "metadata": {},
   "outputs": [],
   "source": [
    "save_dataset(df_1_7, '../../data/datasets/subjects_dataset_1_7.csv')"
   ]
  },
  {
   "cell_type": "code",
   "execution_count": 38,
   "id": "485e0941-251c-4435-be38-c615caacfe0d",
   "metadata": {},
   "outputs": [],
   "source": [
    "df_1_8 = df_1_7.drop_duplicates(subset=['UUID студента'], keep='first').copy()"
   ]
  },
  {
   "cell_type": "code",
   "execution_count": 39,
   "id": "f522f142-79fe-48d7-b7f4-ac97d6407d66",
   "metadata": {},
   "outputs": [
    {
     "data": {
      "text/plain": [
       "(2281, 52)"
      ]
     },
     "execution_count": 39,
     "metadata": {},
     "output_type": "execute_result"
    }
   ],
   "source": [
    "df_1_8.shape"
   ]
  },
  {
   "cell_type": "code",
   "execution_count": 40,
   "id": "f320c57e-a841-4d4a-997f-31e7a5b84dc4",
   "metadata": {},
   "outputs": [],
   "source": [
    "df_1_8[\"Код направления 1\"] = np.nan\n",
    "df_1_8[\"Код направления 3\"] = np.nan\n",
    "\n",
    "\n",
    "df_1_8[[\"Код направления 1\", \"Код направления 3\"]] = df_1_8[\"Код направления подготовки\"].apply(\n",
    "    lambda x: pd.Series({\n",
    "        \"Код направления 1\": int(x.split(\".\")[0]),\n",
    "        \"Код направления 3\": int(x.split(\".\")[2])\n",
    "    })\n",
    ")"
   ]
  },
  {
   "cell_type": "code",
   "execution_count": 41,
   "id": "12e650d6-595b-4c7d-8463-b99cddcad4df",
   "metadata": {},
   "outputs": [],
   "source": [
    "df_1_8 = df_1_8.drop(columns=[\"Код направления подготовки\", \"Наименование напр. подготовки\", \"Образовательная программа\", \"Сквозной семестр\", \"ЛН студента\", \"ЛН студента (архив)\"])"
   ]
  },
  {
   "cell_type": "code",
   "execution_count": 42,
   "id": "d8b8a68e-f3b6-47be-b547-419076f860bf",
   "metadata": {},
   "outputs": [],
   "source": [
    "col_to_drop = [\"Формирующее подразделение\", \"Область образования\", \"Целевик\", \"Хоз. группа | Вкл. обучение\", \n",
    "               \"Малоимущий\", \"Слушатель\", \"В архиве\", \"Приказ об отчислении\", \"Акад. отп. по сост. здор.\", \"Акад. отп. по уходу за реб.\", \n",
    "               \"UUID персоны\", \"Адрес регистрации. Страна\", \"Страна законченного уч. зав.\",\n",
    "               \"Название законченного уч. зав.\", \"Регион законченного уч. зав.\", \"Квалификация зак.уч.зав.\", \"Специальность зак.уч.зав.\", \"Документы подтв. льготы\"]\n",
    "\n",
    "df_1_8 = df_1_8.drop(columns=col_to_drop)"
   ]
  },
  {
   "cell_type": "code",
   "execution_count": 43,
   "id": "a7f95456-1108-421f-b8c1-685eb461638a",
   "metadata": {},
   "outputs": [],
   "source": [
    "dummies = pd.get_dummies(df_1_8[\"Основа освоения (сокр.)\"], drop_first=True)\n",
    "df_1_8[\"Основа освоения (сокр.)\"] = dummies  # \"бюджет\"=0, \"контракт\"=1\n",
    "df_1_8 = df_1_8.rename(columns={\"Основа освоения (сокр.)\": \"Контракт\"})"
   ]
  },
  {
   "cell_type": "code",
   "execution_count": 44,
   "id": "71b0307e-58a2-40df-b9c8-207b2c5aa952",
   "metadata": {},
   "outputs": [],
   "source": [
    "df_1_8[\"Контракт\"] = df_1_8[\"Контракт\"].astype(int)"
   ]
  },
  {
   "cell_type": "code",
   "execution_count": 45,
   "id": "99b70176-8869-4c4c-bc7b-7300b05cddcc",
   "metadata": {},
   "outputs": [],
   "source": [
    "df_1_8 = df_1_8.drop(columns=[\"Срок освоения\"])"
   ]
  },
  {
   "cell_type": "code",
   "execution_count": 46,
   "id": "b8b21717-85d5-485b-8635-18a0ef1af5a8",
   "metadata": {},
   "outputs": [],
   "source": [
    "dummies = pd.get_dummies(df_1_8[\"Нуждается в общежитии\"])\n",
    "dummies = dummies.drop(\"Нет\", axis=1)\n",
    "df_1_8[\"Нуждается в общежитии\"] = dummies\n",
    "df_1_8[\"Нуждается в общежитии\"] = df_1_8[\"Нуждается в общежитии\"].astype(int)"
   ]
  },
  {
   "cell_type": "code",
   "execution_count": 47,
   "id": "a7097077-4748-4233-9f98-e2693a4d2ede",
   "metadata": {},
   "outputs": [],
   "source": [
    "dummies = pd.get_dummies(df_1_8[\"Иностранный абитуриент (МОН)\"])\n",
    "dummies = dummies.drop(\"Нет\", axis=1)\n",
    "df_1_8[\"Иностранный абитуриент (МОН)\"] = dummies\n",
    "df_1_8[\"Иностранный абитуриент (МОН)\"] = df_1_8[\"Иностранный абитуриент (МОН)\"].astype(int)"
   ]
  },
  {
   "cell_type": "code",
   "execution_count": 48,
   "id": "d98fa9ad-a9f9-4d33-bc03-84300008aa2c",
   "metadata": {},
   "outputs": [],
   "source": [
    "dummies = pd.get_dummies(df_1_8[\"Пол\"])\n",
    "dummies = dummies.drop(\"Ж\", axis=1)\n",
    "df_1_8[\"Пол\"] = dummies\n",
    "df_1_8[\"Пол\"] = df_1_8[\"Пол\"].astype(int)"
   ]
  },
  {
   "cell_type": "code",
   "execution_count": 49,
   "id": "ce3c04ce-7ce0-4b85-9acf-3d89ec23ca9c",
   "metadata": {},
   "outputs": [],
   "source": [
    "citizenship_map = {\n",
    "    \"Russia\": [\"Российская Федерация\"],\n",
    "    \"PostSoviet\": [\n",
    "        \"Республика Азербайджан\", \"Республика Армения\", \"Республика Беларусь\", \"Грузия\", \"Республика Казахстан\", \"Киргизская Республика\",\n",
    "        \"Латвия\", \"Литва\", \"Республика Молдова\", \"Республика Таджикистан\", \"Туркменистан\", \"Республика Узбекистан\", \"Украина\", \"Эстония\"\n",
    "    ]\n",
    "}\n",
    "\n",
    "citizenship_class = []\n",
    "citizenship = df_1_8[\"Гражданство\"].tolist()\n",
    "\n",
    "for current in citizenship:\n",
    "    if current in citizenship_map.get(\"Russia\"):\n",
    "        citizenship_class.append(\"Russia\")\n",
    "    elif current in citizenship_map.get(\"PostSoviet\"):\n",
    "        citizenship_class.append(\"PostSoviet\")\n",
    "    else:\n",
    "        citizenship_class.append(\"others\")\n",
    "\n",
    "citizenship_series = pd.Series(citizenship_class)\n",
    "df_1_8[\"citizenship_class\"] = citizenship_series"
   ]
  },
  {
   "cell_type": "code",
   "execution_count": 50,
   "id": "4a8ec5d6-de49-4a4e-864f-991fa8c2e6fd",
   "metadata": {},
   "outputs": [],
   "source": [
    "df_1_8[\"fromEkaterinburg\"] = df_1_8[\"Адрес регистрации. Город\"].apply(\n",
    "    lambda x: 1 if x == \"Екатеринбург\" else 0\n",
    ")"
   ]
  },
  {
   "cell_type": "code",
   "execution_count": 51,
   "id": "2b3c31f1-4752-4708-8084-25f691f3e28d",
   "metadata": {},
   "outputs": [],
   "source": [
    "df_1_8[\"fromSverdlovskRegion\"] = df_1_8[\"Адрес регистрации. Область\"].apply(\n",
    "    lambda x: 1 if x == \"Свердловская область\" else 0\n",
    ")"
   ]
  },
  {
   "cell_type": "code",
   "execution_count": 52,
   "id": "52c1ac80-4d10-4aee-9e84-30c58477e93d",
   "metadata": {},
   "outputs": [],
   "source": [
    "df_1_8 = df_1_8.drop(columns=[\"Город законченного уч. зав.\", \"Адрес регистрации. Область\", \"Адрес регистрации. Город\"])"
   ]
  },
  {
   "cell_type": "code",
   "execution_count": 53,
   "id": "1f1e54db-972d-46ea-ac84-f4df6178452d",
   "metadata": {},
   "outputs": [],
   "source": [
    "current_df = df_1_8[\n",
    "    (df_1_8[\"Тип законченного уч. зав.\"] == \"Высшее\") & \n",
    "    (df_1_8[\"Тип документа об образовании\"].isin([\"Аттестат о среднем общем образовании\", \"Диплом о среднем профессиональном образовании\"]))\n",
    "]\n",
    "uuid_to_replace = current_df[\"UUID студента\"]\n",
    "for uuid in uuid_to_replace:\n",
    "    df_1_8.loc[df_1_8[\"UUID студента\"] == uuid, \"Тип законченного уч. зав.\"] = \"Техникум\"\n",
    "\n",
    "current_df = df_1_8[\n",
    "    (df_1_8[\"Тип законченного уч. зав.\"] == \"Высшее\") & \n",
    "    (df_1_8[\"Тип документа об образовании\"].isin([\"Академическая справка\"]))\n",
    "]\n",
    "uuid_to_replace = current_df[\"UUID студента\"]\n",
    "for uuid in uuid_to_replace:\n",
    "    df_1_8.loc[df_1_8[\"UUID студента\"] == uuid, \"Тип законченного уч. зав.\"] = \"Техникум\"\n",
    "\n",
    "current_df = df_1_8[\n",
    "    df_1_8[\"Тип законченного уч. зав.\"].isin([\"(не указано)\", \"Вечерняя школа\", \"Основная общеобразовательная школа\", \"Средняя общеобразовательная школа\"]\n",
    ")]\n",
    "uuid_to_replace = current_df[\"UUID студента\"]\n",
    "df_1_8.loc[df_1_8[\"UUID студента\"].isin(uuid_to_replace), \"Тип законченного уч. зав.\"] = \"Школа\"\n",
    "\n",
    "current_df = df_1_8[\n",
    "    df_1_8[\"Тип законченного уч. зав.\"].isin([\"Гимназия\", \"Лицей\", \"Дневная школа, лицей, гимназия\"]\n",
    ")]\n",
    "uuid_to_replace = current_df[\"UUID студента\"]\n",
    "df_1_8.loc[df_1_8[\"UUID студента\"].isin(uuid_to_replace), \"Тип законченного уч. зав.\"] = \"Профильная Школа\"\n",
    "\n",
    "current_df = df_1_8[\n",
    "    df_1_8[\"Тип законченного уч. зав.\"].isin([\"Кадетский корпус\", \"Суворовское училище\"]\n",
    ")]\n",
    "uuid_to_replace = current_df[\"UUID студента\"]\n",
    "df_1_8.loc[df_1_8[\"UUID студента\"].isin(uuid_to_replace), \"Тип законченного уч. зав.\"] = \"Военное уч. заведение\"\n",
    "\n",
    "current_df = df_1_8[\n",
    "    df_1_8[\"Тип законченного уч. зав.\"].isin([\"Колледж\", \"Техникум\", \"Профессиональное училище\"]\n",
    ")]\n",
    "uuid_to_replace = current_df[\"UUID студента\"]\n",
    "df_1_8.loc[df_1_8[\"UUID студента\"].isin(uuid_to_replace), \"Тип законченного уч. зав.\"] = \"СПО\""
   ]
  },
  {
   "cell_type": "code",
   "execution_count": 54,
   "id": "d12d0530-7de4-433a-8ee0-81ac5d1eca16",
   "metadata": {},
   "outputs": [],
   "source": [
    "df_1_8 = df_1_8.drop(\"Тип документа об образовании\", axis=1)"
   ]
  },
  {
   "cell_type": "code",
   "execution_count": 55,
   "id": "0cbe4cef-bbfb-4784-9310-f44935fef1ab",
   "metadata": {},
   "outputs": [],
   "source": [
    "year_of_end = df_1_8[\"Год окончание уч. зав.\"]\n",
    "df_1_8[\"Год окончание уч. зав.\"] = 2023 - year_of_end\n",
    "df_1_8 = df_1_8.rename(columns={\"Год окончание уч. зав.\": \"Прошло лет с окончания уч. заведения\"})"
   ]
  },
  {
   "cell_type": "code",
   "execution_count": 56,
   "id": "59dc0ea2-4d14-41b3-8f43-71ed0764b0ac",
   "metadata": {},
   "outputs": [],
   "source": [
    "df_1_8[\"Льготы\"] = df_1_8[\"Льготы\"].fillna(\"Отсутствует\")\n",
    "\n",
    "current_df = df_1_8[\n",
    "    df_1_8[\"Льготы\"].isin([\"02 Лица из числа детей-сирот (до 23 лет)\", \"03 Дети, оставшиеся без попечения родителей (до 18 лет)\", \"05 Лица из числа детей без попечения родителей (до 23 лет)\"]\n",
    ")]\n",
    "uuid_to_replace = current_df[\"UUID студента\"]\n",
    "df_1_8.loc[df_1_8[\"UUID студента\"].isin(uuid_to_replace), \"Льготы\"] = \"Сироты\"\n",
    "\n",
    "current_df = df_1_8[\n",
    "    df_1_8[\"Льготы\"].isin([\"04 Дети-инвалиды\", \"07 Инвалиды с детства\", \"11 Инвалиды II группы\"]\n",
    ")]\n",
    "uuid_to_replace = current_df[\"UUID студента\"]\n",
    "df_1_8.loc[df_1_8[\"UUID студента\"].isin(uuid_to_replace), \"Льготы\"] = \"Инвалиды\"\n",
    "\n",
    "current_df = df_1_8[\n",
    "    df_1_8[\"Льготы\"].isin([\n",
    "        \"10 Ветераны боевых действий\",\n",
    "        \"17 Дети военнослужащих, сотрудников федеральных органов исполнительной власти и федеральных государственных органов, направленных в другие государства\",\n",
    "        \"19 Дети лиц, принимавших участие в специальной военной операции на территориях Украины\",\n",
    "        \"21 Дети военнослужащих, погибших или получивших увечье при исполнении обязанностей военной службы в специальной военной операции на территориях Украины\"]\n",
    ")]\n",
    "uuid_to_replace = current_df[\"UUID студента\"]\n",
    "df_1_8.loc[df_1_8[\"UUID студента\"].isin(uuid_to_replace), \"Льготы\"] = \"Боевые действия\"\n",
    "\n",
    "current_df = df_1_8[\n",
    "    df_1_8[\"Льготы\"].isin([\n",
    "        \"09 Лица, поступающие по направлению Министерства в пределах квоты, установленной Правительством Российской Федерации\"]\n",
    ")]\n",
    "uuid_to_replace = current_df[\"UUID студента\"]\n",
    "df_1_8.loc[df_1_8[\"UUID студента\"].isin(uuid_to_replace), \"Льготы\"] = \"Квота для иностранных граждан\""
   ]
  },
  {
   "cell_type": "code",
   "execution_count": 57,
   "id": "3f515a45-2b00-407f-b155-b94d72a7ca86",
   "metadata": {},
   "outputs": [],
   "source": [
    "df_1_8[\"Тип олимпиады\"] = df_1_8[\"Тип олимпиады\"].fillna(\"Отсутствует\")"
   ]
  },
  {
   "cell_type": "code",
   "execution_count": 58,
   "id": "238e291c-233d-4b24-82f2-ddd1443ba7b8",
   "metadata": {},
   "outputs": [],
   "source": [
    "HDI_dict = {\n",
    "    'Арабская Республика Египет': 0.731,\n",
    "    'Габонская Республика': 0.706,\n",
    "    'Йеменская Республика': 0.455,\n",
    "    'Киргизская Республика': 0.692,\n",
    "    'Китайская Народная Республика': 0.768,\n",
    "    'Королевство Марокко': 0.683,\n",
    "    'Народная Республика Бангладеш': 0.661,\n",
    "    'Республика Азербайджан': 0.745,\n",
    "    'Республика Армения': 0.759,\n",
    "    'Республика Беларусь': 0.808,\n",
    "    'Республика Гаити': 0.535,\n",
    "    'Республика Индонезия': 0.705,\n",
    "    'Республика Ирак': 0.686,\n",
    "    'Республика Казахстан': 0.811,\n",
    "    'Республика Камерун': 0.576,\n",
    "    'Республика Колумбия': 0.752,\n",
    "    \"Республика Кот д'Ивуар\": 0.550,\n",
    "    'Республика Куба': 0.764,\n",
    "    'Республика Молдова': 0.767,\n",
    "    'Республика Перу': 0.762,\n",
    "    'Республика Судан': 0.508,\n",
    "    'Республика Таджикистан': 0.685,\n",
    "    'Республика Узбекистан': 0.727,\n",
    "    'Российская Федерация': 0.822,\n",
    "    'Сирийская Арабская Республика': 0.577,\n",
    "    'Социалистическая Республика Вьетнам': 0.703,\n",
    "    'Турецкая Республика': 0.838,\n",
    "    'Туркменистан': 0.745,\n",
    "    'Украина': 0.773,\n",
    "    'Федеративная Демократическая Республика Эфиопия': 0.498,\n",
    "    'Федеративная Республика Бразилия': 0.754,\n",
    "    'Федеративная Республика Германия': 0.942,\n",
    "    'Федеративная Республика Нигерия': 0.535\n",
    "}"
   ]
  },
  {
   "cell_type": "code",
   "execution_count": 59,
   "id": "093e8999-de51-49bc-aa04-42f9994e53b0",
   "metadata": {},
   "outputs": [],
   "source": [
    "HDI_lst = []\n",
    "country = df_1_8[\"Гражданство\"].tolist()\n",
    "\n",
    "for current_country in country:\n",
    "    HDI_lst.append(HDI_dict.get(current_country))\n",
    "\n",
    "HDI_series = pd.Series(HDI_lst)\n",
    "df_1_8[\"Human Development Index\"] = HDI_series"
   ]
  },
  {
   "cell_type": "code",
   "execution_count": 60,
   "id": "f0e02191-3724-4128-b892-7531fae35305",
   "metadata": {},
   "outputs": [],
   "source": [
    "date_of_birth = df_1_8[\"Дата рождения\"]\n",
    "date_of_birth = pd.to_datetime(date_of_birth, format='%d.%m.%Y')\n",
    "\n",
    "start_styding_date = pd.to_datetime(\"1.08.2023\", format='%d.%m.%Y')\n",
    "start_styding_column = (start_styding_date - date_of_birth)\n",
    "start_styding_column = start_styding_column.dt.days // 365\n",
    "\n",
    "df_1_8[\"Дата рождения\"] = start_styding_column\n",
    "df_1_8 = df_1_8.rename(columns={\"Дата рождения\": \"Полных лет на момент поступления\"})\n",
    "df_1_8[\"Полных лет на момент поступления\"] = df_1_8[\"Полных лет на момент поступления\"].astype(int)"
   ]
  },
  {
   "cell_type": "code",
   "execution_count": 61,
   "id": "9cd0823d-8799-4463-ad2a-d2bffe8e85f2",
   "metadata": {},
   "outputs": [],
   "source": [
    "df_1_8 = df_1_8.drop(columns=[\"UUID студента\", \"Гражданство\"])"
   ]
  },
  {
   "cell_type": "code",
   "execution_count": 62,
   "id": "28d2c98a-5bad-466e-943e-a0be1a4234f2",
   "metadata": {},
   "outputs": [],
   "source": [
    "dummies = pd.get_dummies(df_1_8[\"Вид конкурса\"])\n",
    "dummies = dummies.drop(\"Основные места\", axis=1)\n",
    "dummies = dummies.astype(int)\n",
    "df_1_8 = df_1_8.join(dummies, how='left')\n",
    "\n",
    "dummies = pd.get_dummies(df_1_8[\"Тип олимпиады\"])\n",
    "dummies = dummies.drop(\"Отсутствует\", axis=1)\n",
    "dummies = dummies.astype(int)\n",
    "df_1_8 = df_1_8.join(dummies, how='left')\n",
    "\n",
    "dummies = pd.get_dummies(df_1_8[\"Форма освоения\"])\n",
    "dummies = dummies.drop(\"Очная\", axis=1)\n",
    "dummies = dummies.astype(int)\n",
    "df_1_8 = df_1_8.join(dummies, how='left')\n",
    "\n",
    "dummies = pd.get_dummies(df_1_8[\"Уровень подготовки\"])\n",
    "dummies = dummies.drop(\"Бакалавр\", axis=1)\n",
    "dummies = dummies.astype(int)\n",
    "df_1_8 = df_1_8.join(dummies, how='left')\n",
    "\n",
    "dummies = pd.get_dummies(df_1_8[\"Тип законченного уч. зав.\"])\n",
    "dummies = dummies.drop(\"Школа\", axis=1)\n",
    "dummies = dummies.astype(int)\n",
    "df_1_8 = df_1_8.join(dummies, how='left')\n",
    "\n",
    "dummies = pd.get_dummies(df_1_8[\"Льготы\"])\n",
    "dummies = dummies.drop(\"Отсутствует\", axis=1)\n",
    "dummies = dummies.astype(int)\n",
    "df_1_8 = df_1_8.join(dummies, how='left')\n",
    "\n",
    "dummies = pd.get_dummies(df_1_8[\"citizenship_class\"])\n",
    "dummies = dummies.drop(\"Russia\", axis=1)\n",
    "dummies = dummies.astype(int)\n",
    "df_1_8 = df_1_8.join(dummies, how='left')"
   ]
  },
  {
   "cell_type": "code",
   "execution_count": 63,
   "id": "bd51a0d5-0726-40a1-95e6-d80e653b8c6f",
   "metadata": {},
   "outputs": [],
   "source": [
    "dummies = pd.get_dummies(df_1_8[\"Код направления 1\"])\n",
    "dummies = dummies.drop(9, axis=1)\n",
    "dummies = dummies.rename(columns={10: \"Код направления 1: 10\"})\n",
    "dummies = dummies.rename(columns={11: \"Код направления 1: 11\"})\n",
    "dummies = dummies.rename(columns={27: \"Код направления 1: 27\"})\n",
    "dummies = dummies.rename(columns={29: \"Код направления 1: 29\"})\n",
    "dummies = dummies.astype(int)\n",
    "df_1_8 = df_1_8.join(dummies, how='left')\n",
    "\n",
    "dummies = pd.get_dummies(df_1_8[\"Код направления 3\"])\n",
    "dummies = dummies.drop(1, axis=1)\n",
    "dummies = dummies.rename(columns={2: \"Код направления 3: 2\"})\n",
    "dummies = dummies.rename(columns={3: \"Код направления 3: 3\"})\n",
    "dummies = dummies.rename(columns={4: \"Код направления 3: 4\"})\n",
    "dummies = dummies.astype(int)\n",
    "df_1_8 = df_1_8.join(dummies, how='left')"
   ]
  },
  {
   "cell_type": "code",
   "execution_count": 64,
   "id": "d255a5af-b5da-4e09-8ab6-353dee74d55e",
   "metadata": {},
   "outputs": [],
   "source": [
    "df_1_8 = df_1_8.drop(columns=[\"Тип олимпиады\", \"Вид конкурса\", \"Форма освоения\", \"Уровень подготовки\", \"Тип законченного уч. зав.\", \"Льготы\", \"citizenship_class\", \"Код направления 1\", \"Код направления 3\"])"
   ]
  },
  {
   "cell_type": "code",
   "execution_count": 65,
   "id": "c7f09391-a72a-47c8-9728-a8443ca19413",
   "metadata": {},
   "outputs": [
    {
     "data": {
      "text/plain": [
       "array(['0', '1'], dtype=object)"
      ]
     },
     "execution_count": 65,
     "metadata": {},
     "output_type": "execute_result"
    }
   ],
   "source": [
    "mask = df_1_8[\"Состояние студента\"].isin([\"Отп.акад.\", \"Отп.б.посещ.\", \"Отчислен\"])\n",
    "df_1_8.loc[mask, \"Состояние студента\"] = \"1\"\n",
    "\n",
    "mask = df_1_8[\"Состояние студента\"].isin([\"Активный\", \"Зак. с дипломом\"])\n",
    "df_1_8.loc[mask, \"Состояние студента\"] = \"0\"\n",
    "\n",
    "df_1_8[\"Состояние студента\"].unique()"
   ]
  },
  {
   "cell_type": "code",
   "execution_count": 66,
   "id": "cf815e08-7883-47f6-b9d6-c6ee24f6880b",
   "metadata": {},
   "outputs": [],
   "source": [
    "df_1_8[\"Состояние студента\"] = df_1_8[\"Состояние студента\"].astype(int)\n",
    "df_1_8 = df_1_8.rename(columns={\"Состояние студента\": \"Таргет\"})"
   ]
  },
  {
   "cell_type": "code",
   "execution_count": 67,
   "id": "88a998d1-58bf-4dae-9907-b2e8ef5d070f",
   "metadata": {},
   "outputs": [],
   "source": [
    "save_dataset(df_1_8, '../../data/datasets/subjects_dataset_1_8.csv')"
   ]
  },
  {
   "cell_type": "code",
   "execution_count": 68,
   "id": "9ca54fe1-eb6a-43fc-abc2-e98b6583f986",
   "metadata": {},
   "outputs": [],
   "source": [
    "# Магистры\n",
    "df_magistr = df_1_8[df_1_8[\"Магистр\"] == 1].copy()\n",
    "df_magistr.drop(columns=[\"Магистр\", \"Специалист\"], inplace=True)\n",
    "\n",
    "# Специалисты и бакалавры\n",
    "df_spec_bak = df_1_8[\n",
    "    (df_1_8[\"Специалист\"] == 1) | ((df_1_8[\"Специалист\"] == 0) & (df_1_8[\"Магистр\"] == 0))\n",
    "].copy()\n",
    "df_spec_bak.drop(columns=[\"Магистр\"], inplace=True)\n",
    "\n",
    "save_dataset(df_magistr, \"../../data/datasets/subjects_magistr.csv\")\n",
    "save_dataset(df_spec_bak, '../../data/datasets/subjects_bak_spec.csv')"
   ]
  },
  {
   "cell_type": "code",
   "execution_count": null,
   "id": "faa04f58-e5ed-41f9-974e-3a742768f64e",
   "metadata": {},
   "outputs": [],
   "source": []
  }
 ],
 "metadata": {
  "kernelspec": {
   "display_name": "Python 3 (ipykernel)",
   "language": "python",
   "name": "python3"
  },
  "language_info": {
   "codemirror_mode": {
    "name": "ipython",
    "version": 3
   },
   "file_extension": ".py",
   "mimetype": "text/x-python",
   "name": "python",
   "nbconvert_exporter": "python",
   "pygments_lexer": "ipython3",
   "version": "3.10.16"
  }
 },
 "nbformat": 4,
 "nbformat_minor": 5
}
