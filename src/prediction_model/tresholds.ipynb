{
 "cells": [
  {
   "cell_type": "code",
   "execution_count": null,
   "id": "56f07f21-a243-4721-81fa-22eba4d16d35",
   "metadata": {},
   "outputs": [],
   "source": [
    "y_probs = grid_search.predict_proba(X_test_s_magistr)[:, 1]\n",
    "\n",
    "thresholds = np.linspace(0, 1, 100)\n",
    "f1_scores = []\n",
    "\n",
    "for thresh in thresholds:\n",
    "    y_pred_thresh = (y_probs >= thresh).astype(int)\n",
    "    f1 = f1_score(y_test_s_magistr, y_pred_thresh, pos_label=1)\n",
    "    f1_scores.append(f1)\n",
    "\n",
    "best_idx = np.argmax(f1_scores)\n",
    "best_threshold = thresholds[best_idx]\n",
    "best_f1 = f1_scores[best_idx]\n",
    "\n",
    "print(f\"Лучший порог: {best_threshold:.3f}, F1 для класса 1: {best_f1:.3f}\")"
   ]
  },
  {
   "cell_type": "code",
   "execution_count": null,
   "id": "d85db0cc-df72-4054-822d-610dcc4aa711",
   "metadata": {},
   "outputs": [],
   "source": [
    "optimal_threshold = best_threshold\n",
    "y_pred_optimal = (y_probs >= optimal_threshold).astype(int)\n",
    "\n",
    "print(\"\\nОтчёт классификации с оптимальным порогом:\\n\")\n",
    "print(classification_report(y_test_s_magistr, y_pred_optimal))"
   ]
  },
  {
   "cell_type": "code",
   "execution_count": null,
   "id": "36087ab2-0f8a-4f3f-b7f9-99e30b5147e5",
   "metadata": {},
   "outputs": [],
   "source": [
    "import joblib\n",
    "\n",
    "joblib.dump(best_model, 'model.joblib')\n",
    "\n",
    "with open('optimal_threshold.txt', 'w') as f:\n",
    "    f.write(str(optimal_threshold))"
   ]
  },
  {
   "cell_type": "code",
   "execution_count": null,
   "id": "3c163afc-f04e-4ad5-95a2-ecfb279f6861",
   "metadata": {},
   "outputs": [],
   "source": [
    "model = joblib.load('model.joblib')\n",
    "with open('optimal_threshold.txt', 'r') as f:\n",
    "    threshold = float(f.read())\n",
    "\n",
    "y_probs = model.predict_proba(X_new)[:, 1]\n",
    "y_pred = (y_probs >= threshold).astype(int)"
   ]
  }
 ],
 "metadata": {
  "kernelspec": {
   "display_name": "Python 3 (ipykernel)",
   "language": "python",
   "name": "python3"
  },
  "language_info": {
   "codemirror_mode": {
    "name": "ipython",
    "version": 3
   },
   "file_extension": ".py",
   "mimetype": "text/x-python",
   "name": "python",
   "nbconvert_exporter": "python",
   "pygments_lexer": "ipython3",
   "version": "3.10.16"
  }
 },
 "nbformat": 4,
 "nbformat_minor": 5
}
