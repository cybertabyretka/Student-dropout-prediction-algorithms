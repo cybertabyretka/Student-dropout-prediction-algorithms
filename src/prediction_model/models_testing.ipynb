{
 "cells": [
  {
   "cell_type": "code",
   "execution_count": 1,
   "id": "7497bcf7-4605-48c1-9014-0fc170d74369",
   "metadata": {},
   "outputs": [],
   "source": [
    "import pandas as pd\n",
    "from sklearn.model_selection import train_test_split, GridSearchCV\n",
    "from sklearn.pipeline import Pipeline\n",
    "from sklearn.preprocessing import StandardScaler\n",
    "from sklearn.tree import DecisionTreeClassifier\n",
    "from sklearn.metrics import classification_report, confusion_matrix, ConfusionMatrixDisplay\n",
    "import matplotlib.pyplot as plt\n",
    "import joblib\n",
    "\n",
    "random_state = 42"
   ]
  },
  {
   "cell_type": "code",
   "execution_count": 2,
   "id": "0b1f7f1f-f33d-4a93-b659-85cf51cf2d6b",
   "metadata": {},
   "outputs": [],
   "source": [
    "def read_dataset(path, sep=';', encoding='utf-8-sig', low_memory=False):\n",
    "    return pd.read_csv(path, sep=sep, encoding=encoding, low_memory=low_memory)\n",
    "\n",
    "course_1_bak_spec = read_dataset(\"../../data/datasets/1st_course_bak_spec.csv\")\n",
    "course_1_magistr = read_dataset(\"../../data/datasets/1st_course_magistr.csv\")\n",
    "\n",
    "subjects_bak_spec = read_dataset(\"../../data/datasets/subjects_bak_spec_v2.csv\")\n",
    "subjects_magistr = read_dataset(\"../../data/datasets/subjects_magistr_v2.csv\")"
   ]
  },
  {
   "cell_type": "code",
   "execution_count": 3,
   "id": "a31b3078-7cd1-4f5f-9cb0-4c74e77cd320",
   "metadata": {},
   "outputs": [],
   "source": [
    "X_c1_bak_spec = course_1_bak_spec.drop(columns=[\"Таргет\"])\n",
    "y_c1_bak_spec = course_1_bak_spec[\"Таргет\"]\n",
    "\n",
    "X_train_c1_bak_spec, X_test_c1_bak_spec, y_train_c1_bak_spec, y_test_c1_bak_spec = train_test_split(\n",
    "    X_c1_bak_spec,\n",
    "    y_c1_bak_spec,\n",
    "    test_size=0.2,\n",
    "    random_state=random_state\n",
    ")\n",
    "\n",
    "X_c1_magistr = course_1_magistr.drop(columns=[\"Таргет\"])\n",
    "y_c1_magistr = course_1_magistr[\"Таргет\"]\n",
    "\n",
    "X_train_c1_magistr, X_test_c1_magistr, y_train_c1_magistr, y_test_c1_magistr = train_test_split(\n",
    "    X_c1_magistr,\n",
    "    y_c1_magistr,\n",
    "    test_size=0.2,\n",
    "    random_state=random_state\n",
    ")\n",
    "\n",
    "X_s_bak_spec = subjects_bak_spec.drop(columns=[\"Таргет\"])\n",
    "y_s_bak_spec = subjects_bak_spec[\"Таргет\"]\n",
    "\n",
    "X_train_s_bak_spec, X_test_s_bak_spec, y_train_s_bak_spec, y_test_s_bak_spec = train_test_split(\n",
    "    X_s_bak_spec,\n",
    "    y_s_bak_spec,\n",
    "    test_size=0.2,\n",
    "    random_state=random_state\n",
    ")\n",
    "\n",
    "X_s_magistr = subjects_magistr.drop(columns=[\"Таргет\"])\n",
    "y_s_magistr = subjects_magistr[\"Таргет\"]\n",
    "\n",
    "X_train_s_magistr, X_test_s_magistr, y_train_s_magistr, y_test_s_magistr = train_test_split(\n",
    "    X_s_magistr,\n",
    "    y_s_magistr,\n",
    "    test_size=0.2,\n",
    "    random_state=random_state\n",
    ")"
   ]
  },
  {
   "cell_type": "code",
   "execution_count": 4,
   "id": "65c85b99-2d06-4e8a-941e-77c3acbf57f1",
   "metadata": {},
   "outputs": [
    {
     "name": "stdout",
     "output_type": "stream",
     "text": [
      "Лучшая модель сохранена в best_model.pkl\n",
      "{'clf': DecisionTreeClassifier(), 'clf__class_weight': None, 'clf__criterion': 'gini', 'clf__max_depth': 10, 'clf__min_samples_leaf': 2, 'clf__min_samples_split': 2}\n",
      "Лучшая модель: Pipeline(steps=[('scaler', StandardScaler()),\n",
      "                ('clf',\n",
      "                 DecisionTreeClassifier(max_depth=10, min_samples_leaf=2))])\n",
      "\n",
      "Отчёт классификации:\n",
      "               precision    recall  f1-score   support\n",
      "\n",
      "           0       0.94      0.91      0.93       117\n",
      "           1       0.50      0.59      0.54        17\n",
      "\n",
      "    accuracy                           0.87       134\n",
      "   macro avg       0.72      0.75      0.73       134\n",
      "weighted avg       0.88      0.87      0.88       134\n",
      "\n"
     ]
    },
    {
     "data": {
      "image/png": "[encoded data removed]",
      "text/plain": [
       "<Figure size 640x480 with 2 Axes>"
      ]
     },
     "metadata": {},
     "output_type": "display_data"
    }
   ],
   "source": [
    "pipeline = Pipeline([\n",
    "    ('scaler', StandardScaler()),\n",
    "    ('clf', DecisionTreeClassifier())\n",
    "])\n",
    "\n",
    "param_grid = [\n",
    "    {\n",
    "        'clf': [DecisionTreeClassifier()],\n",
    "        'clf__criterion': ['gini', 'entropy'],\n",
    "        'clf__max_depth': [2, 3, 5, 10, 20, 30, 31, 32, 33, 34, 35, 36, 37, 38, 39, 40],\n",
    "        'clf__min_samples_split': [2, 5, 10, 12, 15],\n",
    "        'clf__min_samples_leaf': [1, 2, 5],\n",
    "        'clf__class_weight': [None, 'balanced']\n",
    "    }\n",
    "]\n",
    "\n",
    "grid_search = GridSearchCV(pipeline, param_grid, cv=5, scoring='f1', n_jobs=-1)\n",
    "grid_search.fit(X_train_s_magistr, y_train_s_magistr)\n",
    "\n",
    "y_pred_s_magistr = grid_search.predict(X_test_s_magistr)\n",
    "\n",
    "best_model = grid_search.best_estimator_\n",
    "joblib.dump(best_model, '../../data/models/dec_tree_model_magistr.pkl')\n",
    "\n",
    "print(\"Лучшая модель сохранена в best_model.pkl\")\n",
    "print(grid_search.best_params_)\n",
    "print(\"Лучшая модель:\", grid_search.best_estimator_)\n",
    "print(\"\\nОтчёт классификации:\\n\", classification_report(y_test_s_magistr, y_pred_s_magistr))\n",
    "\n",
    "cm = confusion_matrix(y_test_s_magistr, y_pred_s_magistr)\n",
    "disp = ConfusionMatrixDisplay(confusion_matrix=cm, display_labels=grid_search.best_estimator_.named_steps['clf'].classes_)\n",
    "disp.plot(cmap=\"Blues\")\n",
    "plt.title(\"Матрица ошибок\")\n",
    "plt.show()"
   ]
  },
  {
   "cell_type": "code",
   "execution_count": 5,
   "id": "ff533d0d-30f6-453a-b306-1f20b3f33818",
   "metadata": {},
   "outputs": [
    {
     "name": "stdout",
     "output_type": "stream",
     "text": [
      "                                            feature  importance\n",
      "11                        Общее количество пересдач    0.337503\n",
      "13                                 Рейтинг студента    0.203746\n",
      "1                            Cумма баллов испытаний    0.158958\n",
      "15                             fromSverdlovskRegion    0.034888\n",
      "12                          Общее количество долгов    0.034257\n",
      "37                            Код направления 1: 29    0.032476\n",
      "39                             Код направления 3: 3    0.032315\n",
      "0                                         Приоритет    0.028754\n",
      "6                             Нуждается в общежитии    0.027965\n",
      "9                  Полных лет на момент поступления    0.027201\n",
      "35                            Код направления 1: 11    0.025526\n",
      "5                                          Контракт    0.018840\n",
      "10             Прошло лет с окончания уч. заведения    0.011739\n",
      "16                          Human Development Index    0.009989\n",
      "14                                 fromEkaterinburg    0.007559\n",
      "36                            Код направления 1: 27    0.007177\n",
      "22                                          Заочная    0.001108\n",
      "8                                               Пол    0.000000\n",
      "7                      Иностранный абитуриент (МОН)    0.000000\n",
      "3                           Балл за инд. достижения    0.000000\n",
      "4                            Категория конкурса БВИ    0.000000\n",
      "2                                               БВИ    0.000000\n",
      "17                                     Особая квота    0.000000\n",
      "19                                    Целевая квота    0.000000\n",
      "18                                  Отдельная квота    0.000000\n",
      "24                            Военное уч. заведение    0.000000\n",
      "23                                     Очно-заочная    0.000000\n",
      "21  олимпиада из перечня, утвержденного МОН РФ (ОШ)    0.000000\n",
      "20         всероссийская олимпиада школьников (ВОШ)    0.000000\n",
      "25                                           Высшее    0.000000\n",
      "26                                 Профильная Школа    0.000000\n",
      "27                                              СПО    0.000000\n",
      "28                                  Боевые действия    0.000000\n",
      "32                                       PostSoviet    0.000000\n",
      "31                                           Сироты    0.000000\n",
      "30                    Квота для иностранных граждан    0.000000\n",
      "29                                         Инвалиды    0.000000\n",
      "33                                           others    0.000000\n",
      "34                            Код направления 1: 10    0.000000\n",
      "38                             Код направления 3: 2    0.000000\n",
      "40                             Код направления 3: 4    0.000000\n"
     ]
    }
   ],
   "source": [
    "clf = grid_search.best_estimator_\n",
    "\n",
    "importances = clf.named_steps['clf'].feature_importances_\n",
    "\n",
    "feature_importances = pd.DataFrame({\n",
    "    'feature': X_train_s_magistr.columns,  \n",
    "    'importance': importances\n",
    "}).sort_values('importance', ascending=False)\n",
    "\n",
    "print(feature_importances)"
   ]
  },
  {
   "cell_type": "code",
   "execution_count": 6,
   "id": "58738ecc-61b4-47e6-a62a-e57e65cae297",
   "metadata": {},
   "outputs": [
    {
     "data": {
      "text/plain": [
       "Приоритет                                          0\n",
       "Cумма баллов испытаний                             0\n",
       "БВИ                                                0\n",
       "Балл за инд. достижения                            0\n",
       "Категория конкурса БВИ                             0\n",
       "Контракт                                           0\n",
       "Нуждается в общежитии                              0\n",
       "Иностранный абитуриент (МОН)                       0\n",
       "Таргет                                             0\n",
       "Пол                                                0\n",
       "Полных лет на момент поступления                   0\n",
       "Прошло лет с окончания уч. заведения               0\n",
       "Общее количество пересдач                          0\n",
       "Общее количество долгов                            0\n",
       "Рейтинг студента                                   0\n",
       "fromEkaterinburg                                   0\n",
       "fromSverdlovskRegion                               0\n",
       "Human Development Index                            0\n",
       "Особая квота                                       0\n",
       "Отдельная квота                                    0\n",
       "Целевая квота                                      0\n",
       "всероссийская олимпиада школьников (ВОШ)           0\n",
       "олимпиада из перечня, утвержденного МОН РФ (ОШ)    0\n",
       "Заочная                                            0\n",
       "Очно-заочная                                       0\n",
       "Военное уч. заведение                              0\n",
       "Высшее                                             0\n",
       "Профильная Школа                                   0\n",
       "СПО                                                0\n",
       "Боевые действия                                    0\n",
       "Инвалиды                                           0\n",
       "Квота для иностранных граждан                      0\n",
       "Сироты                                             0\n",
       "PostSoviet                                         0\n",
       "others                                             0\n",
       "Код направления 1: 10                              0\n",
       "Код направления 1: 11                              0\n",
       "Код направления 1: 27                              0\n",
       "Код направления 1: 29                              0\n",
       "Код направления 3: 2                               0\n",
       "Код направления 3: 3                               0\n",
       "Код направления 3: 4                               0\n",
       "dtype: int64"
      ]
     },
     "execution_count": 6,
     "metadata": {},
     "output_type": "execute_result"
    }
   ],
   "source": [
    "subjects_magistr.isna().sum()"
   ]
  },
  {
   "cell_type": "code",
   "execution_count": null,
   "id": "455313d3-3b92-4cb9-8433-97a614183fd2",
   "metadata": {},
   "outputs": [],
   "source": []
  }
 ],
 "metadata": {
  "kernelspec": {
   "display_name": "Python 3 (ipykernel)",
   "language": "python",
   "name": "python3"
  },
  "language_info": {
   "codemirror_mode": {
    "name": "ipython",
    "version": 3
   },
   "file_extension": ".py",
   "mimetype": "text/x-python",
   "name": "python",
   "nbconvert_exporter": "python",
   "pygments_lexer": "ipython3",
   "version": "3.10.16"
  }
 },
 "nbformat": 4,
 "nbformat_minor": 5
}
